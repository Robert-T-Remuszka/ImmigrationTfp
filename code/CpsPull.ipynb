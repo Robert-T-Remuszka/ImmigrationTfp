{
 "cells": [
  {
   "cell_type": "code",
   "execution_count": 7,
   "metadata": {},
   "outputs": [],
   "source": [
    "import pandas as pd\n",
    "import numpy as np\n",
    "from ipumspy import IpumsApiClient, MicrodataExtract\n",
    "from Credentials import MyCredentials\n",
    "from Functions import Paths as P\n",
    "from pathlib import Path\n",
    "\n",
    "CpsDir = Path(P['cps'])\n",
    "\n",
    "# Connect to API\n",
    "ipums = IpumsApiClient(MyCredentials['IpumsApiKey'])"
   ]
  },
  {
   "cell_type": "markdown",
   "metadata": {},
   "source": [
    "# What This Notebook Does\n",
    "Pulling CPS-ASEC years from 1994 to 1999."
   ]
  },
  {
   "cell_type": "code",
   "execution_count": 8,
   "metadata": {},
   "outputs": [
    {
     "name": "stdout",
     "output_type": "stream",
     "text": [
      "Creating and Downloading Extract: cps1994_03s\n",
      "Creating and Downloading Extract: cps1995_03s\n",
      "Creating and Downloading Extract: cps1996_03s\n",
      "Creating and Downloading Extract: cps1997_03s\n",
      "Creating and Downloading Extract: cps1998_03s\n",
      "Creating and Downloading Extract: cps1999_03s\n",
      "Creating and Downloading Extract: cps2023_03s\n",
      "Creating and Downloading Extract: cps2024_03s\n"
     ]
    }
   ],
   "source": [
    "# A list of Cps-Asec sample IDs we extract\n",
    "SampleList = ['cps' + str(year) + '_03s' for year in range(1994,2000)] + ['cps2023_03s', 'cps2024_03s']\n",
    "\n",
    "# Varibles to be included\n",
    "Vars = ['STATEFIP',                          # Geographic\n",
    "        'CITIZEN', 'BPL',                    # Citizenship/Nativity\n",
    "        'AGE',                               # Demographics\n",
    "        'OCC', 'IND1990', 'OCC1990', 'OCC2010',  # Work\n",
    "        'UHRSWORKT',                         # Work\n",
    "        'EDUC'                               # Education \n",
    "        ]\n",
    "\n",
    "for samp in SampleList:\n",
    "    print('Creating and Downloading Extract: ' + samp)\n",
    "    extract = MicrodataExtract('cps', [samp], Vars)\n",
    "    ipums.submit_extract(extract)\n",
    "    ipums.wait_for_extract(extract)\n",
    "    ipums.download_extract(extract,download_dir=CpsDir)"
   ]
  }
 ],
 "metadata": {
  "kernelspec": {
   "display_name": "ImmigrationTfp",
   "language": "python",
   "name": "python3"
  },
  "language_info": {
   "codemirror_mode": {
    "name": "ipython",
    "version": 3
   },
   "file_extension": ".py",
   "mimetype": "text/x-python",
   "name": "python",
   "nbconvert_exporter": "python",
   "pygments_lexer": "ipython3",
   "version": "3.12.8"
  }
 },
 "nbformat": 4,
 "nbformat_minor": 2
}
