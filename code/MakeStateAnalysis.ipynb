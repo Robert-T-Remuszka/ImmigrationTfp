{
 "cells": [
  {
   "cell_type": "markdown",
   "metadata": {},
   "source": [
    "# What This Notebook Does\n",
    "This notebook creates the state level analysis file for the period 1994 to 2023 by combining data from ACS and CPS IPUMS extracts for those years. State level GDP over the corresponding period come from the BEA's [United States Regional Economic Analysis Project](https://united-states.reaproject.org/), which I downloaded manually from their site."
   ]
  },
  {
   "cell_type": "code",
   "execution_count": 1,
   "metadata": {},
   "outputs": [],
   "source": [
    "%load_ext autoreload\n",
    "%autoreload 2\n",
    "import pandas as pd\n",
    "import numpy as np\n",
    "from ipumspy import readers, ddi\n",
    "from Credentials import MyCredentials\n",
    "from Functions import *\n",
    "from pathlib import Path"
   ]
  },
  {
   "cell_type": "markdown",
   "metadata": {},
   "source": [
    "# ACS"
   ]
  },
  {
   "cell_type": "code",
   "execution_count": 2,
   "metadata": {},
   "outputs": [
    {
     "name": "stderr",
     "output_type": "stream",
     "text": [
      "/home/r/remuszka/.conda/envs/ImmigrationTfp/lib/python3.12/site-packages/ipumspy/readers.py:70: CitationWarning: Use of data from IPUMS is subject to conditions including that users should cite the data appropriately.\n",
      "See the `ipums_conditions` attribute of this codebook for terms of use.\n",
      "See the `ipums_citation` attribute of this codebook for the appropriate citation.\n",
      "  warnings.warn(\n"
     ]
    },
    {
     "name": "stdout",
     "output_type": "stream",
     "text": [
      "\n",
      "**********************************************************************\n",
      "Working file ../data/acs/usa_00178.xml corresponding to sample 2000\n",
      "**********************************************************************\n",
      "\n"
     ]
    },
    {
     "name": "stderr",
     "output_type": "stream",
     "text": [
      "/tmp/ipykernel_3839209/1976705884.py:47: DeprecationWarning: DataFrameGroupBy.apply operated on the grouping columns. This behavior is deprecated, and in a future version of pandas the grouping columns will be excluded from the operation. Either pass `include_groups=False` to exclude the groupings or explicitly select the grouping columns after groupby to silence this warning.\n",
      "  .apply(lambda x: pd.Series({\n",
      "/home/r/remuszka/.conda/envs/ImmigrationTfp/lib/python3.12/site-packages/ipumspy/readers.py:70: CitationWarning: Use of data from IPUMS is subject to conditions including that users should cite the data appropriately.\n",
      "See the `ipums_conditions` attribute of this codebook for terms of use.\n",
      "See the `ipums_citation` attribute of this codebook for the appropriate citation.\n",
      "  warnings.warn(\n"
     ]
    },
    {
     "name": "stdout",
     "output_type": "stream",
     "text": [
      "\n",
      "**********************************************************************\n",
      "Working file ../data/acs/usa_00179.xml corresponding to sample 2001\n",
      "**********************************************************************\n",
      "\n"
     ]
    },
    {
     "name": "stderr",
     "output_type": "stream",
     "text": [
      "/tmp/ipykernel_3839209/1976705884.py:47: DeprecationWarning: DataFrameGroupBy.apply operated on the grouping columns. This behavior is deprecated, and in a future version of pandas the grouping columns will be excluded from the operation. Either pass `include_groups=False` to exclude the groupings or explicitly select the grouping columns after groupby to silence this warning.\n",
      "  .apply(lambda x: pd.Series({\n",
      "/home/r/remuszka/.conda/envs/ImmigrationTfp/lib/python3.12/site-packages/ipumspy/readers.py:70: CitationWarning: Use of data from IPUMS is subject to conditions including that users should cite the data appropriately.\n",
      "See the `ipums_conditions` attribute of this codebook for terms of use.\n",
      "See the `ipums_citation` attribute of this codebook for the appropriate citation.\n",
      "  warnings.warn(\n"
     ]
    },
    {
     "name": "stdout",
     "output_type": "stream",
     "text": [
      "\n",
      "**********************************************************************\n",
      "Working file ../data/acs/usa_00180.xml corresponding to sample 2002\n",
      "**********************************************************************\n",
      "\n"
     ]
    },
    {
     "name": "stderr",
     "output_type": "stream",
     "text": [
      "/tmp/ipykernel_3839209/1976705884.py:47: DeprecationWarning: DataFrameGroupBy.apply operated on the grouping columns. This behavior is deprecated, and in a future version of pandas the grouping columns will be excluded from the operation. Either pass `include_groups=False` to exclude the groupings or explicitly select the grouping columns after groupby to silence this warning.\n",
      "  .apply(lambda x: pd.Series({\n",
      "/home/r/remuszka/.conda/envs/ImmigrationTfp/lib/python3.12/site-packages/ipumspy/readers.py:70: CitationWarning: Use of data from IPUMS is subject to conditions including that users should cite the data appropriately.\n",
      "See the `ipums_conditions` attribute of this codebook for terms of use.\n",
      "See the `ipums_citation` attribute of this codebook for the appropriate citation.\n",
      "  warnings.warn(\n"
     ]
    },
    {
     "name": "stdout",
     "output_type": "stream",
     "text": [
      "\n",
      "**********************************************************************\n",
      "Working file ../data/acs/usa_00181.xml corresponding to sample 2003\n",
      "**********************************************************************\n",
      "\n"
     ]
    },
    {
     "name": "stderr",
     "output_type": "stream",
     "text": [
      "/tmp/ipykernel_3839209/1976705884.py:47: DeprecationWarning: DataFrameGroupBy.apply operated on the grouping columns. This behavior is deprecated, and in a future version of pandas the grouping columns will be excluded from the operation. Either pass `include_groups=False` to exclude the groupings or explicitly select the grouping columns after groupby to silence this warning.\n",
      "  .apply(lambda x: pd.Series({\n",
      "/home/r/remuszka/.conda/envs/ImmigrationTfp/lib/python3.12/site-packages/ipumspy/readers.py:70: CitationWarning: Use of data from IPUMS is subject to conditions including that users should cite the data appropriately.\n",
      "See the `ipums_conditions` attribute of this codebook for terms of use.\n",
      "See the `ipums_citation` attribute of this codebook for the appropriate citation.\n",
      "  warnings.warn(\n"
     ]
    },
    {
     "name": "stdout",
     "output_type": "stream",
     "text": [
      "\n",
      "**********************************************************************\n",
      "Working file ../data/acs/usa_00182.xml corresponding to sample 2004\n",
      "**********************************************************************\n",
      "\n"
     ]
    },
    {
     "name": "stderr",
     "output_type": "stream",
     "text": [
      "/tmp/ipykernel_3839209/1976705884.py:47: DeprecationWarning: DataFrameGroupBy.apply operated on the grouping columns. This behavior is deprecated, and in a future version of pandas the grouping columns will be excluded from the operation. Either pass `include_groups=False` to exclude the groupings or explicitly select the grouping columns after groupby to silence this warning.\n",
      "  .apply(lambda x: pd.Series({\n",
      "/home/r/remuszka/.conda/envs/ImmigrationTfp/lib/python3.12/site-packages/ipumspy/readers.py:70: CitationWarning: Use of data from IPUMS is subject to conditions including that users should cite the data appropriately.\n",
      "See the `ipums_conditions` attribute of this codebook for terms of use.\n",
      "See the `ipums_citation` attribute of this codebook for the appropriate citation.\n",
      "  warnings.warn(\n"
     ]
    },
    {
     "name": "stdout",
     "output_type": "stream",
     "text": [
      "\n",
      "**********************************************************************\n",
      "Working file ../data/acs/usa_00183.xml corresponding to sample 2005\n",
      "**********************************************************************\n",
      "\n"
     ]
    },
    {
     "name": "stderr",
     "output_type": "stream",
     "text": [
      "/tmp/ipykernel_3839209/1976705884.py:47: DeprecationWarning: DataFrameGroupBy.apply operated on the grouping columns. This behavior is deprecated, and in a future version of pandas the grouping columns will be excluded from the operation. Either pass `include_groups=False` to exclude the groupings or explicitly select the grouping columns after groupby to silence this warning.\n",
      "  .apply(lambda x: pd.Series({\n",
      "/home/r/remuszka/.conda/envs/ImmigrationTfp/lib/python3.12/site-packages/ipumspy/readers.py:70: CitationWarning: Use of data from IPUMS is subject to conditions including that users should cite the data appropriately.\n",
      "See the `ipums_conditions` attribute of this codebook for terms of use.\n",
      "See the `ipums_citation` attribute of this codebook for the appropriate citation.\n",
      "  warnings.warn(\n"
     ]
    },
    {
     "name": "stdout",
     "output_type": "stream",
     "text": [
      "\n",
      "**********************************************************************\n",
      "Working file ../data/acs/usa_00184.xml corresponding to sample 2006\n",
      "**********************************************************************\n",
      "\n"
     ]
    },
    {
     "name": "stderr",
     "output_type": "stream",
     "text": [
      "/tmp/ipykernel_3839209/1976705884.py:47: DeprecationWarning: DataFrameGroupBy.apply operated on the grouping columns. This behavior is deprecated, and in a future version of pandas the grouping columns will be excluded from the operation. Either pass `include_groups=False` to exclude the groupings or explicitly select the grouping columns after groupby to silence this warning.\n",
      "  .apply(lambda x: pd.Series({\n",
      "/home/r/remuszka/.conda/envs/ImmigrationTfp/lib/python3.12/site-packages/ipumspy/readers.py:70: CitationWarning: Use of data from IPUMS is subject to conditions including that users should cite the data appropriately.\n",
      "See the `ipums_conditions` attribute of this codebook for terms of use.\n",
      "See the `ipums_citation` attribute of this codebook for the appropriate citation.\n",
      "  warnings.warn(\n"
     ]
    },
    {
     "name": "stdout",
     "output_type": "stream",
     "text": [
      "\n",
      "**********************************************************************\n",
      "Working file ../data/acs/usa_00185.xml corresponding to sample 2007\n",
      "**********************************************************************\n",
      "\n"
     ]
    },
    {
     "name": "stderr",
     "output_type": "stream",
     "text": [
      "/tmp/ipykernel_3839209/1976705884.py:47: DeprecationWarning: DataFrameGroupBy.apply operated on the grouping columns. This behavior is deprecated, and in a future version of pandas the grouping columns will be excluded from the operation. Either pass `include_groups=False` to exclude the groupings or explicitly select the grouping columns after groupby to silence this warning.\n",
      "  .apply(lambda x: pd.Series({\n",
      "/home/r/remuszka/.conda/envs/ImmigrationTfp/lib/python3.12/site-packages/ipumspy/readers.py:70: CitationWarning: Use of data from IPUMS is subject to conditions including that users should cite the data appropriately.\n",
      "See the `ipums_conditions` attribute of this codebook for terms of use.\n",
      "See the `ipums_citation` attribute of this codebook for the appropriate citation.\n",
      "  warnings.warn(\n"
     ]
    },
    {
     "name": "stdout",
     "output_type": "stream",
     "text": [
      "\n",
      "**********************************************************************\n",
      "Working file ../data/acs/usa_00186.xml corresponding to sample 2008\n",
      "**********************************************************************\n",
      "\n"
     ]
    },
    {
     "name": "stderr",
     "output_type": "stream",
     "text": [
      "/tmp/ipykernel_3839209/1976705884.py:47: DeprecationWarning: DataFrameGroupBy.apply operated on the grouping columns. This behavior is deprecated, and in a future version of pandas the grouping columns will be excluded from the operation. Either pass `include_groups=False` to exclude the groupings or explicitly select the grouping columns after groupby to silence this warning.\n",
      "  .apply(lambda x: pd.Series({\n",
      "/home/r/remuszka/.conda/envs/ImmigrationTfp/lib/python3.12/site-packages/ipumspy/readers.py:70: CitationWarning: Use of data from IPUMS is subject to conditions including that users should cite the data appropriately.\n",
      "See the `ipums_conditions` attribute of this codebook for terms of use.\n",
      "See the `ipums_citation` attribute of this codebook for the appropriate citation.\n",
      "  warnings.warn(\n"
     ]
    },
    {
     "name": "stdout",
     "output_type": "stream",
     "text": [
      "\n",
      "**********************************************************************\n",
      "Working file ../data/acs/usa_00187.xml corresponding to sample 2009\n",
      "**********************************************************************\n",
      "\n"
     ]
    },
    {
     "name": "stderr",
     "output_type": "stream",
     "text": [
      "/tmp/ipykernel_3839209/1976705884.py:47: DeprecationWarning: DataFrameGroupBy.apply operated on the grouping columns. This behavior is deprecated, and in a future version of pandas the grouping columns will be excluded from the operation. Either pass `include_groups=False` to exclude the groupings or explicitly select the grouping columns after groupby to silence this warning.\n",
      "  .apply(lambda x: pd.Series({\n",
      "/home/r/remuszka/.conda/envs/ImmigrationTfp/lib/python3.12/site-packages/ipumspy/readers.py:70: CitationWarning: Use of data from IPUMS is subject to conditions including that users should cite the data appropriately.\n",
      "See the `ipums_conditions` attribute of this codebook for terms of use.\n",
      "See the `ipums_citation` attribute of this codebook for the appropriate citation.\n",
      "  warnings.warn(\n"
     ]
    },
    {
     "name": "stdout",
     "output_type": "stream",
     "text": [
      "\n",
      "**********************************************************************\n",
      "Working file ../data/acs/usa_00188.xml corresponding to sample 2010\n",
      "**********************************************************************\n",
      "\n"
     ]
    },
    {
     "name": "stderr",
     "output_type": "stream",
     "text": [
      "/tmp/ipykernel_3839209/1976705884.py:47: DeprecationWarning: DataFrameGroupBy.apply operated on the grouping columns. This behavior is deprecated, and in a future version of pandas the grouping columns will be excluded from the operation. Either pass `include_groups=False` to exclude the groupings or explicitly select the grouping columns after groupby to silence this warning.\n",
      "  .apply(lambda x: pd.Series({\n",
      "/home/r/remuszka/.conda/envs/ImmigrationTfp/lib/python3.12/site-packages/ipumspy/readers.py:70: CitationWarning: Use of data from IPUMS is subject to conditions including that users should cite the data appropriately.\n",
      "See the `ipums_conditions` attribute of this codebook for terms of use.\n",
      "See the `ipums_citation` attribute of this codebook for the appropriate citation.\n",
      "  warnings.warn(\n"
     ]
    },
    {
     "name": "stdout",
     "output_type": "stream",
     "text": [
      "\n",
      "**********************************************************************\n",
      "Working file ../data/acs/usa_00189.xml corresponding to sample 2011\n",
      "**********************************************************************\n",
      "\n"
     ]
    },
    {
     "name": "stderr",
     "output_type": "stream",
     "text": [
      "/tmp/ipykernel_3839209/1976705884.py:47: DeprecationWarning: DataFrameGroupBy.apply operated on the grouping columns. This behavior is deprecated, and in a future version of pandas the grouping columns will be excluded from the operation. Either pass `include_groups=False` to exclude the groupings or explicitly select the grouping columns after groupby to silence this warning.\n",
      "  .apply(lambda x: pd.Series({\n",
      "/home/r/remuszka/.conda/envs/ImmigrationTfp/lib/python3.12/site-packages/ipumspy/readers.py:70: CitationWarning: Use of data from IPUMS is subject to conditions including that users should cite the data appropriately.\n",
      "See the `ipums_conditions` attribute of this codebook for terms of use.\n",
      "See the `ipums_citation` attribute of this codebook for the appropriate citation.\n",
      "  warnings.warn(\n"
     ]
    },
    {
     "name": "stdout",
     "output_type": "stream",
     "text": [
      "\n",
      "**********************************************************************\n",
      "Working file ../data/acs/usa_00190.xml corresponding to sample 2012\n",
      "**********************************************************************\n",
      "\n"
     ]
    },
    {
     "name": "stderr",
     "output_type": "stream",
     "text": [
      "/tmp/ipykernel_3839209/1976705884.py:47: DeprecationWarning: DataFrameGroupBy.apply operated on the grouping columns. This behavior is deprecated, and in a future version of pandas the grouping columns will be excluded from the operation. Either pass `include_groups=False` to exclude the groupings or explicitly select the grouping columns after groupby to silence this warning.\n",
      "  .apply(lambda x: pd.Series({\n",
      "/home/r/remuszka/.conda/envs/ImmigrationTfp/lib/python3.12/site-packages/ipumspy/readers.py:70: CitationWarning: Use of data from IPUMS is subject to conditions including that users should cite the data appropriately.\n",
      "See the `ipums_conditions` attribute of this codebook for terms of use.\n",
      "See the `ipums_citation` attribute of this codebook for the appropriate citation.\n",
      "  warnings.warn(\n"
     ]
    },
    {
     "name": "stdout",
     "output_type": "stream",
     "text": [
      "\n",
      "**********************************************************************\n",
      "Working file ../data/acs/usa_00191.xml corresponding to sample 2013\n",
      "**********************************************************************\n",
      "\n"
     ]
    },
    {
     "name": "stderr",
     "output_type": "stream",
     "text": [
      "/tmp/ipykernel_3839209/1976705884.py:47: DeprecationWarning: DataFrameGroupBy.apply operated on the grouping columns. This behavior is deprecated, and in a future version of pandas the grouping columns will be excluded from the operation. Either pass `include_groups=False` to exclude the groupings or explicitly select the grouping columns after groupby to silence this warning.\n",
      "  .apply(lambda x: pd.Series({\n",
      "/home/r/remuszka/.conda/envs/ImmigrationTfp/lib/python3.12/site-packages/ipumspy/readers.py:70: CitationWarning: Use of data from IPUMS is subject to conditions including that users should cite the data appropriately.\n",
      "See the `ipums_conditions` attribute of this codebook for terms of use.\n",
      "See the `ipums_citation` attribute of this codebook for the appropriate citation.\n",
      "  warnings.warn(\n"
     ]
    },
    {
     "name": "stdout",
     "output_type": "stream",
     "text": [
      "\n",
      "**********************************************************************\n",
      "Working file ../data/acs/usa_00192.xml corresponding to sample 2014\n",
      "**********************************************************************\n",
      "\n"
     ]
    },
    {
     "name": "stderr",
     "output_type": "stream",
     "text": [
      "/tmp/ipykernel_3839209/1976705884.py:47: DeprecationWarning: DataFrameGroupBy.apply operated on the grouping columns. This behavior is deprecated, and in a future version of pandas the grouping columns will be excluded from the operation. Either pass `include_groups=False` to exclude the groupings or explicitly select the grouping columns after groupby to silence this warning.\n",
      "  .apply(lambda x: pd.Series({\n",
      "/home/r/remuszka/.conda/envs/ImmigrationTfp/lib/python3.12/site-packages/ipumspy/readers.py:70: CitationWarning: Use of data from IPUMS is subject to conditions including that users should cite the data appropriately.\n",
      "See the `ipums_conditions` attribute of this codebook for terms of use.\n",
      "See the `ipums_citation` attribute of this codebook for the appropriate citation.\n",
      "  warnings.warn(\n"
     ]
    },
    {
     "name": "stdout",
     "output_type": "stream",
     "text": [
      "\n",
      "**********************************************************************\n",
      "Working file ../data/acs/usa_00193.xml corresponding to sample 2015\n",
      "**********************************************************************\n",
      "\n"
     ]
    },
    {
     "name": "stderr",
     "output_type": "stream",
     "text": [
      "/tmp/ipykernel_3839209/1976705884.py:47: DeprecationWarning: DataFrameGroupBy.apply operated on the grouping columns. This behavior is deprecated, and in a future version of pandas the grouping columns will be excluded from the operation. Either pass `include_groups=False` to exclude the groupings or explicitly select the grouping columns after groupby to silence this warning.\n",
      "  .apply(lambda x: pd.Series({\n",
      "/home/r/remuszka/.conda/envs/ImmigrationTfp/lib/python3.12/site-packages/ipumspy/readers.py:70: CitationWarning: Use of data from IPUMS is subject to conditions including that users should cite the data appropriately.\n",
      "See the `ipums_conditions` attribute of this codebook for terms of use.\n",
      "See the `ipums_citation` attribute of this codebook for the appropriate citation.\n",
      "  warnings.warn(\n"
     ]
    },
    {
     "name": "stdout",
     "output_type": "stream",
     "text": [
      "\n",
      "**********************************************************************\n",
      "Working file ../data/acs/usa_00194.xml corresponding to sample 2016\n",
      "**********************************************************************\n",
      "\n"
     ]
    },
    {
     "name": "stderr",
     "output_type": "stream",
     "text": [
      "/tmp/ipykernel_3839209/1976705884.py:47: DeprecationWarning: DataFrameGroupBy.apply operated on the grouping columns. This behavior is deprecated, and in a future version of pandas the grouping columns will be excluded from the operation. Either pass `include_groups=False` to exclude the groupings or explicitly select the grouping columns after groupby to silence this warning.\n",
      "  .apply(lambda x: pd.Series({\n",
      "/home/r/remuszka/.conda/envs/ImmigrationTfp/lib/python3.12/site-packages/ipumspy/readers.py:70: CitationWarning: Use of data from IPUMS is subject to conditions including that users should cite the data appropriately.\n",
      "See the `ipums_conditions` attribute of this codebook for terms of use.\n",
      "See the `ipums_citation` attribute of this codebook for the appropriate citation.\n",
      "  warnings.warn(\n"
     ]
    },
    {
     "name": "stdout",
     "output_type": "stream",
     "text": [
      "\n",
      "**********************************************************************\n",
      "Working file ../data/acs/usa_00195.xml corresponding to sample 2017\n",
      "**********************************************************************\n",
      "\n"
     ]
    },
    {
     "name": "stderr",
     "output_type": "stream",
     "text": [
      "/tmp/ipykernel_3839209/1976705884.py:47: DeprecationWarning: DataFrameGroupBy.apply operated on the grouping columns. This behavior is deprecated, and in a future version of pandas the grouping columns will be excluded from the operation. Either pass `include_groups=False` to exclude the groupings or explicitly select the grouping columns after groupby to silence this warning.\n",
      "  .apply(lambda x: pd.Series({\n",
      "/home/r/remuszka/.conda/envs/ImmigrationTfp/lib/python3.12/site-packages/ipumspy/readers.py:70: CitationWarning: Use of data from IPUMS is subject to conditions including that users should cite the data appropriately.\n",
      "See the `ipums_conditions` attribute of this codebook for terms of use.\n",
      "See the `ipums_citation` attribute of this codebook for the appropriate citation.\n",
      "  warnings.warn(\n"
     ]
    },
    {
     "name": "stdout",
     "output_type": "stream",
     "text": [
      "\n",
      "**********************************************************************\n",
      "Working file ../data/acs/usa_00196.xml corresponding to sample 2018\n",
      "**********************************************************************\n",
      "\n"
     ]
    },
    {
     "name": "stderr",
     "output_type": "stream",
     "text": [
      "/tmp/ipykernel_3839209/1976705884.py:47: DeprecationWarning: DataFrameGroupBy.apply operated on the grouping columns. This behavior is deprecated, and in a future version of pandas the grouping columns will be excluded from the operation. Either pass `include_groups=False` to exclude the groupings or explicitly select the grouping columns after groupby to silence this warning.\n",
      "  .apply(lambda x: pd.Series({\n",
      "/home/r/remuszka/.conda/envs/ImmigrationTfp/lib/python3.12/site-packages/ipumspy/readers.py:70: CitationWarning: Use of data from IPUMS is subject to conditions including that users should cite the data appropriately.\n",
      "See the `ipums_conditions` attribute of this codebook for terms of use.\n",
      "See the `ipums_citation` attribute of this codebook for the appropriate citation.\n",
      "  warnings.warn(\n"
     ]
    },
    {
     "name": "stdout",
     "output_type": "stream",
     "text": [
      "\n",
      "**********************************************************************\n",
      "Working file ../data/acs/usa_00197.xml corresponding to sample 2019\n",
      "**********************************************************************\n",
      "\n"
     ]
    },
    {
     "name": "stderr",
     "output_type": "stream",
     "text": [
      "/tmp/ipykernel_3839209/1976705884.py:47: DeprecationWarning: DataFrameGroupBy.apply operated on the grouping columns. This behavior is deprecated, and in a future version of pandas the grouping columns will be excluded from the operation. Either pass `include_groups=False` to exclude the groupings or explicitly select the grouping columns after groupby to silence this warning.\n",
      "  .apply(lambda x: pd.Series({\n",
      "/home/r/remuszka/.conda/envs/ImmigrationTfp/lib/python3.12/site-packages/ipumspy/readers.py:70: CitationWarning: Use of data from IPUMS is subject to conditions including that users should cite the data appropriately.\n",
      "See the `ipums_conditions` attribute of this codebook for terms of use.\n",
      "See the `ipums_citation` attribute of this codebook for the appropriate citation.\n",
      "  warnings.warn(\n"
     ]
    },
    {
     "name": "stdout",
     "output_type": "stream",
     "text": [
      "\n",
      "**********************************************************************\n",
      "Working file ../data/acs/usa_00198.xml corresponding to sample 2020\n",
      "**********************************************************************\n",
      "\n"
     ]
    },
    {
     "name": "stderr",
     "output_type": "stream",
     "text": [
      "/tmp/ipykernel_3839209/1976705884.py:47: DeprecationWarning: DataFrameGroupBy.apply operated on the grouping columns. This behavior is deprecated, and in a future version of pandas the grouping columns will be excluded from the operation. Either pass `include_groups=False` to exclude the groupings or explicitly select the grouping columns after groupby to silence this warning.\n",
      "  .apply(lambda x: pd.Series({\n",
      "/home/r/remuszka/.conda/envs/ImmigrationTfp/lib/python3.12/site-packages/ipumspy/readers.py:70: CitationWarning: Use of data from IPUMS is subject to conditions including that users should cite the data appropriately.\n",
      "See the `ipums_conditions` attribute of this codebook for terms of use.\n",
      "See the `ipums_citation` attribute of this codebook for the appropriate citation.\n",
      "  warnings.warn(\n"
     ]
    },
    {
     "name": "stdout",
     "output_type": "stream",
     "text": [
      "\n",
      "**********************************************************************\n",
      "Working file ../data/acs/usa_00199.xml corresponding to sample 2021\n",
      "**********************************************************************\n",
      "\n"
     ]
    },
    {
     "name": "stderr",
     "output_type": "stream",
     "text": [
      "/tmp/ipykernel_3839209/1976705884.py:47: DeprecationWarning: DataFrameGroupBy.apply operated on the grouping columns. This behavior is deprecated, and in a future version of pandas the grouping columns will be excluded from the operation. Either pass `include_groups=False` to exclude the groupings or explicitly select the grouping columns after groupby to silence this warning.\n",
      "  .apply(lambda x: pd.Series({\n",
      "/home/r/remuszka/.conda/envs/ImmigrationTfp/lib/python3.12/site-packages/ipumspy/readers.py:70: CitationWarning: Use of data from IPUMS is subject to conditions including that users should cite the data appropriately.\n",
      "See the `ipums_conditions` attribute of this codebook for terms of use.\n",
      "See the `ipums_citation` attribute of this codebook for the appropriate citation.\n",
      "  warnings.warn(\n"
     ]
    },
    {
     "name": "stdout",
     "output_type": "stream",
     "text": [
      "\n",
      "**********************************************************************\n",
      "Working file ../data/acs/usa_00200.xml corresponding to sample 2022\n",
      "**********************************************************************\n",
      "\n"
     ]
    },
    {
     "name": "stderr",
     "output_type": "stream",
     "text": [
      "/tmp/ipykernel_3839209/1976705884.py:47: DeprecationWarning: DataFrameGroupBy.apply operated on the grouping columns. This behavior is deprecated, and in a future version of pandas the grouping columns will be excluded from the operation. Either pass `include_groups=False` to exclude the groupings or explicitly select the grouping columns after groupby to silence this warning.\n",
      "  .apply(lambda x: pd.Series({\n"
     ]
    }
   ],
   "source": [
    "# Initialize\n",
    "StateDfAcs = pd.DataFrame()\n",
    "IndividualDfAcs = pd.DataFrame()\n",
    "\n",
    "# Create a path object to the data\n",
    "DataDir = Path(Paths['acs'])\n",
    "\n",
    "# Construct file list\n",
    "Files = list(DataDir.glob(\"*.xml\"))\n",
    "\n",
    "for f in Files:\n",
    "    \n",
    "    # Get the Data dictionary\n",
    "    ddi = readers.read_ipums_ddi(f)\n",
    "    df = readers.read_microdata(ddi, DataDir / ddi.file_description.filename)\n",
    "    print('\\n**********************************************************************\\n' +\n",
    "    f'Working file {f} corresponding to sample ' + str(df['YEAR'][0]) +\n",
    "    '\\n**********************************************************************\\n')\n",
    "    # Read data in and do some cleaning\n",
    "    acs_df = (df\n",
    "            .rename(columns=lambda x: x.lower())\n",
    "            .pipe(lambda x: x[~x['uhrswork'].isin([0])])          # Dropping all the observations with no hours, or unable to report hours\n",
    "            .drop(columns=['bpl'])\n",
    "            .rename(columns={'bpld':'bpl'})\n",
    "            .assign(bpl = lambda x: x['bpl'].astype(str))         # Change this to string\n",
    "            .assign(bpl = lambda x: x['bpl'].str.zfill(5))        # Uniform length 5\n",
    "            .pipe(lambda x: x[~x['bpl'].str[0].isin(['8','9'])])  # Dropping those we can't identify a country of origin for\n",
    "            .pipe(lambda x: x[x['uhrswork'] >= 35])               # Keep the full time workers\n",
    "            .pipe(lambda x: x[x['age'] != 999])                   # Missing age\n",
    "            .pipe(lambda x: x[x['age'] >= 16])                    # Drop if below the age of 16\n",
    "            .pipe(lambda x: x[x['citizen'] != 9])                 # Drop not in universe for citizen variable\n",
    "            .assign(incwage = lambda x: x['incwage'].replace([999999,999998],np.NaN))\n",
    "            .assign(year = lambda x: pd.to_datetime(x['year'],format='%Y'))\n",
    "            .pipe(lambda x: x[x['citizen'] != 9])                 # Drop the \"not in univerese codes\"\n",
    "            .assign(ImmigrantGroup = lambda x: x['bpl'].apply(ImmigrantGroup)) # Assign immigrant groups following Peri 2012\n",
    "            .assign(foreign = lambda x: (x['citizen'] != 0).astype(int))\n",
    "            .pipe(lambda x: x.loc[:,['perwt','uhrswork','foreign','statefip','year','ImmigrantGroup','incwage',\n",
    "                                     'occ','occsoc','educ','age']])\n",
    "            )\n",
    "\n",
    "    IndividualDfAcs = pd.concat([IndividualDfAcs,acs_df]) # Save the individual level data\n",
    "    acs_df = acs_df.drop(columns=['occ','occsoc','educ','age']) # Drop these for the aggregation\n",
    "\n",
    "    # Create State-ImmigrantGroup table\n",
    "    acs_collapse = (acs_df\n",
    "                    .groupby(['ImmigrantGroup','foreign','statefip','year'])\n",
    "                    .apply(lambda x: pd.Series({\n",
    "                        'HoursSupplied': np.dot(x['uhrswork'] * 52,x['perwt'])/1e+6,  # Units, millions of hours\n",
    "                        'BodiesSupplied': np.dot(np.ones(len(x['perwt'])),x['perwt']),\n",
    "                        'Wage': np.dot(x['incwage'],x['perwt'])/np.dot(np.ones(len(x['perwt'])),x['perwt'])}))\n",
    "                    .reset_index()\n",
    "                    )\n",
    "    \n",
    "    StateDfAcs = pd.concat([StateDfAcs,acs_collapse])"
   ]
  },
  {
   "cell_type": "markdown",
   "metadata": {},
   "source": [
    "# CPS"
   ]
  },
  {
   "cell_type": "code",
   "execution_count": 3,
   "metadata": {},
   "outputs": [
    {
     "name": "stderr",
     "output_type": "stream",
     "text": [
      "/home/r/remuszka/.conda/envs/ImmigrationTfp/lib/python3.12/site-packages/ipumspy/readers.py:70: CitationWarning: Use of data from IPUMS is subject to conditions including that users should cite the data appropriately.\n",
      "See the `ipums_conditions` attribute of this codebook for terms of use.\n",
      "See the `ipums_citation` attribute of this codebook for the appropriate citation.\n",
      "  warnings.warn(\n"
     ]
    },
    {
     "name": "stdout",
     "output_type": "stream",
     "text": [
      "\n",
      "**********************************************************************\n",
      "Working file ../data/cps/cps_00030.xml corresponding to sample 1994\n",
      "**********************************************************************\n",
      "\n"
     ]
    },
    {
     "name": "stderr",
     "output_type": "stream",
     "text": [
      "/tmp/ipykernel_3839209/1069389941.py:45: DeprecationWarning: DataFrameGroupBy.apply operated on the grouping columns. This behavior is deprecated, and in a future version of pandas the grouping columns will be excluded from the operation. Either pass `include_groups=False` to exclude the groupings or explicitly select the grouping columns after groupby to silence this warning.\n",
      "  .apply(lambda x: pd.Series({\n",
      "/home/r/remuszka/.conda/envs/ImmigrationTfp/lib/python3.12/site-packages/ipumspy/readers.py:70: CitationWarning: Use of data from IPUMS is subject to conditions including that users should cite the data appropriately.\n",
      "See the `ipums_conditions` attribute of this codebook for terms of use.\n",
      "See the `ipums_citation` attribute of this codebook for the appropriate citation.\n",
      "  warnings.warn(\n"
     ]
    },
    {
     "name": "stdout",
     "output_type": "stream",
     "text": [
      "\n",
      "**********************************************************************\n",
      "Working file ../data/cps/cps_00031.xml corresponding to sample 1995\n",
      "**********************************************************************\n",
      "\n"
     ]
    },
    {
     "name": "stderr",
     "output_type": "stream",
     "text": [
      "/tmp/ipykernel_3839209/1069389941.py:45: DeprecationWarning: DataFrameGroupBy.apply operated on the grouping columns. This behavior is deprecated, and in a future version of pandas the grouping columns will be excluded from the operation. Either pass `include_groups=False` to exclude the groupings or explicitly select the grouping columns after groupby to silence this warning.\n",
      "  .apply(lambda x: pd.Series({\n",
      "/home/r/remuszka/.conda/envs/ImmigrationTfp/lib/python3.12/site-packages/ipumspy/readers.py:70: CitationWarning: Use of data from IPUMS is subject to conditions including that users should cite the data appropriately.\n",
      "See the `ipums_conditions` attribute of this codebook for terms of use.\n",
      "See the `ipums_citation` attribute of this codebook for the appropriate citation.\n",
      "  warnings.warn(\n"
     ]
    },
    {
     "name": "stdout",
     "output_type": "stream",
     "text": [
      "\n",
      "**********************************************************************\n",
      "Working file ../data/cps/cps_00032.xml corresponding to sample 1996\n",
      "**********************************************************************\n",
      "\n"
     ]
    },
    {
     "name": "stderr",
     "output_type": "stream",
     "text": [
      "/tmp/ipykernel_3839209/1069389941.py:45: DeprecationWarning: DataFrameGroupBy.apply operated on the grouping columns. This behavior is deprecated, and in a future version of pandas the grouping columns will be excluded from the operation. Either pass `include_groups=False` to exclude the groupings or explicitly select the grouping columns after groupby to silence this warning.\n",
      "  .apply(lambda x: pd.Series({\n",
      "/home/r/remuszka/.conda/envs/ImmigrationTfp/lib/python3.12/site-packages/ipumspy/readers.py:70: CitationWarning: Use of data from IPUMS is subject to conditions including that users should cite the data appropriately.\n",
      "See the `ipums_conditions` attribute of this codebook for terms of use.\n",
      "See the `ipums_citation` attribute of this codebook for the appropriate citation.\n",
      "  warnings.warn(\n"
     ]
    },
    {
     "name": "stdout",
     "output_type": "stream",
     "text": [
      "\n",
      "**********************************************************************\n",
      "Working file ../data/cps/cps_00033.xml corresponding to sample 1997\n",
      "**********************************************************************\n",
      "\n"
     ]
    },
    {
     "name": "stderr",
     "output_type": "stream",
     "text": [
      "/tmp/ipykernel_3839209/1069389941.py:45: DeprecationWarning: DataFrameGroupBy.apply operated on the grouping columns. This behavior is deprecated, and in a future version of pandas the grouping columns will be excluded from the operation. Either pass `include_groups=False` to exclude the groupings or explicitly select the grouping columns after groupby to silence this warning.\n",
      "  .apply(lambda x: pd.Series({\n",
      "/home/r/remuszka/.conda/envs/ImmigrationTfp/lib/python3.12/site-packages/ipumspy/readers.py:70: CitationWarning: Use of data from IPUMS is subject to conditions including that users should cite the data appropriately.\n",
      "See the `ipums_conditions` attribute of this codebook for terms of use.\n",
      "See the `ipums_citation` attribute of this codebook for the appropriate citation.\n",
      "  warnings.warn(\n"
     ]
    },
    {
     "name": "stdout",
     "output_type": "stream",
     "text": [
      "\n",
      "**********************************************************************\n",
      "Working file ../data/cps/cps_00034.xml corresponding to sample 1998\n",
      "**********************************************************************\n",
      "\n"
     ]
    },
    {
     "name": "stderr",
     "output_type": "stream",
     "text": [
      "/tmp/ipykernel_3839209/1069389941.py:45: DeprecationWarning: DataFrameGroupBy.apply operated on the grouping columns. This behavior is deprecated, and in a future version of pandas the grouping columns will be excluded from the operation. Either pass `include_groups=False` to exclude the groupings or explicitly select the grouping columns after groupby to silence this warning.\n",
      "  .apply(lambda x: pd.Series({\n",
      "/home/r/remuszka/.conda/envs/ImmigrationTfp/lib/python3.12/site-packages/ipumspy/readers.py:70: CitationWarning: Use of data from IPUMS is subject to conditions including that users should cite the data appropriately.\n",
      "See the `ipums_conditions` attribute of this codebook for terms of use.\n",
      "See the `ipums_citation` attribute of this codebook for the appropriate citation.\n",
      "  warnings.warn(\n"
     ]
    },
    {
     "name": "stdout",
     "output_type": "stream",
     "text": [
      "\n",
      "**********************************************************************\n",
      "Working file ../data/cps/cps_00035.xml corresponding to sample 1999\n",
      "**********************************************************************\n",
      "\n"
     ]
    },
    {
     "name": "stderr",
     "output_type": "stream",
     "text": [
      "/tmp/ipykernel_3839209/1069389941.py:45: DeprecationWarning: DataFrameGroupBy.apply operated on the grouping columns. This behavior is deprecated, and in a future version of pandas the grouping columns will be excluded from the operation. Either pass `include_groups=False` to exclude the groupings or explicitly select the grouping columns after groupby to silence this warning.\n",
      "  .apply(lambda x: pd.Series({\n",
      "/home/r/remuszka/.conda/envs/ImmigrationTfp/lib/python3.12/site-packages/ipumspy/readers.py:70: CitationWarning: Use of data from IPUMS is subject to conditions including that users should cite the data appropriately.\n",
      "See the `ipums_conditions` attribute of this codebook for terms of use.\n",
      "See the `ipums_citation` attribute of this codebook for the appropriate citation.\n",
      "  warnings.warn(\n"
     ]
    },
    {
     "name": "stdout",
     "output_type": "stream",
     "text": [
      "\n",
      "**********************************************************************\n",
      "Working file ../data/cps/cps_00036.xml corresponding to sample 2023\n",
      "**********************************************************************\n",
      "\n"
     ]
    },
    {
     "name": "stderr",
     "output_type": "stream",
     "text": [
      "/tmp/ipykernel_3839209/1069389941.py:45: DeprecationWarning: DataFrameGroupBy.apply operated on the grouping columns. This behavior is deprecated, and in a future version of pandas the grouping columns will be excluded from the operation. Either pass `include_groups=False` to exclude the groupings or explicitly select the grouping columns after groupby to silence this warning.\n",
      "  .apply(lambda x: pd.Series({\n",
      "/home/r/remuszka/.conda/envs/ImmigrationTfp/lib/python3.12/site-packages/ipumspy/readers.py:70: CitationWarning: Use of data from IPUMS is subject to conditions including that users should cite the data appropriately.\n",
      "See the `ipums_conditions` attribute of this codebook for terms of use.\n",
      "See the `ipums_citation` attribute of this codebook for the appropriate citation.\n",
      "  warnings.warn(\n"
     ]
    },
    {
     "name": "stdout",
     "output_type": "stream",
     "text": [
      "\n",
      "**********************************************************************\n",
      "Working file ../data/cps/cps_00037.xml corresponding to sample 2024\n",
      "**********************************************************************\n",
      "\n"
     ]
    },
    {
     "name": "stderr",
     "output_type": "stream",
     "text": [
      "/tmp/ipykernel_3839209/1069389941.py:45: DeprecationWarning: DataFrameGroupBy.apply operated on the grouping columns. This behavior is deprecated, and in a future version of pandas the grouping columns will be excluded from the operation. Either pass `include_groups=False` to exclude the groupings or explicitly select the grouping columns after groupby to silence this warning.\n",
      "  .apply(lambda x: pd.Series({\n"
     ]
    }
   ],
   "source": [
    "# Initialize\n",
    "StateDfCps = pd.DataFrame()\n",
    "IndividualDfCps = pd.DataFrame()\n",
    "\n",
    "# Create a path object to the data folder\n",
    "DataDir = Path(Paths['cps'])\n",
    "\n",
    "# Construct a list of all files in the CPS folder\n",
    "Files = list(DataDir.glob(\"*.xml\")) \n",
    "\n",
    "for f in Files:\n",
    "\n",
    "    # Get the Data dictionary\n",
    "    ddi = readers.read_ipums_ddi(f)\n",
    "    df = readers.read_microdata(ddi, DataDir / ddi.file_description.filename)\n",
    "    print('\\n**********************************************************************\\n' +\n",
    "    f'Working file {f} corresponding to sample ' + str(df['YEAR'][0]) +\n",
    "    '\\n**********************************************************************\\n')\n",
    "\n",
    "    # Read data in and do some cleaning\n",
    "    cps_df = (df\n",
    "            .rename(columns=lambda x: x.lower())\n",
    "            .pipe(lambda x: x[~x['uhrsworkt'].isin([0,997,999])]) # Dropping all the observations with no hours, or unable to report hours\n",
    "            .assign(bpl = lambda x: x['bpl'].astype(str))         # Change this to string\n",
    "            .assign(bpl = lambda x: x['bpl'].str.zfill(5))        # Uniform length 5\n",
    "            .pipe(lambda x: x[~x['bpl'].isin(['8','9'])])  # Dropping those we can't identify a country of origin for\n",
    "            .pipe(lambda x: x[x['uhrsworkt'] >= 35])              # Keep the full time workers\n",
    "            .pipe(lambda x: x[x['age'] >= 16])\n",
    "            .pipe(lambda x: x[x['citizen'] != 9])                 # Drop not in universe for citizen variable\n",
    "            .assign(incwage = lambda x: x['incwage'].replace([999999,999998],np.NaN))\n",
    "            .assign(year = lambda x: pd.to_datetime(x['year'],format='%Y'))\n",
    "            .pipe(lambda x: x[x['citizen'] != 9])                 # Drop the \"not in univerese codes\"\n",
    "            .assign(ImmigrantGroup = lambda x: x['bpl'].apply(ImmigrantGroup)) # Assign immigrant groups following Peri 2012\n",
    "            .assign(foreign = lambda x: x['citizen'].isin([3,4,5]).astype(int))\n",
    "            .drop(columns=['cpsid','cpsidv','cpsidp','asecwth','asecflag', 'month','serial','pernum','bpl','citizen',\n",
    "                            'occ2010','occ1990','ind1990'])\n",
    "            )\n",
    "    \n",
    "    IndividualDfCps = pd.concat([IndividualDfCps,cps_df]) # Save individual data\n",
    "    cps_df = cps_df.drop(columns=['occ','educ','age'])    # Drop these for the aggreation\n",
    "\n",
    "    # Create State-ImmigrantGroup table\n",
    "    cps_collapse = (cps_df\n",
    "                    .groupby(['ImmigrantGroup','foreign','statefip','year'])\n",
    "                    .apply(lambda x: pd.Series({\n",
    "                        'HoursSupplied': np.dot(x['uhrsworkt'] * 52,x['asecwt'])/1e+6,  # Units, millions of hours\n",
    "                        'BodiesSupplied': np.dot(np.ones(len(x['asecwt'])),x['asecwt']),\n",
    "                        'Wage': np.dot(x['incwage'],x['asecwt'])/np.dot(np.ones(len(x['asecwt'])),x['asecwt'])})\n",
    "                        )\n",
    "                    .reset_index()\n",
    "                    )\n",
    "    \n",
    "    StateDfCps = pd.concat([StateDfCps,cps_collapse])"
   ]
  },
  {
   "cell_type": "markdown",
   "metadata": {},
   "source": [
    "# Merging ACS, CPS"
   ]
  },
  {
   "cell_type": "code",
   "execution_count": 4,
   "metadata": {},
   "outputs": [
    {
     "data": {
      "application/vnd.microsoft.datawrangler.viewer.v0+json": {
       "columns": [
        {
         "name": "index",
         "rawType": "int64",
         "type": "integer"
        },
        {
         "name": "year",
         "rawType": "datetime64[ns]",
         "type": "datetime"
        },
        {
         "name": "statefip",
         "rawType": "Int64",
         "type": "integer"
        },
        {
         "name": "asecwt",
         "rawType": "float64",
         "type": "float"
        },
        {
         "name": "age",
         "rawType": "Int64",
         "type": "integer"
        },
        {
         "name": "occ",
         "rawType": "Int64",
         "type": "integer"
        },
        {
         "name": "uhrsworkt",
         "rawType": "Int64",
         "type": "integer"
        },
        {
         "name": "educ",
         "rawType": "Int64",
         "type": "integer"
        },
        {
         "name": "incwage",
         "rawType": "Int64",
         "type": "integer"
        },
        {
         "name": "ImmigrantGroup",
         "rawType": "object",
         "type": "string"
        },
        {
         "name": "foreign",
         "rawType": "int64",
         "type": "integer"
        }
       ],
       "conversionMethod": "pd.DataFrame",
       "ref": "e8326d4f-6741-4981-92fa-09a6b27fa120",
       "rows": [
        [
         "6",
         "1994-01-01 00:00:00",
         "23",
         "838.36",
         "44",
         "208",
         "40",
         "92",
         "38000",
         "United States",
         "0"
        ],
        [
         "10",
         "1994-01-01 00:00:00",
         "23",
         "566.21",
         "51",
         "243",
         "60",
         "73",
         "20800",
         "Rest of Asia",
         "1"
        ],
        [
         "15",
         "1994-01-01 00:00:00",
         "23",
         "959.87",
         "28",
         "23",
         "38",
         "111",
         "40000",
         "Other",
         "1"
        ],
        [
         "16",
         "1994-01-01 00:00:00",
         "23",
         "893.33",
         "26",
         "23",
         "38",
         "111",
         "40000",
         "United States",
         "0"
        ],
        [
         "17",
         "1994-01-01 00:00:00",
         "23",
         "838.36",
         "44",
         "84",
         "99",
         "124",
         "24400",
         "United States",
         "0"
        ]
       ],
       "shape": {
        "columns": 10,
        "rows": 5
       }
      },
      "text/html": [
       "<div>\n",
       "<style scoped>\n",
       "    .dataframe tbody tr th:only-of-type {\n",
       "        vertical-align: middle;\n",
       "    }\n",
       "\n",
       "    .dataframe tbody tr th {\n",
       "        vertical-align: top;\n",
       "    }\n",
       "\n",
       "    .dataframe thead th {\n",
       "        text-align: right;\n",
       "    }\n",
       "</style>\n",
       "<table border=\"1\" class=\"dataframe\">\n",
       "  <thead>\n",
       "    <tr style=\"text-align: right;\">\n",
       "      <th></th>\n",
       "      <th>year</th>\n",
       "      <th>statefip</th>\n",
       "      <th>asecwt</th>\n",
       "      <th>age</th>\n",
       "      <th>occ</th>\n",
       "      <th>uhrsworkt</th>\n",
       "      <th>educ</th>\n",
       "      <th>incwage</th>\n",
       "      <th>ImmigrantGroup</th>\n",
       "      <th>foreign</th>\n",
       "    </tr>\n",
       "  </thead>\n",
       "  <tbody>\n",
       "    <tr>\n",
       "      <th>6</th>\n",
       "      <td>1994-01-01</td>\n",
       "      <td>23</td>\n",
       "      <td>838.36</td>\n",
       "      <td>44</td>\n",
       "      <td>208</td>\n",
       "      <td>40</td>\n",
       "      <td>92</td>\n",
       "      <td>38000</td>\n",
       "      <td>United States</td>\n",
       "      <td>0</td>\n",
       "    </tr>\n",
       "    <tr>\n",
       "      <th>10</th>\n",
       "      <td>1994-01-01</td>\n",
       "      <td>23</td>\n",
       "      <td>566.21</td>\n",
       "      <td>51</td>\n",
       "      <td>243</td>\n",
       "      <td>60</td>\n",
       "      <td>73</td>\n",
       "      <td>20800</td>\n",
       "      <td>Rest of Asia</td>\n",
       "      <td>1</td>\n",
       "    </tr>\n",
       "    <tr>\n",
       "      <th>15</th>\n",
       "      <td>1994-01-01</td>\n",
       "      <td>23</td>\n",
       "      <td>959.87</td>\n",
       "      <td>28</td>\n",
       "      <td>23</td>\n",
       "      <td>38</td>\n",
       "      <td>111</td>\n",
       "      <td>40000</td>\n",
       "      <td>Other</td>\n",
       "      <td>1</td>\n",
       "    </tr>\n",
       "    <tr>\n",
       "      <th>16</th>\n",
       "      <td>1994-01-01</td>\n",
       "      <td>23</td>\n",
       "      <td>893.33</td>\n",
       "      <td>26</td>\n",
       "      <td>23</td>\n",
       "      <td>38</td>\n",
       "      <td>111</td>\n",
       "      <td>40000</td>\n",
       "      <td>United States</td>\n",
       "      <td>0</td>\n",
       "    </tr>\n",
       "    <tr>\n",
       "      <th>17</th>\n",
       "      <td>1994-01-01</td>\n",
       "      <td>23</td>\n",
       "      <td>838.36</td>\n",
       "      <td>44</td>\n",
       "      <td>84</td>\n",
       "      <td>99</td>\n",
       "      <td>124</td>\n",
       "      <td>24400</td>\n",
       "      <td>United States</td>\n",
       "      <td>0</td>\n",
       "    </tr>\n",
       "  </tbody>\n",
       "</table>\n",
       "</div>"
      ],
      "text/plain": [
       "         year  statefip  asecwt  age  occ  uhrsworkt  educ  incwage  \\\n",
       "6  1994-01-01        23  838.36   44  208         40    92    38000   \n",
       "10 1994-01-01        23  566.21   51  243         60    73    20800   \n",
       "15 1994-01-01        23  959.87   28   23         38   111    40000   \n",
       "16 1994-01-01        23  893.33   26   23         38   111    40000   \n",
       "17 1994-01-01        23  838.36   44   84         99   124    24400   \n",
       "\n",
       "   ImmigrantGroup  foreign  \n",
       "6   United States        0  \n",
       "10   Rest of Asia        1  \n",
       "15          Other        1  \n",
       "16  United States        0  \n",
       "17  United States        0  "
      ]
     },
     "execution_count": 4,
     "metadata": {},
     "output_type": "execute_result"
    }
   ],
   "source": [
    "IndividualDfCps.head()"
   ]
  },
  {
   "cell_type": "code",
   "execution_count": 5,
   "metadata": {},
   "outputs": [
    {
     "data": {
      "application/vnd.microsoft.datawrangler.viewer.v0+json": {
       "columns": [
        {
         "name": "index",
         "rawType": "int64",
         "type": "integer"
        },
        {
         "name": "perwt",
         "rawType": "float64",
         "type": "float"
        },
        {
         "name": "uhrswork",
         "rawType": "Int64",
         "type": "integer"
        },
        {
         "name": "foreign",
         "rawType": "int64",
         "type": "integer"
        },
        {
         "name": "statefip",
         "rawType": "Int64",
         "type": "integer"
        },
        {
         "name": "year",
         "rawType": "datetime64[ns]",
         "type": "datetime"
        },
        {
         "name": "ImmigrantGroup",
         "rawType": "object",
         "type": "string"
        },
        {
         "name": "incwage",
         "rawType": "Int64",
         "type": "integer"
        },
        {
         "name": "occ",
         "rawType": "Int64",
         "type": "integer"
        },
        {
         "name": "occsoc",
         "rawType": "string",
         "type": "string"
        },
        {
         "name": "educ",
         "rawType": "Int64",
         "type": "integer"
        },
        {
         "name": "age",
         "rawType": "Int64",
         "type": "integer"
        }
       ],
       "conversionMethod": "pd.DataFrame",
       "ref": "48c9290f-95c4-4f44-8810-8cfe3ca38d73",
       "rows": [
        [
         "7",
         "24.0",
         "50",
         "0",
         "44",
         "2000-01-01 00:00:00",
         "United States",
         "150000",
         "306",
         "291060",
         "11",
         "43"
        ],
        [
         "12",
         "31.0",
         "40",
         "0",
         "44",
         "2000-01-01 00:00:00",
         "United States",
         "1500",
         "330",
         "292010",
         "6",
         "19"
        ],
        [
         "13",
         "16.0",
         "50",
         "0",
         "44",
         "2000-01-01 00:00:00",
         "United States",
         "42600",
         "570",
         "436010",
         "11",
         "62"
        ],
        [
         "18",
         "21.0",
         "42",
         "0",
         "44",
         "2000-01-01 00:00:00",
         "United States",
         "97000",
         "470",
         "411011",
         "5",
         "38"
        ],
        [
         "20",
         "29.0",
         "40",
         "1",
         "44",
         "2000-01-01 00:00:00",
         "Rest of Asia",
         "17000",
         "220",
         "251000",
         "11",
         "27"
        ]
       ],
       "shape": {
        "columns": 11,
        "rows": 5
       }
      },
      "text/html": [
       "<div>\n",
       "<style scoped>\n",
       "    .dataframe tbody tr th:only-of-type {\n",
       "        vertical-align: middle;\n",
       "    }\n",
       "\n",
       "    .dataframe tbody tr th {\n",
       "        vertical-align: top;\n",
       "    }\n",
       "\n",
       "    .dataframe thead th {\n",
       "        text-align: right;\n",
       "    }\n",
       "</style>\n",
       "<table border=\"1\" class=\"dataframe\">\n",
       "  <thead>\n",
       "    <tr style=\"text-align: right;\">\n",
       "      <th></th>\n",
       "      <th>perwt</th>\n",
       "      <th>uhrswork</th>\n",
       "      <th>foreign</th>\n",
       "      <th>statefip</th>\n",
       "      <th>year</th>\n",
       "      <th>ImmigrantGroup</th>\n",
       "      <th>incwage</th>\n",
       "      <th>occ</th>\n",
       "      <th>occsoc</th>\n",
       "      <th>educ</th>\n",
       "      <th>age</th>\n",
       "    </tr>\n",
       "  </thead>\n",
       "  <tbody>\n",
       "    <tr>\n",
       "      <th>7</th>\n",
       "      <td>24.0</td>\n",
       "      <td>50</td>\n",
       "      <td>0</td>\n",
       "      <td>44</td>\n",
       "      <td>2000-01-01</td>\n",
       "      <td>United States</td>\n",
       "      <td>150000</td>\n",
       "      <td>306</td>\n",
       "      <td>291060</td>\n",
       "      <td>11</td>\n",
       "      <td>43</td>\n",
       "    </tr>\n",
       "    <tr>\n",
       "      <th>12</th>\n",
       "      <td>31.0</td>\n",
       "      <td>40</td>\n",
       "      <td>0</td>\n",
       "      <td>44</td>\n",
       "      <td>2000-01-01</td>\n",
       "      <td>United States</td>\n",
       "      <td>1500</td>\n",
       "      <td>330</td>\n",
       "      <td>292010</td>\n",
       "      <td>6</td>\n",
       "      <td>19</td>\n",
       "    </tr>\n",
       "    <tr>\n",
       "      <th>13</th>\n",
       "      <td>16.0</td>\n",
       "      <td>50</td>\n",
       "      <td>0</td>\n",
       "      <td>44</td>\n",
       "      <td>2000-01-01</td>\n",
       "      <td>United States</td>\n",
       "      <td>42600</td>\n",
       "      <td>570</td>\n",
       "      <td>436010</td>\n",
       "      <td>11</td>\n",
       "      <td>62</td>\n",
       "    </tr>\n",
       "    <tr>\n",
       "      <th>18</th>\n",
       "      <td>21.0</td>\n",
       "      <td>42</td>\n",
       "      <td>0</td>\n",
       "      <td>44</td>\n",
       "      <td>2000-01-01</td>\n",
       "      <td>United States</td>\n",
       "      <td>97000</td>\n",
       "      <td>470</td>\n",
       "      <td>411011</td>\n",
       "      <td>5</td>\n",
       "      <td>38</td>\n",
       "    </tr>\n",
       "    <tr>\n",
       "      <th>20</th>\n",
       "      <td>29.0</td>\n",
       "      <td>40</td>\n",
       "      <td>1</td>\n",
       "      <td>44</td>\n",
       "      <td>2000-01-01</td>\n",
       "      <td>Rest of Asia</td>\n",
       "      <td>17000</td>\n",
       "      <td>220</td>\n",
       "      <td>251000</td>\n",
       "      <td>11</td>\n",
       "      <td>27</td>\n",
       "    </tr>\n",
       "  </tbody>\n",
       "</table>\n",
       "</div>"
      ],
      "text/plain": [
       "    perwt  uhrswork  foreign  statefip       year ImmigrantGroup  incwage  \\\n",
       "7    24.0        50        0        44 2000-01-01  United States   150000   \n",
       "12   31.0        40        0        44 2000-01-01  United States     1500   \n",
       "13   16.0        50        0        44 2000-01-01  United States    42600   \n",
       "18   21.0        42        0        44 2000-01-01  United States    97000   \n",
       "20   29.0        40        1        44 2000-01-01   Rest of Asia    17000   \n",
       "\n",
       "    occ  occsoc  educ  age  \n",
       "7   306  291060    11   43  \n",
       "12  330  292010     6   19  \n",
       "13  570  436010    11   62  \n",
       "18  470  411011     5   38  \n",
       "20  220  251000    11   27  "
      ]
     },
     "execution_count": 5,
     "metadata": {},
     "output_type": "execute_result"
    }
   ],
   "source": [
    "IndividualDfAcs.head()"
   ]
  },
  {
   "cell_type": "code",
   "execution_count": 7,
   "metadata": {},
   "outputs": [
    {
     "data": {
      "application/vnd.microsoft.datawrangler.viewer.v0+json": {
       "columns": [
        {
         "name": "index",
         "rawType": "int64",
         "type": "integer"
        },
        {
         "name": "year",
         "rawType": "datetime64[ns]",
         "type": "datetime"
        },
        {
         "name": "statefip",
         "rawType": "Int64",
         "type": "integer"
        },
        {
         "name": "asecwt",
         "rawType": "float64",
         "type": "float"
        },
        {
         "name": "age",
         "rawType": "Int64",
         "type": "integer"
        },
        {
         "name": "occ",
         "rawType": "Int64",
         "type": "integer"
        },
        {
         "name": "uhrsworkt",
         "rawType": "Int64",
         "type": "integer"
        },
        {
         "name": "educ",
         "rawType": "Int64",
         "type": "integer"
        },
        {
         "name": "incwage",
         "rawType": "Int64",
         "type": "integer"
        },
        {
         "name": "ImmigrantGroup",
         "rawType": "object",
         "type": "string"
        },
        {
         "name": "foreign",
         "rawType": "int64",
         "type": "integer"
        },
        {
         "name": "perwt",
         "rawType": "float64",
         "type": "float"
        },
        {
         "name": "uhrswork",
         "rawType": "Int64",
         "type": "integer"
        },
        {
         "name": "occsoc",
         "rawType": "string",
         "type": "string"
        }
       ],
       "conversionMethod": "pd.DataFrame",
       "ref": "2186dbb6-6adc-4cec-a1ac-fc10e388124a",
       "rows": [
        [
         "6",
         "1994-01-01 00:00:00",
         "23",
         "838.36",
         "44",
         "208",
         "40",
         "92",
         "38000",
         "United States",
         "0",
         null,
         null,
         null
        ],
        [
         "10",
         "1994-01-01 00:00:00",
         "23",
         "566.21",
         "51",
         "243",
         "60",
         "73",
         "20800",
         "Rest of Asia",
         "1",
         null,
         null,
         null
        ],
        [
         "15",
         "1994-01-01 00:00:00",
         "23",
         "959.87",
         "28",
         "23",
         "38",
         "111",
         "40000",
         "Other",
         "1",
         null,
         null,
         null
        ],
        [
         "16",
         "1994-01-01 00:00:00",
         "23",
         "893.33",
         "26",
         "23",
         "38",
         "111",
         "40000",
         "United States",
         "0",
         null,
         null,
         null
        ],
        [
         "17",
         "1994-01-01 00:00:00",
         "23",
         "838.36",
         "44",
         "84",
         "99",
         "124",
         "24400",
         "United States",
         "0",
         null,
         null,
         null
        ]
       ],
       "shape": {
        "columns": 13,
        "rows": 5
       }
      },
      "text/html": [
       "<div>\n",
       "<style scoped>\n",
       "    .dataframe tbody tr th:only-of-type {\n",
       "        vertical-align: middle;\n",
       "    }\n",
       "\n",
       "    .dataframe tbody tr th {\n",
       "        vertical-align: top;\n",
       "    }\n",
       "\n",
       "    .dataframe thead th {\n",
       "        text-align: right;\n",
       "    }\n",
       "</style>\n",
       "<table border=\"1\" class=\"dataframe\">\n",
       "  <thead>\n",
       "    <tr style=\"text-align: right;\">\n",
       "      <th></th>\n",
       "      <th>year</th>\n",
       "      <th>statefip</th>\n",
       "      <th>asecwt</th>\n",
       "      <th>age</th>\n",
       "      <th>occ</th>\n",
       "      <th>uhrsworkt</th>\n",
       "      <th>educ</th>\n",
       "      <th>incwage</th>\n",
       "      <th>ImmigrantGroup</th>\n",
       "      <th>foreign</th>\n",
       "      <th>perwt</th>\n",
       "      <th>uhrswork</th>\n",
       "      <th>occsoc</th>\n",
       "    </tr>\n",
       "  </thead>\n",
       "  <tbody>\n",
       "    <tr>\n",
       "      <th>6</th>\n",
       "      <td>1994-01-01</td>\n",
       "      <td>23</td>\n",
       "      <td>838.36</td>\n",
       "      <td>44</td>\n",
       "      <td>208</td>\n",
       "      <td>40</td>\n",
       "      <td>92</td>\n",
       "      <td>38000</td>\n",
       "      <td>United States</td>\n",
       "      <td>0</td>\n",
       "      <td>NaN</td>\n",
       "      <td>&lt;NA&gt;</td>\n",
       "      <td>&lt;NA&gt;</td>\n",
       "    </tr>\n",
       "    <tr>\n",
       "      <th>10</th>\n",
       "      <td>1994-01-01</td>\n",
       "      <td>23</td>\n",
       "      <td>566.21</td>\n",
       "      <td>51</td>\n",
       "      <td>243</td>\n",
       "      <td>60</td>\n",
       "      <td>73</td>\n",
       "      <td>20800</td>\n",
       "      <td>Rest of Asia</td>\n",
       "      <td>1</td>\n",
       "      <td>NaN</td>\n",
       "      <td>&lt;NA&gt;</td>\n",
       "      <td>&lt;NA&gt;</td>\n",
       "    </tr>\n",
       "    <tr>\n",
       "      <th>15</th>\n",
       "      <td>1994-01-01</td>\n",
       "      <td>23</td>\n",
       "      <td>959.87</td>\n",
       "      <td>28</td>\n",
       "      <td>23</td>\n",
       "      <td>38</td>\n",
       "      <td>111</td>\n",
       "      <td>40000</td>\n",
       "      <td>Other</td>\n",
       "      <td>1</td>\n",
       "      <td>NaN</td>\n",
       "      <td>&lt;NA&gt;</td>\n",
       "      <td>&lt;NA&gt;</td>\n",
       "    </tr>\n",
       "    <tr>\n",
       "      <th>16</th>\n",
       "      <td>1994-01-01</td>\n",
       "      <td>23</td>\n",
       "      <td>893.33</td>\n",
       "      <td>26</td>\n",
       "      <td>23</td>\n",
       "      <td>38</td>\n",
       "      <td>111</td>\n",
       "      <td>40000</td>\n",
       "      <td>United States</td>\n",
       "      <td>0</td>\n",
       "      <td>NaN</td>\n",
       "      <td>&lt;NA&gt;</td>\n",
       "      <td>&lt;NA&gt;</td>\n",
       "    </tr>\n",
       "    <tr>\n",
       "      <th>17</th>\n",
       "      <td>1994-01-01</td>\n",
       "      <td>23</td>\n",
       "      <td>838.36</td>\n",
       "      <td>44</td>\n",
       "      <td>84</td>\n",
       "      <td>99</td>\n",
       "      <td>124</td>\n",
       "      <td>24400</td>\n",
       "      <td>United States</td>\n",
       "      <td>0</td>\n",
       "      <td>NaN</td>\n",
       "      <td>&lt;NA&gt;</td>\n",
       "      <td>&lt;NA&gt;</td>\n",
       "    </tr>\n",
       "  </tbody>\n",
       "</table>\n",
       "</div>"
      ],
      "text/plain": [
       "         year  statefip  asecwt  age  occ  uhrsworkt  educ  incwage  \\\n",
       "6  1994-01-01        23  838.36   44  208         40    92    38000   \n",
       "10 1994-01-01        23  566.21   51  243         60    73    20800   \n",
       "15 1994-01-01        23  959.87   28   23         38   111    40000   \n",
       "16 1994-01-01        23  893.33   26   23         38   111    40000   \n",
       "17 1994-01-01        23  838.36   44   84         99   124    24400   \n",
       "\n",
       "   ImmigrantGroup  foreign  perwt  uhrswork occsoc  \n",
       "6   United States        0    NaN      <NA>   <NA>  \n",
       "10   Rest of Asia        1    NaN      <NA>   <NA>  \n",
       "15          Other        1    NaN      <NA>   <NA>  \n",
       "16  United States        0    NaN      <NA>   <NA>  \n",
       "17  United States        0    NaN      <NA>   <NA>  "
      ]
     },
     "execution_count": 7,
     "metadata": {},
     "output_type": "execute_result"
    }
   ],
   "source": [
    "StateDf = pd.concat([StateDfCps,StateDfAcs])\n",
    "IndividualDf = pd.concat([IndividualDfCps,IndividualDfAcs])\n",
    "IndividualDf.head()"
   ]
  },
  {
   "cell_type": "code",
   "execution_count": 9,
   "metadata": {},
   "outputs": [],
   "source": [
    "StateDf.to_csv(Paths['data'] + '/AcsCpsStateData.csv', index = False) # I will merge some additional state-level variables into this data, so this is not yet the analysis file\n",
    "IndividualDf.to_csv(Paths['data'] + '/AcsCpsIndividualData.csv', index = False) # Not yet the analysis file, still need to incorporate ONET"
   ]
  },
  {
   "cell_type": "markdown",
   "metadata": {},
   "source": [
    "# State GDP Data"
   ]
  },
  {
   "cell_type": "code",
   "execution_count": 30,
   "metadata": {},
   "outputs": [],
   "source": [
    "Gdp63to96 = (pd.read_csv(Paths['gdp'] + '/SAGDP_SIC/SAGDP2S__ALL_AREAS_1963_1997.csv')\n",
    "             .assign(statefip = lambda x: x['GeoFIPS'].str.replace('\"','').str.replace(' ','').str[0:2])\n",
    "             .pipe(lambda x: x[x['statefip'] != '00'])\n",
    "             .pipe(lambda x: x[~x['GeoName'].isin([np.NaN])])\n",
    "             .pipe(lambda x: x[~x['GeoName'].isin(['Far West', 'Rocky Mountain', 'Southwest',\n",
    "                                                   'Southeast','Plains', 'Great Lakes','Mideast',\n",
    "                                                   'New England'])])\n",
    "            .pipe(lambda x: x[x['Description'] == 'All industry total'])\n",
    "            .drop(columns=['GeoFIPS','Region','TableName','LineCode','IndustryClassification',\n",
    "                           'Description', 'Unit'])\n",
    "            .pipe(lambda x: pd.melt(x,id_vars=['GeoName','statefip']))\n",
    "            .rename(columns={'variable':'year','value':'NGdp'})\n",
    "            .pipe(lambda x: x[x['year'] != '1997'])\n",
    "            .assign(year = lambda x: pd.to_datetime(x['year']))\n",
    "            .assign(NGdp = lambda x: x['NGdp'].astype(float))\n",
    ")\n",
    "\n",
    "Gdp97to23 = (pd.read_csv(Paths['gdp'] + '/SAGDP/SAGDP2N__ALL_AREAS_1997_2023.csv')\n",
    "            .assign(statefip = lambda x: x['GeoFIPS'].str.replace('\"','').str.replace(' ','').str[0:2])\n",
    "            .pipe(lambda x: x[x['statefip'] != '00'])\n",
    "            .pipe(lambda x: x[~x['GeoName'].isin([np.NaN])])\n",
    "            .pipe(lambda x: x[~x['GeoName'].isin(['Far West', 'Rocky Mountain', 'Southwest',\n",
    "                                                   'Southeast','Plains', 'Great Lakes','Mideast',\n",
    "                                                   'New England'])])\n",
    "            .pipe(lambda x: x[x['Description'] == 'All industry total '])\n",
    "            .drop(columns=['GeoFIPS','Region','TableName','LineCode','IndustryClassification',\n",
    "                           'Description', 'Unit'])\n",
    "            .pipe(lambda x: pd.melt(x,id_vars=['GeoName','statefip']))\n",
    "            .rename(columns={'variable':'year','value':'NGdp'})\n",
    "            .assign(year = lambda x: pd.to_datetime(x['year']))\n",
    "            .assign(NGdp = lambda x: x['NGdp'].astype(float))\n",
    "            )\n",
    "GdpAllYears = pd.concat([Gdp63to96,Gdp97to23]).rename(columns={'GeoName':'StateName'})"
   ]
  },
  {
   "cell_type": "code",
   "execution_count": 31,
   "metadata": {},
   "outputs": [
    {
     "data": {
      "text/plain": [
       "StateName            object\n",
       "statefip             object\n",
       "year         datetime64[ns]\n",
       "NGdp                float64\n",
       "dtype: object"
      ]
     },
     "execution_count": 31,
     "metadata": {},
     "output_type": "execute_result"
    }
   ],
   "source": [
    "GdpAllYears.dtypes"
   ]
  },
  {
   "cell_type": "markdown",
   "metadata": {},
   "source": [
    "# Merging GDP, ACS/CPS and State Capital Stock Estimates"
   ]
  },
  {
   "cell_type": "code",
   "execution_count": 32,
   "metadata": {},
   "outputs": [
    {
     "data": {
      "text/html": [
       "<div>\n",
       "<style scoped>\n",
       "    .dataframe tbody tr th:only-of-type {\n",
       "        vertical-align: middle;\n",
       "    }\n",
       "\n",
       "    .dataframe tbody tr th {\n",
       "        vertical-align: top;\n",
       "    }\n",
       "\n",
       "    .dataframe thead th {\n",
       "        text-align: right;\n",
       "    }\n",
       "</style>\n",
       "<table border=\"1\" class=\"dataframe\">\n",
       "  <thead>\n",
       "    <tr style=\"text-align: right;\">\n",
       "      <th></th>\n",
       "      <th>ImmigrantGroup</th>\n",
       "      <th>foreign</th>\n",
       "      <th>statefip</th>\n",
       "      <th>year</th>\n",
       "      <th>HoursSupplied</th>\n",
       "      <th>BodiesSupplied</th>\n",
       "      <th>Wage</th>\n",
       "    </tr>\n",
       "  </thead>\n",
       "  <tbody>\n",
       "    <tr>\n",
       "      <th>0</th>\n",
       "      <td>Canada-Australia-New Zealand</td>\n",
       "      <td>1</td>\n",
       "      <td>01</td>\n",
       "      <td>1994-01-01</td>\n",
       "      <td>8.951427</td>\n",
       "      <td>4148.02</td>\n",
       "      <td>32500.000000</td>\n",
       "    </tr>\n",
       "    <tr>\n",
       "      <th>1</th>\n",
       "      <td>Canada-Australia-New Zealand</td>\n",
       "      <td>1</td>\n",
       "      <td>02</td>\n",
       "      <td>1994-01-01</td>\n",
       "      <td>6.091535</td>\n",
       "      <td>2714.98</td>\n",
       "      <td>29623.315641</td>\n",
       "    </tr>\n",
       "    <tr>\n",
       "      <th>2</th>\n",
       "      <td>Canada-Australia-New Zealand</td>\n",
       "      <td>1</td>\n",
       "      <td>04</td>\n",
       "      <td>1994-01-01</td>\n",
       "      <td>20.506824</td>\n",
       "      <td>9182.54</td>\n",
       "      <td>14849.310878</td>\n",
       "    </tr>\n",
       "    <tr>\n",
       "      <th>3</th>\n",
       "      <td>Canada-Australia-New Zealand</td>\n",
       "      <td>1</td>\n",
       "      <td>06</td>\n",
       "      <td>1994-01-01</td>\n",
       "      <td>111.973079</td>\n",
       "      <td>46027.90</td>\n",
       "      <td>44158.675754</td>\n",
       "    </tr>\n",
       "    <tr>\n",
       "      <th>4</th>\n",
       "      <td>Canada-Australia-New Zealand</td>\n",
       "      <td>1</td>\n",
       "      <td>08</td>\n",
       "      <td>1994-01-01</td>\n",
       "      <td>33.771626</td>\n",
       "      <td>13001.83</td>\n",
       "      <td>40330.894232</td>\n",
       "    </tr>\n",
       "  </tbody>\n",
       "</table>\n",
       "</div>"
      ],
      "text/plain": [
       "                 ImmigrantGroup  foreign statefip       year  HoursSupplied  \\\n",
       "0  Canada-Australia-New Zealand        1       01 1994-01-01       8.951427   \n",
       "1  Canada-Australia-New Zealand        1       02 1994-01-01       6.091535   \n",
       "2  Canada-Australia-New Zealand        1       04 1994-01-01      20.506824   \n",
       "3  Canada-Australia-New Zealand        1       06 1994-01-01     111.973079   \n",
       "4  Canada-Australia-New Zealand        1       08 1994-01-01      33.771626   \n",
       "\n",
       "   BodiesSupplied          Wage  \n",
       "0         4148.02  32500.000000  \n",
       "1         2714.98  29623.315641  \n",
       "2         9182.54  14849.310878  \n",
       "3        46027.90  44158.675754  \n",
       "4        13001.83  40330.894232  "
      ]
     },
     "execution_count": 32,
     "metadata": {},
     "output_type": "execute_result"
    }
   ],
   "source": [
    "AcsCpsDf = (pd.read_csv(Paths['data'] + '/AcsCpsStateData.csv', dtype={'statefip':'object'})\n",
    "            .assign(statefip = lambda x: x['statefip'].str.zfill(2))\n",
    "            .assign(year = lambda x: pd.to_datetime(x['year']))\n",
    "            )\n",
    "AcsCpsDf.head()"
   ]
  },
  {
   "cell_type": "code",
   "execution_count": 33,
   "metadata": {},
   "outputs": [
    {
     "data": {
      "text/html": [
       "<div>\n",
       "<style scoped>\n",
       "    .dataframe tbody tr th:only-of-type {\n",
       "        vertical-align: middle;\n",
       "    }\n",
       "\n",
       "    .dataframe tbody tr th {\n",
       "        vertical-align: top;\n",
       "    }\n",
       "\n",
       "    .dataframe thead th {\n",
       "        text-align: right;\n",
       "    }\n",
       "</style>\n",
       "<table border=\"1\" class=\"dataframe\">\n",
       "  <thead>\n",
       "    <tr style=\"text-align: right;\">\n",
       "      <th></th>\n",
       "      <th>StateName</th>\n",
       "      <th>year</th>\n",
       "      <th>statefip</th>\n",
       "      <th>K</th>\n",
       "    </tr>\n",
       "  </thead>\n",
       "  <tbody>\n",
       "    <tr>\n",
       "      <th>0</th>\n",
       "      <td>Alabama</td>\n",
       "      <td>1994-01-01</td>\n",
       "      <td>01</td>\n",
       "      <td>1.593983e+05</td>\n",
       "    </tr>\n",
       "    <tr>\n",
       "      <th>1</th>\n",
       "      <td>Alaska</td>\n",
       "      <td>1994-01-01</td>\n",
       "      <td>02</td>\n",
       "      <td>5.873785e+04</td>\n",
       "    </tr>\n",
       "    <tr>\n",
       "      <th>2</th>\n",
       "      <td>Arizona</td>\n",
       "      <td>1994-01-01</td>\n",
       "      <td>04</td>\n",
       "      <td>2.264876e+05</td>\n",
       "    </tr>\n",
       "    <tr>\n",
       "      <th>3</th>\n",
       "      <td>Arkansas</td>\n",
       "      <td>1994-01-01</td>\n",
       "      <td>05</td>\n",
       "      <td>9.656574e+04</td>\n",
       "    </tr>\n",
       "    <tr>\n",
       "      <th>4</th>\n",
       "      <td>California</td>\n",
       "      <td>1994-01-01</td>\n",
       "      <td>06</td>\n",
       "      <td>2.157399e+06</td>\n",
       "    </tr>\n",
       "  </tbody>\n",
       "</table>\n",
       "</div>"
      ],
      "text/plain": [
       "    StateName       year statefip             K\n",
       "0     Alabama 1994-01-01       01  1.593983e+05\n",
       "1      Alaska 1994-01-01       02  5.873785e+04\n",
       "2     Arizona 1994-01-01       04  2.264876e+05\n",
       "3    Arkansas 1994-01-01       05  9.656574e+04\n",
       "4  California 1994-01-01       06  2.157399e+06"
      ]
     },
     "execution_count": 33,
     "metadata": {},
     "output_type": "execute_result"
    }
   ],
   "source": [
    "KSeries = (pd.read_stata(Paths['data'] + '/CapitalStockByState.dta')\n",
    "           .assign(year = lambda x: x['year'].astype(str))\n",
    "           .assign(year = lambda x: pd.to_datetime(x['year']))\n",
    ")\n",
    "KSeries.head()"
   ]
  },
  {
   "cell_type": "code",
   "execution_count": 34,
   "metadata": {},
   "outputs": [
    {
     "data": {
      "text/html": [
       "<div>\n",
       "<style scoped>\n",
       "    .dataframe tbody tr th:only-of-type {\n",
       "        vertical-align: middle;\n",
       "    }\n",
       "\n",
       "    .dataframe tbody tr th {\n",
       "        vertical-align: top;\n",
       "    }\n",
       "\n",
       "    .dataframe thead th {\n",
       "        text-align: right;\n",
       "    }\n",
       "</style>\n",
       "<table border=\"1\" class=\"dataframe\">\n",
       "  <thead>\n",
       "    <tr style=\"text-align: right;\">\n",
       "      <th></th>\n",
       "      <th>ImmigrantGroup</th>\n",
       "      <th>foreign</th>\n",
       "      <th>statefip</th>\n",
       "      <th>year</th>\n",
       "      <th>HoursSupplied</th>\n",
       "      <th>BodiesSupplied</th>\n",
       "      <th>Wage</th>\n",
       "      <th>StateName</th>\n",
       "      <th>NGdp</th>\n",
       "    </tr>\n",
       "  </thead>\n",
       "  <tbody>\n",
       "    <tr>\n",
       "      <th>0</th>\n",
       "      <td>Canada-Australia-New Zealand</td>\n",
       "      <td>1</td>\n",
       "      <td>01</td>\n",
       "      <td>1994-01-01</td>\n",
       "      <td>8.951427</td>\n",
       "      <td>4148.02</td>\n",
       "      <td>32500.000000</td>\n",
       "      <td>Alabama</td>\n",
       "      <td>90098.5</td>\n",
       "    </tr>\n",
       "    <tr>\n",
       "      <th>1</th>\n",
       "      <td>Canada-Australia-New Zealand</td>\n",
       "      <td>1</td>\n",
       "      <td>02</td>\n",
       "      <td>1994-01-01</td>\n",
       "      <td>6.091535</td>\n",
       "      <td>2714.98</td>\n",
       "      <td>29623.315641</td>\n",
       "      <td>Alaska</td>\n",
       "      <td>23604.7</td>\n",
       "    </tr>\n",
       "    <tr>\n",
       "      <th>2</th>\n",
       "      <td>Canada-Australia-New Zealand</td>\n",
       "      <td>1</td>\n",
       "      <td>04</td>\n",
       "      <td>1994-01-01</td>\n",
       "      <td>20.506824</td>\n",
       "      <td>9182.54</td>\n",
       "      <td>14849.310878</td>\n",
       "      <td>Arizona</td>\n",
       "      <td>100374.2</td>\n",
       "    </tr>\n",
       "    <tr>\n",
       "      <th>3</th>\n",
       "      <td>Canada-Australia-New Zealand</td>\n",
       "      <td>1</td>\n",
       "      <td>06</td>\n",
       "      <td>1994-01-01</td>\n",
       "      <td>111.973079</td>\n",
       "      <td>46027.90</td>\n",
       "      <td>44158.675754</td>\n",
       "      <td>California</td>\n",
       "      <td>861360.0</td>\n",
       "    </tr>\n",
       "    <tr>\n",
       "      <th>4</th>\n",
       "      <td>Canada-Australia-New Zealand</td>\n",
       "      <td>1</td>\n",
       "      <td>08</td>\n",
       "      <td>1994-01-01</td>\n",
       "      <td>33.771626</td>\n",
       "      <td>13001.83</td>\n",
       "      <td>40330.894232</td>\n",
       "      <td>Colorado</td>\n",
       "      <td>104506.8</td>\n",
       "    </tr>\n",
       "  </tbody>\n",
       "</table>\n",
       "</div>"
      ],
      "text/plain": [
       "                 ImmigrantGroup  foreign statefip       year  HoursSupplied  \\\n",
       "0  Canada-Australia-New Zealand        1       01 1994-01-01       8.951427   \n",
       "1  Canada-Australia-New Zealand        1       02 1994-01-01       6.091535   \n",
       "2  Canada-Australia-New Zealand        1       04 1994-01-01      20.506824   \n",
       "3  Canada-Australia-New Zealand        1       06 1994-01-01     111.973079   \n",
       "4  Canada-Australia-New Zealand        1       08 1994-01-01      33.771626   \n",
       "\n",
       "   BodiesSupplied          Wage   StateName      NGdp  \n",
       "0         4148.02  32500.000000     Alabama   90098.5  \n",
       "1         2714.98  29623.315641      Alaska   23604.7  \n",
       "2         9182.54  14849.310878     Arizona  100374.2  \n",
       "3        46027.90  44158.675754  California  861360.0  \n",
       "4        13001.83  40330.894232    Colorado  104506.8  "
      ]
     },
     "execution_count": 34,
     "metadata": {},
     "output_type": "execute_result"
    }
   ],
   "source": [
    "# The year 2024 are the only unmatched observations because Bea hasn't released those estimates yet\n",
    "AcsCpsBeaMerged = pd.merge(AcsCpsDf,GdpAllYears, on =['year','statefip'], indicator=False, how='left') \n",
    "AcsCpsBeaMerged.head()"
   ]
  },
  {
   "cell_type": "code",
   "execution_count": 35,
   "metadata": {},
   "outputs": [
    {
     "data": {
      "text/html": [
       "<div>\n",
       "<style scoped>\n",
       "    .dataframe tbody tr th:only-of-type {\n",
       "        vertical-align: middle;\n",
       "    }\n",
       "\n",
       "    .dataframe tbody tr th {\n",
       "        vertical-align: top;\n",
       "    }\n",
       "\n",
       "    .dataframe thead th {\n",
       "        text-align: right;\n",
       "    }\n",
       "</style>\n",
       "<table border=\"1\" class=\"dataframe\">\n",
       "  <thead>\n",
       "    <tr style=\"text-align: right;\">\n",
       "      <th></th>\n",
       "      <th>ImmigrantGroup</th>\n",
       "      <th>foreign</th>\n",
       "      <th>statefip</th>\n",
       "      <th>year</th>\n",
       "      <th>HoursSupplied</th>\n",
       "      <th>BodiesSupplied</th>\n",
       "      <th>Wage</th>\n",
       "      <th>StateName</th>\n",
       "      <th>NGdp</th>\n",
       "      <th>K</th>\n",
       "    </tr>\n",
       "  </thead>\n",
       "  <tbody>\n",
       "    <tr>\n",
       "      <th>0</th>\n",
       "      <td>Canada-Australia-New Zealand</td>\n",
       "      <td>1</td>\n",
       "      <td>01</td>\n",
       "      <td>1994-01-01</td>\n",
       "      <td>8.951427</td>\n",
       "      <td>4148.02</td>\n",
       "      <td>32500.000000</td>\n",
       "      <td>Alabama</td>\n",
       "      <td>90098.5</td>\n",
       "      <td>1.593983e+05</td>\n",
       "    </tr>\n",
       "    <tr>\n",
       "      <th>1</th>\n",
       "      <td>Canada-Australia-New Zealand</td>\n",
       "      <td>1</td>\n",
       "      <td>02</td>\n",
       "      <td>1994-01-01</td>\n",
       "      <td>6.091535</td>\n",
       "      <td>2714.98</td>\n",
       "      <td>29623.315641</td>\n",
       "      <td>Alaska</td>\n",
       "      <td>23604.7</td>\n",
       "      <td>5.873785e+04</td>\n",
       "    </tr>\n",
       "    <tr>\n",
       "      <th>2</th>\n",
       "      <td>Canada-Australia-New Zealand</td>\n",
       "      <td>1</td>\n",
       "      <td>04</td>\n",
       "      <td>1994-01-01</td>\n",
       "      <td>20.506824</td>\n",
       "      <td>9182.54</td>\n",
       "      <td>14849.310878</td>\n",
       "      <td>Arizona</td>\n",
       "      <td>100374.2</td>\n",
       "      <td>2.264876e+05</td>\n",
       "    </tr>\n",
       "    <tr>\n",
       "      <th>3</th>\n",
       "      <td>Canada-Australia-New Zealand</td>\n",
       "      <td>1</td>\n",
       "      <td>06</td>\n",
       "      <td>1994-01-01</td>\n",
       "      <td>111.973079</td>\n",
       "      <td>46027.90</td>\n",
       "      <td>44158.675754</td>\n",
       "      <td>California</td>\n",
       "      <td>861360.0</td>\n",
       "      <td>2.157399e+06</td>\n",
       "    </tr>\n",
       "    <tr>\n",
       "      <th>4</th>\n",
       "      <td>Canada-Australia-New Zealand</td>\n",
       "      <td>1</td>\n",
       "      <td>08</td>\n",
       "      <td>1994-01-01</td>\n",
       "      <td>33.771626</td>\n",
       "      <td>13001.83</td>\n",
       "      <td>40330.894232</td>\n",
       "      <td>Colorado</td>\n",
       "      <td>104506.8</td>\n",
       "      <td>2.359206e+05</td>\n",
       "    </tr>\n",
       "  </tbody>\n",
       "</table>\n",
       "</div>"
      ],
      "text/plain": [
       "                 ImmigrantGroup  foreign statefip       year  HoursSupplied  \\\n",
       "0  Canada-Australia-New Zealand        1       01 1994-01-01       8.951427   \n",
       "1  Canada-Australia-New Zealand        1       02 1994-01-01       6.091535   \n",
       "2  Canada-Australia-New Zealand        1       04 1994-01-01      20.506824   \n",
       "3  Canada-Australia-New Zealand        1       06 1994-01-01     111.973079   \n",
       "4  Canada-Australia-New Zealand        1       08 1994-01-01      33.771626   \n",
       "\n",
       "   BodiesSupplied          Wage   StateName      NGdp             K  \n",
       "0         4148.02  32500.000000     Alabama   90098.5  1.593983e+05  \n",
       "1         2714.98  29623.315641      Alaska   23604.7  5.873785e+04  \n",
       "2         9182.54  14849.310878     Arizona  100374.2  2.264876e+05  \n",
       "3        46027.90  44158.675754  California  861360.0  2.157399e+06  \n",
       "4        13001.83  40330.894232    Colorado  104506.8  2.359206e+05  "
      ]
     },
     "execution_count": 35,
     "metadata": {},
     "output_type": "execute_result"
    }
   ],
   "source": [
    "AcsCpsBeaCapital = pd.merge(AcsCpsBeaMerged,KSeries, on = ['statefip','year', 'StateName'], indicator=False, how = 'left')\n",
    "AcsCpsBeaCapital.head()"
   ]
  },
  {
   "cell_type": "markdown",
   "metadata": {},
   "source": [
    "# Add in the Price Deflators"
   ]
  },
  {
   "cell_type": "code",
   "execution_count": 36,
   "metadata": {},
   "outputs": [
    {
     "data": {
      "text/html": [
       "<div>\n",
       "<style scoped>\n",
       "    .dataframe tbody tr th:only-of-type {\n",
       "        vertical-align: middle;\n",
       "    }\n",
       "\n",
       "    .dataframe tbody tr th {\n",
       "        vertical-align: top;\n",
       "    }\n",
       "\n",
       "    .dataframe thead th {\n",
       "        text-align: right;\n",
       "    }\n",
       "</style>\n",
       "<table border=\"1\" class=\"dataframe\">\n",
       "  <thead>\n",
       "    <tr style=\"text-align: right;\">\n",
       "      <th></th>\n",
       "      <th>ImmigrantGroup</th>\n",
       "      <th>foreign</th>\n",
       "      <th>statefip</th>\n",
       "      <th>year</th>\n",
       "      <th>HoursSupplied</th>\n",
       "      <th>BodiesSupplied</th>\n",
       "      <th>Wage</th>\n",
       "      <th>StateName</th>\n",
       "      <th>NGdp</th>\n",
       "      <th>K</th>\n",
       "      <th>PriceDeflator</th>\n",
       "      <th>InvestmentDeflator</th>\n",
       "    </tr>\n",
       "  </thead>\n",
       "  <tbody>\n",
       "    <tr>\n",
       "      <th>0</th>\n",
       "      <td>Canada-Australia-New Zealand</td>\n",
       "      <td>1</td>\n",
       "      <td>01</td>\n",
       "      <td>1994-01-01</td>\n",
       "      <td>8.951427</td>\n",
       "      <td>4148.02</td>\n",
       "      <td>32500.000000</td>\n",
       "      <td>Alabama</td>\n",
       "      <td>90098.5</td>\n",
       "      <td>1.593983e+05</td>\n",
       "      <td>65.564</td>\n",
       "      <td>80.969</td>\n",
       "    </tr>\n",
       "    <tr>\n",
       "      <th>1</th>\n",
       "      <td>Canada-Australia-New Zealand</td>\n",
       "      <td>1</td>\n",
       "      <td>02</td>\n",
       "      <td>1994-01-01</td>\n",
       "      <td>6.091535</td>\n",
       "      <td>2714.98</td>\n",
       "      <td>29623.315641</td>\n",
       "      <td>Alaska</td>\n",
       "      <td>23604.7</td>\n",
       "      <td>5.873785e+04</td>\n",
       "      <td>65.564</td>\n",
       "      <td>80.969</td>\n",
       "    </tr>\n",
       "    <tr>\n",
       "      <th>2</th>\n",
       "      <td>Canada-Australia-New Zealand</td>\n",
       "      <td>1</td>\n",
       "      <td>04</td>\n",
       "      <td>1994-01-01</td>\n",
       "      <td>20.506824</td>\n",
       "      <td>9182.54</td>\n",
       "      <td>14849.310878</td>\n",
       "      <td>Arizona</td>\n",
       "      <td>100374.2</td>\n",
       "      <td>2.264876e+05</td>\n",
       "      <td>65.564</td>\n",
       "      <td>80.969</td>\n",
       "    </tr>\n",
       "    <tr>\n",
       "      <th>3</th>\n",
       "      <td>Canada-Australia-New Zealand</td>\n",
       "      <td>1</td>\n",
       "      <td>06</td>\n",
       "      <td>1994-01-01</td>\n",
       "      <td>111.973079</td>\n",
       "      <td>46027.90</td>\n",
       "      <td>44158.675754</td>\n",
       "      <td>California</td>\n",
       "      <td>861360.0</td>\n",
       "      <td>2.157399e+06</td>\n",
       "      <td>65.564</td>\n",
       "      <td>80.969</td>\n",
       "    </tr>\n",
       "    <tr>\n",
       "      <th>4</th>\n",
       "      <td>Canada-Australia-New Zealand</td>\n",
       "      <td>1</td>\n",
       "      <td>08</td>\n",
       "      <td>1994-01-01</td>\n",
       "      <td>33.771626</td>\n",
       "      <td>13001.83</td>\n",
       "      <td>40330.894232</td>\n",
       "      <td>Colorado</td>\n",
       "      <td>104506.8</td>\n",
       "      <td>2.359206e+05</td>\n",
       "      <td>65.564</td>\n",
       "      <td>80.969</td>\n",
       "    </tr>\n",
       "  </tbody>\n",
       "</table>\n",
       "</div>"
      ],
      "text/plain": [
       "                 ImmigrantGroup  foreign statefip       year  HoursSupplied  \\\n",
       "0  Canada-Australia-New Zealand        1       01 1994-01-01       8.951427   \n",
       "1  Canada-Australia-New Zealand        1       02 1994-01-01       6.091535   \n",
       "2  Canada-Australia-New Zealand        1       04 1994-01-01      20.506824   \n",
       "3  Canada-Australia-New Zealand        1       06 1994-01-01     111.973079   \n",
       "4  Canada-Australia-New Zealand        1       08 1994-01-01      33.771626   \n",
       "\n",
       "   BodiesSupplied          Wage   StateName      NGdp             K  \\\n",
       "0         4148.02  32500.000000     Alabama   90098.5  1.593983e+05   \n",
       "1         2714.98  29623.315641      Alaska   23604.7  5.873785e+04   \n",
       "2         9182.54  14849.310878     Arizona  100374.2  2.264876e+05   \n",
       "3        46027.90  44158.675754  California  861360.0  2.157399e+06   \n",
       "4        13001.83  40330.894232    Colorado  104506.8  2.359206e+05   \n",
       "\n",
       "   PriceDeflator  InvestmentDeflator  \n",
       "0         65.564              80.969  \n",
       "1         65.564              80.969  \n",
       "2         65.564              80.969  \n",
       "3         65.564              80.969  \n",
       "4         65.564              80.969  "
      ]
     },
     "execution_count": 36,
     "metadata": {},
     "output_type": "execute_result"
    }
   ],
   "source": [
    "PriceDf = (pd.read_csv(Paths['data'] + '/GdpPriceDeflator.csv')\n",
    "           .rename(columns={'Unnamed: 0':'year','0':'P'})\n",
    "           .assign(year = lambda x: pd.to_datetime(x['year']))\n",
    ")\n",
    "AcsCpsBeaMerged = (pd.merge(AcsCpsBeaCapital,PriceDf,how='left',on='year', indicator=True)\n",
    "                   .pipe(lambda x: x[x['_merge'] != 'left_only']) # Dates in 2024 (data not avail yet)\n",
    "                   .drop(columns = ['_merge'])\n",
    ")\n",
    "AcsCpsBeaMerged.head()"
   ]
  },
  {
   "cell_type": "markdown",
   "metadata": {},
   "source": [
    "# Clean the Pre-Period-Data"
   ]
  },
  {
   "cell_type": "code",
   "execution_count": 37,
   "metadata": {},
   "outputs": [
    {
     "name": "stderr",
     "output_type": "stream",
     "text": [
      "/home/r/remuszka/.conda/envs/ImmigrationTfp/lib/python3.12/site-packages/ipumspy/readers.py:70: CitationWarning: Use of data from IPUMS is subject to conditions including that users should cite the data appropriately.\n",
      "See the `ipums_conditions` attribute of this codebook for terms of use.\n",
      "See the `ipums_citation` attribute of this codebook for the appropriate citation.\n",
      "  warnings.warn(\n",
      "/home/r/remuszka/.conda/envs/ImmigrationTfp/lib/python3.12/site-packages/ipumspy/readers.py:70: CitationWarning: Use of data from IPUMS is subject to conditions including that users should cite the data appropriately.\n",
      "See the `ipums_conditions` attribute of this codebook for terms of use.\n",
      "See the `ipums_citation` attribute of this codebook for the appropriate citation.\n",
      "  warnings.warn(\n",
      "/home/r/remuszka/.conda/envs/ImmigrationTfp/lib/python3.12/site-packages/ipumspy/readers.py:70: CitationWarning: Use of data from IPUMS is subject to conditions including that users should cite the data appropriately.\n",
      "See the `ipums_conditions` attribute of this codebook for terms of use.\n",
      "See the `ipums_citation` attribute of this codebook for the appropriate citation.\n",
      "  warnings.warn(\n",
      "/home/r/remuszka/.conda/envs/ImmigrationTfp/lib/python3.12/site-packages/ipumspy/readers.py:70: CitationWarning: Use of data from IPUMS is subject to conditions including that users should cite the data appropriately.\n",
      "See the `ipums_conditions` attribute of this codebook for terms of use.\n",
      "See the `ipums_citation` attribute of this codebook for the appropriate citation.\n",
      "  warnings.warn(\n",
      "/home/r/remuszka/.conda/envs/ImmigrationTfp/lib/python3.12/site-packages/ipumspy/readers.py:70: CitationWarning: Use of data from IPUMS is subject to conditions including that users should cite the data appropriately.\n",
      "See the `ipums_conditions` attribute of this codebook for terms of use.\n",
      "See the `ipums_citation` attribute of this codebook for the appropriate citation.\n",
      "  warnings.warn(\n"
     ]
    }
   ],
   "source": [
    "# Initialize\n",
    "Df = pd.DataFrame()\n",
    "\n",
    "# Create a path object to the data\n",
    "DataDir = Path(Paths['preperiod'])\n",
    "\n",
    "# Construct file list\n",
    "Files = list(DataDir.glob(\"*.xml\"))\n",
    "\n",
    "for f in Files:\n",
    "\n",
    "    # Get the Data dictionary\n",
    "    ddi = readers.read_ipums_ddi(f)\n",
    "    df = readers.read_microdata(ddi, DataDir / ddi.file_description.filename)\n",
    "\n",
    "    # Read data in and do some cleaning\n",
    "    preperiod_df = (df\n",
    "            .rename(columns=lambda x: x.lower())\n",
    "            .drop(columns=['bpl'])                                # We will use the detailed variable\n",
    "            .rename(columns={'bpld':'bpl'})               \n",
    "            .assign(bpl = lambda x: x['bpl'].astype(str))         # Change this to string\n",
    "            .assign(bpl = lambda x: x['bpl'].str.zfill(5))        # Uniform length 5\n",
    "            .pipe(lambda x: x[~x['bpl'].str[0].isin(['8','9'])])  # Dropping those we can't identify a country of origin for\n",
    "            .pipe(lambda x: x[x['age'] != 999])                   # Missing age\n",
    "            .pipe(lambda x: x[x['age'] >= 16])                    # Drop if below the age of 16\n",
    "            .assign(year = lambda x: pd.to_datetime(x['year'],format='%Y'))\n",
    "            .assign(ImmigrantGroup = lambda x: x['bpl'].apply(ImmigrantGroup)) # Assign immigrant groups following Peri 2012\n",
    "            .pipe(lambda x: x.loc[:,['perwt','statefip','year','ImmigrantGroup']])\n",
    "            )\n",
    "\n",
    "    # Create State-ImmigrantGroup table\n",
    "    preperiod_collapse = (preperiod_df\n",
    "                    .groupby(['ImmigrantGroup','statefip','year'])\n",
    "                    .apply(lambda x: pd.Series({\n",
    "                        'Count': np.dot(np.ones(len(x['perwt'])),x['perwt'])}))\n",
    "                    .reset_index()\n",
    "                    .assign(statefip = lambda x: x['statefip'].astype(str).str.zfill(2))\n",
    "                    )\n",
    "    \n",
    "    Df = pd.concat([Df,preperiod_collapse])"
   ]
  },
  {
   "cell_type": "code",
   "execution_count": 38,
   "metadata": {},
   "outputs": [
    {
     "data": {
      "text/html": [
       "<div>\n",
       "<style scoped>\n",
       "    .dataframe tbody tr th:only-of-type {\n",
       "        vertical-align: middle;\n",
       "    }\n",
       "\n",
       "    .dataframe tbody tr th {\n",
       "        vertical-align: top;\n",
       "    }\n",
       "\n",
       "    .dataframe thead th {\n",
       "        text-align: right;\n",
       "    }\n",
       "</style>\n",
       "<table border=\"1\" class=\"dataframe\">\n",
       "  <thead>\n",
       "    <tr style=\"text-align: right;\">\n",
       "      <th>groupyear</th>\n",
       "      <th>statefip</th>\n",
       "      <th>Africa_1920</th>\n",
       "      <th>Africa_1930</th>\n",
       "      <th>Africa_1940</th>\n",
       "      <th>Africa_1950</th>\n",
       "      <th>Africa_1960</th>\n",
       "      <th>AsiaOther_1920</th>\n",
       "      <th>AsiaOther_1930</th>\n",
       "      <th>AsiaOther_1940</th>\n",
       "      <th>AsiaOther_1950</th>\n",
       "      <th>...</th>\n",
       "      <th>US_1920</th>\n",
       "      <th>US_1930</th>\n",
       "      <th>US_1940</th>\n",
       "      <th>US_1950</th>\n",
       "      <th>US_1960</th>\n",
       "      <th>WestEu_1920</th>\n",
       "      <th>WestEu_1930</th>\n",
       "      <th>WestEu_1940</th>\n",
       "      <th>WestEu_1950</th>\n",
       "      <th>WestEu_1960</th>\n",
       "    </tr>\n",
       "  </thead>\n",
       "  <tbody>\n",
       "    <tr>\n",
       "      <th>0</th>\n",
       "      <td>01</td>\n",
       "      <td>99.63</td>\n",
       "      <td>0.0</td>\n",
       "      <td>0.0</td>\n",
       "      <td>0.0</td>\n",
       "      <td>0.0</td>\n",
       "      <td>398.52</td>\n",
       "      <td>1615.20</td>\n",
       "      <td>1554.0</td>\n",
       "      <td>820.0</td>\n",
       "      <td>...</td>\n",
       "      <td>1382884.76</td>\n",
       "      <td>1622670.30</td>\n",
       "      <td>1829254.0</td>\n",
       "      <td>1995881.0</td>\n",
       "      <td>2069707.0</td>\n",
       "      <td>10215.14</td>\n",
       "      <td>9691.20</td>\n",
       "      <td>9676.0</td>\n",
       "      <td>7065.0</td>\n",
       "      <td>5779.0</td>\n",
       "    </tr>\n",
       "    <tr>\n",
       "      <th>1</th>\n",
       "      <td>02</td>\n",
       "      <td>0.00</td>\n",
       "      <td>0.0</td>\n",
       "      <td>0.0</td>\n",
       "      <td>0.0</td>\n",
       "      <td>0.0</td>\n",
       "      <td>816.81</td>\n",
       "      <td>200.00</td>\n",
       "      <td>0.0</td>\n",
       "      <td>0.0</td>\n",
       "      <td>...</td>\n",
       "      <td>26554.32</td>\n",
       "      <td>30100.00</td>\n",
       "      <td>0.0</td>\n",
       "      <td>0.0</td>\n",
       "      <td>134994.0</td>\n",
       "      <td>3277.67</td>\n",
       "      <td>2700.00</td>\n",
       "      <td>0.0</td>\n",
       "      <td>0.0</td>\n",
       "      <td>1891.0</td>\n",
       "    </tr>\n",
       "    <tr>\n",
       "      <th>2</th>\n",
       "      <td>04</td>\n",
       "      <td>97.20</td>\n",
       "      <td>0.0</td>\n",
       "      <td>0.0</td>\n",
       "      <td>55.0</td>\n",
       "      <td>99.0</td>\n",
       "      <td>921.55</td>\n",
       "      <td>302.85</td>\n",
       "      <td>900.0</td>\n",
       "      <td>313.0</td>\n",
       "      <td>...</td>\n",
       "      <td>149890.63</td>\n",
       "      <td>225724.20</td>\n",
       "      <td>279896.0</td>\n",
       "      <td>459518.0</td>\n",
       "      <td>761075.0</td>\n",
       "      <td>10230.14</td>\n",
       "      <td>8984.55</td>\n",
       "      <td>5857.0</td>\n",
       "      <td>8264.0</td>\n",
       "      <td>12844.0</td>\n",
       "    </tr>\n",
       "    <tr>\n",
       "      <th>3</th>\n",
       "      <td>05</td>\n",
       "      <td>0.00</td>\n",
       "      <td>0.0</td>\n",
       "      <td>100.0</td>\n",
       "      <td>0.0</td>\n",
       "      <td>0.0</td>\n",
       "      <td>225.26</td>\n",
       "      <td>201.90</td>\n",
       "      <td>500.0</td>\n",
       "      <td>121.0</td>\n",
       "      <td>...</td>\n",
       "      <td>1018332.64</td>\n",
       "      <td>1167991.50</td>\n",
       "      <td>1269238.0</td>\n",
       "      <td>1262126.0</td>\n",
       "      <td>1172489.0</td>\n",
       "      <td>12325.25</td>\n",
       "      <td>6763.65</td>\n",
       "      <td>10029.0</td>\n",
       "      <td>5795.0</td>\n",
       "      <td>4287.0</td>\n",
       "    </tr>\n",
       "    <tr>\n",
       "      <th>4</th>\n",
       "      <td>06</td>\n",
       "      <td>314.10</td>\n",
       "      <td>1009.5</td>\n",
       "      <td>2000.0</td>\n",
       "      <td>2634.0</td>\n",
       "      <td>3788.0</td>\n",
       "      <td>61009.82</td>\n",
       "      <td>82577.10</td>\n",
       "      <td>70256.0</td>\n",
       "      <td>77795.0</td>\n",
       "      <td>...</td>\n",
       "      <td>1818134.64</td>\n",
       "      <td>3259372.65</td>\n",
       "      <td>4235989.0</td>\n",
       "      <td>6851779.0</td>\n",
       "      <td>9396205.0</td>\n",
       "      <td>357512.09</td>\n",
       "      <td>469215.60</td>\n",
       "      <td>417933.0</td>\n",
       "      <td>436017.0</td>\n",
       "      <td>453757.0</td>\n",
       "    </tr>\n",
       "  </tbody>\n",
       "</table>\n",
       "<p>5 rows × 56 columns</p>\n",
       "</div>"
      ],
      "text/plain": [
       "groupyear statefip  Africa_1920  Africa_1930  Africa_1940  Africa_1950  \\\n",
       "0               01        99.63          0.0          0.0          0.0   \n",
       "1               02         0.00          0.0          0.0          0.0   \n",
       "2               04        97.20          0.0          0.0         55.0   \n",
       "3               05         0.00          0.0        100.0          0.0   \n",
       "4               06       314.10       1009.5       2000.0       2634.0   \n",
       "\n",
       "groupyear  Africa_1960  AsiaOther_1920  AsiaOther_1930  AsiaOther_1940  \\\n",
       "0                  0.0          398.52         1615.20          1554.0   \n",
       "1                  0.0          816.81          200.00             0.0   \n",
       "2                 99.0          921.55          302.85           900.0   \n",
       "3                  0.0          225.26          201.90           500.0   \n",
       "4               3788.0        61009.82        82577.10         70256.0   \n",
       "\n",
       "groupyear  AsiaOther_1950  ...     US_1920     US_1930    US_1940    US_1950  \\\n",
       "0                   820.0  ...  1382884.76  1622670.30  1829254.0  1995881.0   \n",
       "1                     0.0  ...    26554.32    30100.00        0.0        0.0   \n",
       "2                   313.0  ...   149890.63   225724.20   279896.0   459518.0   \n",
       "3                   121.0  ...  1018332.64  1167991.50  1269238.0  1262126.0   \n",
       "4                 77795.0  ...  1818134.64  3259372.65  4235989.0  6851779.0   \n",
       "\n",
       "groupyear    US_1960  WestEu_1920  WestEu_1930  WestEu_1940  WestEu_1950  \\\n",
       "0          2069707.0     10215.14      9691.20       9676.0       7065.0   \n",
       "1           134994.0      3277.67      2700.00          0.0          0.0   \n",
       "2           761075.0     10230.14      8984.55       5857.0       8264.0   \n",
       "3          1172489.0     12325.25      6763.65      10029.0       5795.0   \n",
       "4          9396205.0    357512.09    469215.60     417933.0     436017.0   \n",
       "\n",
       "groupyear  WestEu_1960  \n",
       "0               5779.0  \n",
       "1               1891.0  \n",
       "2              12844.0  \n",
       "3               4287.0  \n",
       "4             453757.0  \n",
       "\n",
       "[5 rows x 56 columns]"
      ]
     },
     "execution_count": 38,
     "metadata": {},
     "output_type": "execute_result"
    }
   ],
   "source": [
    "# Prepare these for a large pivot\n",
    "Df_Wide = (Df\n",
    "           .assign(yearstr = lambda x: '_' + x['year'].astype(str).str[0:4])\n",
    "           .assign(ImmigrantGroup = lambda x: x['ImmigrantGroup'].replace(\n",
    "               {'Canada-Australia-New Zealand':'CaAuNz','United States':'US', 'Western Europe':'WestEu',\n",
    "                'Latin America':'LA', 'Russia and Eastern Europe':'EastEu',\n",
    "                'Rest of Asia':'AsiaOther'}))\n",
    "           .assign(groupyear = lambda x: x['ImmigrantGroup'] + x['yearstr'])\n",
    "           .drop(columns=['ImmigrantGroup', 'year', 'yearstr'])\n",
    "           .pivot(columns=['groupyear'], index=['statefip'])\n",
    "           .fillna(0)\n",
    "           .pipe(lambda x: x.droplevel(0,axis=1))\n",
    "           .reset_index()\n",
    "           )\n",
    "\n",
    "Df_Wide.head()\n"
   ]
  },
  {
   "cell_type": "markdown",
   "metadata": {},
   "source": [
    "# Merge Acs/Cps with Pre Period"
   ]
  },
  {
   "cell_type": "code",
   "execution_count": 39,
   "metadata": {},
   "outputs": [
    {
     "data": {
      "text/html": [
       "<div>\n",
       "<style scoped>\n",
       "    .dataframe tbody tr th:only-of-type {\n",
       "        vertical-align: middle;\n",
       "    }\n",
       "\n",
       "    .dataframe tbody tr th {\n",
       "        vertical-align: top;\n",
       "    }\n",
       "\n",
       "    .dataframe thead th {\n",
       "        text-align: right;\n",
       "    }\n",
       "</style>\n",
       "<table border=\"1\" class=\"dataframe\">\n",
       "  <thead>\n",
       "    <tr style=\"text-align: right;\">\n",
       "      <th></th>\n",
       "      <th>ImmigrantGroup</th>\n",
       "      <th>foreign</th>\n",
       "      <th>statefip</th>\n",
       "      <th>year</th>\n",
       "      <th>HoursSupplied</th>\n",
       "      <th>BodiesSupplied</th>\n",
       "      <th>Wage</th>\n",
       "      <th>StateName</th>\n",
       "      <th>NGdp</th>\n",
       "      <th>K</th>\n",
       "      <th>...</th>\n",
       "      <th>US_1920</th>\n",
       "      <th>US_1930</th>\n",
       "      <th>US_1940</th>\n",
       "      <th>US_1950</th>\n",
       "      <th>US_1960</th>\n",
       "      <th>WestEu_1920</th>\n",
       "      <th>WestEu_1930</th>\n",
       "      <th>WestEu_1940</th>\n",
       "      <th>WestEu_1950</th>\n",
       "      <th>WestEu_1960</th>\n",
       "    </tr>\n",
       "  </thead>\n",
       "  <tbody>\n",
       "    <tr>\n",
       "      <th>0</th>\n",
       "      <td>Canada-Australia-New Zealand</td>\n",
       "      <td>1</td>\n",
       "      <td>01</td>\n",
       "      <td>1994-01-01</td>\n",
       "      <td>8.951427</td>\n",
       "      <td>4148.02</td>\n",
       "      <td>32500.000000</td>\n",
       "      <td>Alabama</td>\n",
       "      <td>90098.5</td>\n",
       "      <td>1.593983e+05</td>\n",
       "      <td>...</td>\n",
       "      <td>1382884.76</td>\n",
       "      <td>1622670.30</td>\n",
       "      <td>1829254.0</td>\n",
       "      <td>1995881.0</td>\n",
       "      <td>2069707.0</td>\n",
       "      <td>10215.14</td>\n",
       "      <td>9691.20</td>\n",
       "      <td>9676.0</td>\n",
       "      <td>7065.0</td>\n",
       "      <td>5779.0</td>\n",
       "    </tr>\n",
       "    <tr>\n",
       "      <th>1</th>\n",
       "      <td>Canada-Australia-New Zealand</td>\n",
       "      <td>1</td>\n",
       "      <td>02</td>\n",
       "      <td>1994-01-01</td>\n",
       "      <td>6.091535</td>\n",
       "      <td>2714.98</td>\n",
       "      <td>29623.315641</td>\n",
       "      <td>Alaska</td>\n",
       "      <td>23604.7</td>\n",
       "      <td>5.873785e+04</td>\n",
       "      <td>...</td>\n",
       "      <td>26554.32</td>\n",
       "      <td>30100.00</td>\n",
       "      <td>0.0</td>\n",
       "      <td>0.0</td>\n",
       "      <td>134994.0</td>\n",
       "      <td>3277.67</td>\n",
       "      <td>2700.00</td>\n",
       "      <td>0.0</td>\n",
       "      <td>0.0</td>\n",
       "      <td>1891.0</td>\n",
       "    </tr>\n",
       "    <tr>\n",
       "      <th>2</th>\n",
       "      <td>Canada-Australia-New Zealand</td>\n",
       "      <td>1</td>\n",
       "      <td>04</td>\n",
       "      <td>1994-01-01</td>\n",
       "      <td>20.506824</td>\n",
       "      <td>9182.54</td>\n",
       "      <td>14849.310878</td>\n",
       "      <td>Arizona</td>\n",
       "      <td>100374.2</td>\n",
       "      <td>2.264876e+05</td>\n",
       "      <td>...</td>\n",
       "      <td>149890.63</td>\n",
       "      <td>225724.20</td>\n",
       "      <td>279896.0</td>\n",
       "      <td>459518.0</td>\n",
       "      <td>761075.0</td>\n",
       "      <td>10230.14</td>\n",
       "      <td>8984.55</td>\n",
       "      <td>5857.0</td>\n",
       "      <td>8264.0</td>\n",
       "      <td>12844.0</td>\n",
       "    </tr>\n",
       "    <tr>\n",
       "      <th>3</th>\n",
       "      <td>Canada-Australia-New Zealand</td>\n",
       "      <td>1</td>\n",
       "      <td>06</td>\n",
       "      <td>1994-01-01</td>\n",
       "      <td>111.973079</td>\n",
       "      <td>46027.90</td>\n",
       "      <td>44158.675754</td>\n",
       "      <td>California</td>\n",
       "      <td>861360.0</td>\n",
       "      <td>2.157399e+06</td>\n",
       "      <td>...</td>\n",
       "      <td>1818134.64</td>\n",
       "      <td>3259372.65</td>\n",
       "      <td>4235989.0</td>\n",
       "      <td>6851779.0</td>\n",
       "      <td>9396205.0</td>\n",
       "      <td>357512.09</td>\n",
       "      <td>469215.60</td>\n",
       "      <td>417933.0</td>\n",
       "      <td>436017.0</td>\n",
       "      <td>453757.0</td>\n",
       "    </tr>\n",
       "    <tr>\n",
       "      <th>4</th>\n",
       "      <td>Canada-Australia-New Zealand</td>\n",
       "      <td>1</td>\n",
       "      <td>08</td>\n",
       "      <td>1994-01-01</td>\n",
       "      <td>33.771626</td>\n",
       "      <td>13001.83</td>\n",
       "      <td>40330.894232</td>\n",
       "      <td>Colorado</td>\n",
       "      <td>104506.8</td>\n",
       "      <td>2.359206e+05</td>\n",
       "      <td>...</td>\n",
       "      <td>521164.89</td>\n",
       "      <td>630129.90</td>\n",
       "      <td>700539.0</td>\n",
       "      <td>885157.0</td>\n",
       "      <td>1082450.0</td>\n",
       "      <td>51065.17</td>\n",
       "      <td>40077.15</td>\n",
       "      <td>31132.0</td>\n",
       "      <td>24838.0</td>\n",
       "      <td>24110.0</td>\n",
       "    </tr>\n",
       "  </tbody>\n",
       "</table>\n",
       "<p>5 rows × 67 columns</p>\n",
       "</div>"
      ],
      "text/plain": [
       "                 ImmigrantGroup  foreign statefip       year  HoursSupplied  \\\n",
       "0  Canada-Australia-New Zealand        1       01 1994-01-01       8.951427   \n",
       "1  Canada-Australia-New Zealand        1       02 1994-01-01       6.091535   \n",
       "2  Canada-Australia-New Zealand        1       04 1994-01-01      20.506824   \n",
       "3  Canada-Australia-New Zealand        1       06 1994-01-01     111.973079   \n",
       "4  Canada-Australia-New Zealand        1       08 1994-01-01      33.771626   \n",
       "\n",
       "   BodiesSupplied          Wage   StateName      NGdp             K  ...  \\\n",
       "0         4148.02  32500.000000     Alabama   90098.5  1.593983e+05  ...   \n",
       "1         2714.98  29623.315641      Alaska   23604.7  5.873785e+04  ...   \n",
       "2         9182.54  14849.310878     Arizona  100374.2  2.264876e+05  ...   \n",
       "3        46027.90  44158.675754  California  861360.0  2.157399e+06  ...   \n",
       "4        13001.83  40330.894232    Colorado  104506.8  2.359206e+05  ...   \n",
       "\n",
       "      US_1920     US_1930    US_1940    US_1950    US_1960  WestEu_1920  \\\n",
       "0  1382884.76  1622670.30  1829254.0  1995881.0  2069707.0     10215.14   \n",
       "1    26554.32    30100.00        0.0        0.0   134994.0      3277.67   \n",
       "2   149890.63   225724.20   279896.0   459518.0   761075.0     10230.14   \n",
       "3  1818134.64  3259372.65  4235989.0  6851779.0  9396205.0    357512.09   \n",
       "4   521164.89   630129.90   700539.0   885157.0  1082450.0     51065.17   \n",
       "\n",
       "   WestEu_1930  WestEu_1940  WestEu_1950  WestEu_1960  \n",
       "0      9691.20       9676.0       7065.0       5779.0  \n",
       "1      2700.00          0.0          0.0       1891.0  \n",
       "2      8984.55       5857.0       8264.0      12844.0  \n",
       "3    469215.60     417933.0     436017.0     453757.0  \n",
       "4     40077.15      31132.0      24838.0      24110.0  \n",
       "\n",
       "[5 rows x 67 columns]"
      ]
     },
     "execution_count": 39,
     "metadata": {},
     "output_type": "execute_result"
    }
   ],
   "source": [
    "StateAnalysis = pd.merge(AcsCpsBeaMerged,Df_Wide, on=['statefip'], how='left', indicator=False)\n",
    "StateAnalysis.head()"
   ]
  },
  {
   "cell_type": "code",
   "execution_count": 40,
   "metadata": {},
   "outputs": [],
   "source": [
    "StateAnalysis.to_stata(Paths['data'] + '/StateAnalysisFile.dta', write_index=False, convert_dates={'year':'ty'})"
   ]
  }
 ],
 "metadata": {
  "kernelspec": {
   "display_name": "ImmigrationTfp",
   "language": "python",
   "name": "python3"
  },
  "language_info": {
   "codemirror_mode": {
    "name": "ipython",
    "version": 3
   },
   "file_extension": ".py",
   "mimetype": "text/x-python",
   "name": "python",
   "nbconvert_exporter": "python",
   "pygments_lexer": "ipython3",
   "version": "3.12.8"
  }
 },
 "nbformat": 4,
 "nbformat_minor": 2
}
