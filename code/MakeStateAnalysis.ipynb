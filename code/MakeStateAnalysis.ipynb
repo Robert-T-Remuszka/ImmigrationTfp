{
 "cells": [
  {
   "cell_type": "markdown",
   "metadata": {},
   "source": [
    "# What This Notebook Does\n",
    "This notebook creates the state level analysis file for the period 1994 to 2023 by combining data from ACS and CPS IPUMS extracts for those years. State level GDP over the corresponding period come from the BEA's [United States Regional Economic Analysis Project](https://united-states.reaproject.org/), which I downloaded manually from their site."
   ]
  },
  {
   "cell_type": "code",
   "execution_count": 1,
   "metadata": {},
   "outputs": [],
   "source": [
    "%load_ext autoreload\n",
    "%autoreload 2\n",
    "import pandas as pd\n",
    "import numpy as np\n",
    "from ipumspy import readers, ddi\n",
    "from Credentials import MyCredentials\n",
    "from Functions import *\n",
    "from pathlib import Path\n",
    "\n",
    "def ImmigrantGroup(col):\n",
    "    '''\n",
    "    This function assigns observations to Immigrant Groups following the\n",
    "    classification in Peri (2012), for CPS and ACS data.\n",
    "    '''\n",
    "    if col in ['20000']:\n",
    "        return 'Mexico'\n",
    "    elif col[0] == '0':\n",
    "        return 'United States'\n",
    "    elif col in ['11000'] or (col[0:2] in ['21','25','26','30'] and col != '26030'):\n",
    "        return 'Latin America'\n",
    "    elif col[0:2] in ['41','42','43'] or col in ['45300','45000']:\n",
    "        return 'Western Europe'\n",
    "    elif col[0:2] in ['45','46'] and col not in ['45300','45000']:\n",
    "        return 'Russia and Eastern Europe'\n",
    "    elif col in ['15000','70020','70010']:\n",
    "        return 'Canada-Australia-New Zealand'\n",
    "    elif col in ['50000']:\n",
    "        return 'China'\n",
    "    elif col in ['52100']:\n",
    "        return 'India'\n",
    "    elif col[0:2] in ['50','51','52','55','53','54'] and col not in ['52100','50000']:\n",
    "        return 'Rest of Asia'\n",
    "    elif col[0:2] == '60':\n",
    "        return 'Africa'\n",
    "    else:\n",
    "        return 'Other'\n"
   ]
  },
  {
   "cell_type": "markdown",
   "metadata": {},
   "source": [
    "# ACS"
   ]
  },
  {
   "cell_type": "code",
   "execution_count": 22,
   "metadata": {},
   "outputs": [
    {
     "name": "stderr",
     "output_type": "stream",
     "text": [
      "/home/r/remuszka/.conda/envs/ImmigrationTfp/lib/python3.12/site-packages/ipumspy/readers.py:70: CitationWarning: Use of data from IPUMS is subject to conditions including that users should cite the data appropriately.\n",
      "See the `ipums_conditions` attribute of this codebook for terms of use.\n",
      "See the `ipums_citation` attribute of this codebook for the appropriate citation.\n",
      "  warnings.warn(\n"
     ]
    },
    {
     "name": "stdout",
     "output_type": "stream",
     "text": [
      "\n",
      "**********************************************************************\n",
      "Working file ../data/acs/usa_00100.xml corresponding to sample 2000\n",
      "**********************************************************************\n",
      "\n"
     ]
    },
    {
     "name": "stderr",
     "output_type": "stream",
     "text": [
      "/home/r/remuszka/.conda/envs/ImmigrationTfp/lib/python3.12/site-packages/ipumspy/readers.py:70: CitationWarning: Use of data from IPUMS is subject to conditions including that users should cite the data appropriately.\n",
      "See the `ipums_conditions` attribute of this codebook for terms of use.\n",
      "See the `ipums_citation` attribute of this codebook for the appropriate citation.\n",
      "  warnings.warn(\n"
     ]
    },
    {
     "name": "stdout",
     "output_type": "stream",
     "text": [
      "\n",
      "**********************************************************************\n",
      "Working file ../data/acs/usa_00101.xml corresponding to sample 2001\n",
      "**********************************************************************\n",
      "\n"
     ]
    },
    {
     "name": "stderr",
     "output_type": "stream",
     "text": [
      "/home/r/remuszka/.conda/envs/ImmigrationTfp/lib/python3.12/site-packages/ipumspy/readers.py:70: CitationWarning: Use of data from IPUMS is subject to conditions including that users should cite the data appropriately.\n",
      "See the `ipums_conditions` attribute of this codebook for terms of use.\n",
      "See the `ipums_citation` attribute of this codebook for the appropriate citation.\n",
      "  warnings.warn(\n"
     ]
    },
    {
     "name": "stdout",
     "output_type": "stream",
     "text": [
      "\n",
      "**********************************************************************\n",
      "Working file ../data/acs/usa_00102.xml corresponding to sample 2002\n",
      "**********************************************************************\n",
      "\n"
     ]
    },
    {
     "name": "stderr",
     "output_type": "stream",
     "text": [
      "/home/r/remuszka/.conda/envs/ImmigrationTfp/lib/python3.12/site-packages/ipumspy/readers.py:70: CitationWarning: Use of data from IPUMS is subject to conditions including that users should cite the data appropriately.\n",
      "See the `ipums_conditions` attribute of this codebook for terms of use.\n",
      "See the `ipums_citation` attribute of this codebook for the appropriate citation.\n",
      "  warnings.warn(\n"
     ]
    },
    {
     "name": "stdout",
     "output_type": "stream",
     "text": [
      "\n",
      "**********************************************************************\n",
      "Working file ../data/acs/usa_00103.xml corresponding to sample 2003\n",
      "**********************************************************************\n",
      "\n"
     ]
    },
    {
     "name": "stderr",
     "output_type": "stream",
     "text": [
      "/home/r/remuszka/.conda/envs/ImmigrationTfp/lib/python3.12/site-packages/ipumspy/readers.py:70: CitationWarning: Use of data from IPUMS is subject to conditions including that users should cite the data appropriately.\n",
      "See the `ipums_conditions` attribute of this codebook for terms of use.\n",
      "See the `ipums_citation` attribute of this codebook for the appropriate citation.\n",
      "  warnings.warn(\n"
     ]
    },
    {
     "name": "stdout",
     "output_type": "stream",
     "text": [
      "\n",
      "**********************************************************************\n",
      "Working file ../data/acs/usa_00104.xml corresponding to sample 2004\n",
      "**********************************************************************\n",
      "\n"
     ]
    },
    {
     "name": "stderr",
     "output_type": "stream",
     "text": [
      "/home/r/remuszka/.conda/envs/ImmigrationTfp/lib/python3.12/site-packages/ipumspy/readers.py:70: CitationWarning: Use of data from IPUMS is subject to conditions including that users should cite the data appropriately.\n",
      "See the `ipums_conditions` attribute of this codebook for terms of use.\n",
      "See the `ipums_citation` attribute of this codebook for the appropriate citation.\n",
      "  warnings.warn(\n"
     ]
    },
    {
     "name": "stdout",
     "output_type": "stream",
     "text": [
      "\n",
      "**********************************************************************\n",
      "Working file ../data/acs/usa_00105.xml corresponding to sample 2005\n",
      "**********************************************************************\n",
      "\n"
     ]
    },
    {
     "name": "stderr",
     "output_type": "stream",
     "text": [
      "/home/r/remuszka/.conda/envs/ImmigrationTfp/lib/python3.12/site-packages/ipumspy/readers.py:70: CitationWarning: Use of data from IPUMS is subject to conditions including that users should cite the data appropriately.\n",
      "See the `ipums_conditions` attribute of this codebook for terms of use.\n",
      "See the `ipums_citation` attribute of this codebook for the appropriate citation.\n",
      "  warnings.warn(\n"
     ]
    },
    {
     "name": "stdout",
     "output_type": "stream",
     "text": [
      "\n",
      "**********************************************************************\n",
      "Working file ../data/acs/usa_00106.xml corresponding to sample 2006\n",
      "**********************************************************************\n",
      "\n"
     ]
    },
    {
     "name": "stderr",
     "output_type": "stream",
     "text": [
      "/home/r/remuszka/.conda/envs/ImmigrationTfp/lib/python3.12/site-packages/ipumspy/readers.py:70: CitationWarning: Use of data from IPUMS is subject to conditions including that users should cite the data appropriately.\n",
      "See the `ipums_conditions` attribute of this codebook for terms of use.\n",
      "See the `ipums_citation` attribute of this codebook for the appropriate citation.\n",
      "  warnings.warn(\n"
     ]
    },
    {
     "name": "stdout",
     "output_type": "stream",
     "text": [
      "\n",
      "**********************************************************************\n",
      "Working file ../data/acs/usa_00107.xml corresponding to sample 2007\n",
      "**********************************************************************\n",
      "\n"
     ]
    },
    {
     "name": "stderr",
     "output_type": "stream",
     "text": [
      "/home/r/remuszka/.conda/envs/ImmigrationTfp/lib/python3.12/site-packages/ipumspy/readers.py:70: CitationWarning: Use of data from IPUMS is subject to conditions including that users should cite the data appropriately.\n",
      "See the `ipums_conditions` attribute of this codebook for terms of use.\n",
      "See the `ipums_citation` attribute of this codebook for the appropriate citation.\n",
      "  warnings.warn(\n"
     ]
    },
    {
     "name": "stdout",
     "output_type": "stream",
     "text": [
      "\n",
      "**********************************************************************\n",
      "Working file ../data/acs/usa_00108.xml corresponding to sample 2008\n",
      "**********************************************************************\n",
      "\n"
     ]
    },
    {
     "name": "stderr",
     "output_type": "stream",
     "text": [
      "/home/r/remuszka/.conda/envs/ImmigrationTfp/lib/python3.12/site-packages/ipumspy/readers.py:70: CitationWarning: Use of data from IPUMS is subject to conditions including that users should cite the data appropriately.\n",
      "See the `ipums_conditions` attribute of this codebook for terms of use.\n",
      "See the `ipums_citation` attribute of this codebook for the appropriate citation.\n",
      "  warnings.warn(\n"
     ]
    },
    {
     "name": "stdout",
     "output_type": "stream",
     "text": [
      "\n",
      "**********************************************************************\n",
      "Working file ../data/acs/usa_00109.xml corresponding to sample 2009\n",
      "**********************************************************************\n",
      "\n"
     ]
    },
    {
     "name": "stderr",
     "output_type": "stream",
     "text": [
      "/home/r/remuszka/.conda/envs/ImmigrationTfp/lib/python3.12/site-packages/ipumspy/readers.py:70: CitationWarning: Use of data from IPUMS is subject to conditions including that users should cite the data appropriately.\n",
      "See the `ipums_conditions` attribute of this codebook for terms of use.\n",
      "See the `ipums_citation` attribute of this codebook for the appropriate citation.\n",
      "  warnings.warn(\n"
     ]
    },
    {
     "name": "stdout",
     "output_type": "stream",
     "text": [
      "\n",
      "**********************************************************************\n",
      "Working file ../data/acs/usa_00110.xml corresponding to sample 2010\n",
      "**********************************************************************\n",
      "\n"
     ]
    },
    {
     "name": "stderr",
     "output_type": "stream",
     "text": [
      "/home/r/remuszka/.conda/envs/ImmigrationTfp/lib/python3.12/site-packages/ipumspy/readers.py:70: CitationWarning: Use of data from IPUMS is subject to conditions including that users should cite the data appropriately.\n",
      "See the `ipums_conditions` attribute of this codebook for terms of use.\n",
      "See the `ipums_citation` attribute of this codebook for the appropriate citation.\n",
      "  warnings.warn(\n"
     ]
    },
    {
     "name": "stdout",
     "output_type": "stream",
     "text": [
      "\n",
      "**********************************************************************\n",
      "Working file ../data/acs/usa_00111.xml corresponding to sample 2011\n",
      "**********************************************************************\n",
      "\n"
     ]
    },
    {
     "name": "stderr",
     "output_type": "stream",
     "text": [
      "/home/r/remuszka/.conda/envs/ImmigrationTfp/lib/python3.12/site-packages/ipumspy/readers.py:70: CitationWarning: Use of data from IPUMS is subject to conditions including that users should cite the data appropriately.\n",
      "See the `ipums_conditions` attribute of this codebook for terms of use.\n",
      "See the `ipums_citation` attribute of this codebook for the appropriate citation.\n",
      "  warnings.warn(\n"
     ]
    },
    {
     "name": "stdout",
     "output_type": "stream",
     "text": [
      "\n",
      "**********************************************************************\n",
      "Working file ../data/acs/usa_00112.xml corresponding to sample 2012\n",
      "**********************************************************************\n",
      "\n"
     ]
    },
    {
     "name": "stderr",
     "output_type": "stream",
     "text": [
      "/home/r/remuszka/.conda/envs/ImmigrationTfp/lib/python3.12/site-packages/ipumspy/readers.py:70: CitationWarning: Use of data from IPUMS is subject to conditions including that users should cite the data appropriately.\n",
      "See the `ipums_conditions` attribute of this codebook for terms of use.\n",
      "See the `ipums_citation` attribute of this codebook for the appropriate citation.\n",
      "  warnings.warn(\n"
     ]
    },
    {
     "name": "stdout",
     "output_type": "stream",
     "text": [
      "\n",
      "**********************************************************************\n",
      "Working file ../data/acs/usa_00113.xml corresponding to sample 2013\n",
      "**********************************************************************\n",
      "\n"
     ]
    },
    {
     "name": "stderr",
     "output_type": "stream",
     "text": [
      "/home/r/remuszka/.conda/envs/ImmigrationTfp/lib/python3.12/site-packages/ipumspy/readers.py:70: CitationWarning: Use of data from IPUMS is subject to conditions including that users should cite the data appropriately.\n",
      "See the `ipums_conditions` attribute of this codebook for terms of use.\n",
      "See the `ipums_citation` attribute of this codebook for the appropriate citation.\n",
      "  warnings.warn(\n"
     ]
    },
    {
     "name": "stdout",
     "output_type": "stream",
     "text": [
      "\n",
      "**********************************************************************\n",
      "Working file ../data/acs/usa_00114.xml corresponding to sample 2014\n",
      "**********************************************************************\n",
      "\n"
     ]
    },
    {
     "name": "stderr",
     "output_type": "stream",
     "text": [
      "/home/r/remuszka/.conda/envs/ImmigrationTfp/lib/python3.12/site-packages/ipumspy/readers.py:70: CitationWarning: Use of data from IPUMS is subject to conditions including that users should cite the data appropriately.\n",
      "See the `ipums_conditions` attribute of this codebook for terms of use.\n",
      "See the `ipums_citation` attribute of this codebook for the appropriate citation.\n",
      "  warnings.warn(\n"
     ]
    },
    {
     "name": "stdout",
     "output_type": "stream",
     "text": [
      "\n",
      "**********************************************************************\n",
      "Working file ../data/acs/usa_00115.xml corresponding to sample 2015\n",
      "**********************************************************************\n",
      "\n"
     ]
    },
    {
     "name": "stderr",
     "output_type": "stream",
     "text": [
      "/home/r/remuszka/.conda/envs/ImmigrationTfp/lib/python3.12/site-packages/ipumspy/readers.py:70: CitationWarning: Use of data from IPUMS is subject to conditions including that users should cite the data appropriately.\n",
      "See the `ipums_conditions` attribute of this codebook for terms of use.\n",
      "See the `ipums_citation` attribute of this codebook for the appropriate citation.\n",
      "  warnings.warn(\n"
     ]
    },
    {
     "name": "stdout",
     "output_type": "stream",
     "text": [
      "\n",
      "**********************************************************************\n",
      "Working file ../data/acs/usa_00116.xml corresponding to sample 2016\n",
      "**********************************************************************\n",
      "\n"
     ]
    },
    {
     "name": "stderr",
     "output_type": "stream",
     "text": [
      "/home/r/remuszka/.conda/envs/ImmigrationTfp/lib/python3.12/site-packages/ipumspy/readers.py:70: CitationWarning: Use of data from IPUMS is subject to conditions including that users should cite the data appropriately.\n",
      "See the `ipums_conditions` attribute of this codebook for terms of use.\n",
      "See the `ipums_citation` attribute of this codebook for the appropriate citation.\n",
      "  warnings.warn(\n"
     ]
    },
    {
     "name": "stdout",
     "output_type": "stream",
     "text": [
      "\n",
      "**********************************************************************\n",
      "Working file ../data/acs/usa_00117.xml corresponding to sample 2017\n",
      "**********************************************************************\n",
      "\n"
     ]
    },
    {
     "name": "stderr",
     "output_type": "stream",
     "text": [
      "/home/r/remuszka/.conda/envs/ImmigrationTfp/lib/python3.12/site-packages/ipumspy/readers.py:70: CitationWarning: Use of data from IPUMS is subject to conditions including that users should cite the data appropriately.\n",
      "See the `ipums_conditions` attribute of this codebook for terms of use.\n",
      "See the `ipums_citation` attribute of this codebook for the appropriate citation.\n",
      "  warnings.warn(\n"
     ]
    },
    {
     "name": "stdout",
     "output_type": "stream",
     "text": [
      "\n",
      "**********************************************************************\n",
      "Working file ../data/acs/usa_00118.xml corresponding to sample 2018\n",
      "**********************************************************************\n",
      "\n"
     ]
    },
    {
     "name": "stderr",
     "output_type": "stream",
     "text": [
      "/home/r/remuszka/.conda/envs/ImmigrationTfp/lib/python3.12/site-packages/ipumspy/readers.py:70: CitationWarning: Use of data from IPUMS is subject to conditions including that users should cite the data appropriately.\n",
      "See the `ipums_conditions` attribute of this codebook for terms of use.\n",
      "See the `ipums_citation` attribute of this codebook for the appropriate citation.\n",
      "  warnings.warn(\n"
     ]
    },
    {
     "name": "stdout",
     "output_type": "stream",
     "text": [
      "\n",
      "**********************************************************************\n",
      "Working file ../data/acs/usa_00119.xml corresponding to sample 2019\n",
      "**********************************************************************\n",
      "\n"
     ]
    },
    {
     "name": "stderr",
     "output_type": "stream",
     "text": [
      "/home/r/remuszka/.conda/envs/ImmigrationTfp/lib/python3.12/site-packages/ipumspy/readers.py:70: CitationWarning: Use of data from IPUMS is subject to conditions including that users should cite the data appropriately.\n",
      "See the `ipums_conditions` attribute of this codebook for terms of use.\n",
      "See the `ipums_citation` attribute of this codebook for the appropriate citation.\n",
      "  warnings.warn(\n"
     ]
    },
    {
     "name": "stdout",
     "output_type": "stream",
     "text": [
      "\n",
      "**********************************************************************\n",
      "Working file ../data/acs/usa_00120.xml corresponding to sample 2020\n",
      "**********************************************************************\n",
      "\n"
     ]
    },
    {
     "name": "stderr",
     "output_type": "stream",
     "text": [
      "/home/r/remuszka/.conda/envs/ImmigrationTfp/lib/python3.12/site-packages/ipumspy/readers.py:70: CitationWarning: Use of data from IPUMS is subject to conditions including that users should cite the data appropriately.\n",
      "See the `ipums_conditions` attribute of this codebook for terms of use.\n",
      "See the `ipums_citation` attribute of this codebook for the appropriate citation.\n",
      "  warnings.warn(\n"
     ]
    },
    {
     "name": "stdout",
     "output_type": "stream",
     "text": [
      "\n",
      "**********************************************************************\n",
      "Working file ../data/acs/usa_00121.xml corresponding to sample 2021\n",
      "**********************************************************************\n",
      "\n"
     ]
    },
    {
     "name": "stderr",
     "output_type": "stream",
     "text": [
      "/home/r/remuszka/.conda/envs/ImmigrationTfp/lib/python3.12/site-packages/ipumspy/readers.py:70: CitationWarning: Use of data from IPUMS is subject to conditions including that users should cite the data appropriately.\n",
      "See the `ipums_conditions` attribute of this codebook for terms of use.\n",
      "See the `ipums_citation` attribute of this codebook for the appropriate citation.\n",
      "  warnings.warn(\n"
     ]
    },
    {
     "name": "stdout",
     "output_type": "stream",
     "text": [
      "\n",
      "**********************************************************************\n",
      "Working file ../data/acs/usa_00122.xml corresponding to sample 2022\n",
      "**********************************************************************\n",
      "\n"
     ]
    }
   ],
   "source": [
    "# Initialize\n",
    "StateDfAcs = pd.DataFrame()\n",
    "\n",
    "# Create a path object to the data\n",
    "DataDir = Path(Paths['acs'])\n",
    "\n",
    "# Construct file list\n",
    "Files = list(DataDir.glob(\"*.xml\"))\n",
    "\n",
    "for f in Files:\n",
    "    \n",
    "    # Get the Data dictionary\n",
    "    ddi = readers.read_ipums_ddi(f)\n",
    "    df = readers.read_microdata(ddi, DataDir / ddi.file_description.filename)\n",
    "    print('\\n**********************************************************************\\n' +\n",
    "    f'Working file {f} corresponding to sample ' + str(df['YEAR'][0]) +\n",
    "    '\\n**********************************************************************\\n')\n",
    "\n",
    "    # Read data in and do some cleaning\n",
    "    acs_df = (df\n",
    "            .rename(columns=lambda x: x.lower())\n",
    "            .pipe(lambda x: x[~x['uhrswork'].isin([0])])          # Dropping all the observations with no hours, or unable to report hours\n",
    "            .drop(columns=['bpl'])\n",
    "            .rename(columns={'bpld':'bpl'})\n",
    "            .assign(bpl = lambda x: x['bpl'].astype(str))         # Change this to string\n",
    "            .assign(bpl = lambda x: x['bpl'].str.zfill(5))        # Uniform length 5\n",
    "            .pipe(lambda x: x[~x['bpl'].str[0].isin(['8','9'])])  # Dropping those we can't identify a country of origin for\n",
    "            .pipe(lambda x: x[x['uhrswork'] >= 35])               # Keep the full time workers\n",
    "            .pipe(lambda x: x[x['age'] != 999])                   # Missing age\n",
    "            .pipe(lambda x: x[x['age'] >= 16])                    # Drop if below the age of 16\n",
    "            .pipe(lambda x: x[x['citizen'] != 9])                 # Drop not in universe for citizen variable\n",
    "            .assign(year = lambda x: pd.to_datetime(x['year'],format='%Y'))\n",
    "            .pipe(lambda x: x[x['citizen'] != 9])                 # Drop the \"not in univerese codes\"\n",
    "            .assign(ImmigrantGroup = lambda x: x['bpl'].apply(ImmigrantGroup)) # Assign immigrant groups following Peri 2012\n",
    "            .assign(foreign = lambda x: (x['citizen'] != 0).astype(int))\n",
    "            .pipe(lambda x: x.loc[:,['perwt','uhrswork','foreign','statefip','year','ImmigrantGroup']])\n",
    "            )\n",
    "\n",
    "    # Create State-ImmigrantGroup table\n",
    "    acs_collapse = (acs_df\n",
    "                    .groupby(['ImmigrantGroup','foreign','statefip','year'])\n",
    "                    .apply(lambda x: pd.Series({\n",
    "                        'HoursSupplied': np.dot(x['uhrswork'] * 52,x['perwt'])/1e+6,  # Units, millions of hours\n",
    "                        'BodiesSupplied': np.dot(np.ones(len(x['perwt'])),x['perwt'])}))\n",
    "                    .reset_index()\n",
    "                    )\n",
    "    \n",
    "    StateDfAcs = pd.concat([StateDfAcs,acs_collapse])"
   ]
  },
  {
   "cell_type": "markdown",
   "metadata": {},
   "source": [
    "# CPS"
   ]
  },
  {
   "cell_type": "code",
   "execution_count": 16,
   "metadata": {},
   "outputs": [
    {
     "name": "stderr",
     "output_type": "stream",
     "text": [
      "/home/r/remuszka/.conda/envs/ImmigrationTfp/lib/python3.12/site-packages/ipumspy/readers.py:70: CitationWarning: Use of data from IPUMS is subject to conditions including that users should cite the data appropriately.\n",
      "See the `ipums_conditions` attribute of this codebook for terms of use.\n",
      "See the `ipums_citation` attribute of this codebook for the appropriate citation.\n",
      "  warnings.warn(\n"
     ]
    },
    {
     "name": "stdout",
     "output_type": "stream",
     "text": [
      "\n",
      "**********************************************************************\n",
      "Working file ../data/cps/cps_00022.xml corresponding to sample 1994\n",
      "**********************************************************************\n",
      "\n"
     ]
    },
    {
     "name": "stderr",
     "output_type": "stream",
     "text": [
      "/home/r/remuszka/.conda/envs/ImmigrationTfp/lib/python3.12/site-packages/ipumspy/readers.py:70: CitationWarning: Use of data from IPUMS is subject to conditions including that users should cite the data appropriately.\n",
      "See the `ipums_conditions` attribute of this codebook for terms of use.\n",
      "See the `ipums_citation` attribute of this codebook for the appropriate citation.\n",
      "  warnings.warn(\n"
     ]
    },
    {
     "name": "stdout",
     "output_type": "stream",
     "text": [
      "\n",
      "**********************************************************************\n",
      "Working file ../data/cps/cps_00023.xml corresponding to sample 1995\n",
      "**********************************************************************\n",
      "\n"
     ]
    },
    {
     "name": "stderr",
     "output_type": "stream",
     "text": [
      "/home/r/remuszka/.conda/envs/ImmigrationTfp/lib/python3.12/site-packages/ipumspy/readers.py:70: CitationWarning: Use of data from IPUMS is subject to conditions including that users should cite the data appropriately.\n",
      "See the `ipums_conditions` attribute of this codebook for terms of use.\n",
      "See the `ipums_citation` attribute of this codebook for the appropriate citation.\n",
      "  warnings.warn(\n"
     ]
    },
    {
     "name": "stdout",
     "output_type": "stream",
     "text": [
      "\n",
      "**********************************************************************\n",
      "Working file ../data/cps/cps_00024.xml corresponding to sample 1996\n",
      "**********************************************************************\n",
      "\n"
     ]
    },
    {
     "name": "stderr",
     "output_type": "stream",
     "text": [
      "/home/r/remuszka/.conda/envs/ImmigrationTfp/lib/python3.12/site-packages/ipumspy/readers.py:70: CitationWarning: Use of data from IPUMS is subject to conditions including that users should cite the data appropriately.\n",
      "See the `ipums_conditions` attribute of this codebook for terms of use.\n",
      "See the `ipums_citation` attribute of this codebook for the appropriate citation.\n",
      "  warnings.warn(\n"
     ]
    },
    {
     "name": "stdout",
     "output_type": "stream",
     "text": [
      "\n",
      "**********************************************************************\n",
      "Working file ../data/cps/cps_00025.xml corresponding to sample 1997\n",
      "**********************************************************************\n",
      "\n"
     ]
    },
    {
     "name": "stderr",
     "output_type": "stream",
     "text": [
      "/home/r/remuszka/.conda/envs/ImmigrationTfp/lib/python3.12/site-packages/ipumspy/readers.py:70: CitationWarning: Use of data from IPUMS is subject to conditions including that users should cite the data appropriately.\n",
      "See the `ipums_conditions` attribute of this codebook for terms of use.\n",
      "See the `ipums_citation` attribute of this codebook for the appropriate citation.\n",
      "  warnings.warn(\n"
     ]
    },
    {
     "name": "stdout",
     "output_type": "stream",
     "text": [
      "\n",
      "**********************************************************************\n",
      "Working file ../data/cps/cps_00026.xml corresponding to sample 1998\n",
      "**********************************************************************\n",
      "\n"
     ]
    },
    {
     "name": "stderr",
     "output_type": "stream",
     "text": [
      "/home/r/remuszka/.conda/envs/ImmigrationTfp/lib/python3.12/site-packages/ipumspy/readers.py:70: CitationWarning: Use of data from IPUMS is subject to conditions including that users should cite the data appropriately.\n",
      "See the `ipums_conditions` attribute of this codebook for terms of use.\n",
      "See the `ipums_citation` attribute of this codebook for the appropriate citation.\n",
      "  warnings.warn(\n"
     ]
    },
    {
     "name": "stdout",
     "output_type": "stream",
     "text": [
      "\n",
      "**********************************************************************\n",
      "Working file ../data/cps/cps_00027.xml corresponding to sample 1999\n",
      "**********************************************************************\n",
      "\n"
     ]
    },
    {
     "name": "stderr",
     "output_type": "stream",
     "text": [
      "/home/r/remuszka/.conda/envs/ImmigrationTfp/lib/python3.12/site-packages/ipumspy/readers.py:70: CitationWarning: Use of data from IPUMS is subject to conditions including that users should cite the data appropriately.\n",
      "See the `ipums_conditions` attribute of this codebook for terms of use.\n",
      "See the `ipums_citation` attribute of this codebook for the appropriate citation.\n",
      "  warnings.warn(\n"
     ]
    },
    {
     "name": "stdout",
     "output_type": "stream",
     "text": [
      "\n",
      "**********************************************************************\n",
      "Working file ../data/cps/cps_00028.xml corresponding to sample 2023\n",
      "**********************************************************************\n",
      "\n"
     ]
    },
    {
     "name": "stderr",
     "output_type": "stream",
     "text": [
      "/home/r/remuszka/.conda/envs/ImmigrationTfp/lib/python3.12/site-packages/ipumspy/readers.py:70: CitationWarning: Use of data from IPUMS is subject to conditions including that users should cite the data appropriately.\n",
      "See the `ipums_conditions` attribute of this codebook for terms of use.\n",
      "See the `ipums_citation` attribute of this codebook for the appropriate citation.\n",
      "  warnings.warn(\n"
     ]
    },
    {
     "name": "stdout",
     "output_type": "stream",
     "text": [
      "\n",
      "**********************************************************************\n",
      "Working file ../data/cps/cps_00029.xml corresponding to sample 2024\n",
      "**********************************************************************\n",
      "\n"
     ]
    }
   ],
   "source": [
    "# Initialize\n",
    "StateDfCps = pd.DataFrame()\n",
    "\n",
    "# Create a path object to the data folder\n",
    "DataDir = Path(Paths['cps'])\n",
    "\n",
    "# Construct a list of all files in the CPS folder\n",
    "Files = list(DataDir.glob(\"*.xml\")) \n",
    "\n",
    "for f in Files:\n",
    "\n",
    "    # Get the Data dictionary\n",
    "    ddi = readers.read_ipums_ddi(f)\n",
    "    df = readers.read_microdata(ddi, DataDir / ddi.file_description.filename)\n",
    "    print('\\n**********************************************************************\\n' +\n",
    "    f'Working file {f} corresponding to sample ' + str(df['YEAR'][0]) +\n",
    "    '\\n**********************************************************************\\n')\n",
    "\n",
    "    # Read data in and do some cleaning\n",
    "    cps_df = (df\n",
    "            .rename(columns=lambda x: x.lower())\n",
    "            .pipe(lambda x: x[~x['uhrsworkt'].isin([0,997,999])]) # Dropping all the observations with no hours, or unable to report hours\n",
    "            .assign(bpl = lambda x: x['bpl'].astype(str))         # Change this to string\n",
    "            .assign(bpl = lambda x: x['bpl'].str.zfill(5))        # Uniform length 5\n",
    "            .pipe(lambda x: x[~x['bpl'].isin(['8','9'])])  # Dropping those we can't identify a country of origin for\n",
    "            .pipe(lambda x: x[x['uhrsworkt'] >= 35])              # Keep the full time workers\n",
    "            .pipe(lambda x: x[x['age'] >= 16])\n",
    "            .pipe(lambda x: x[x['citizen'] != 9])                 # Drop not in universe for zitizen variable\n",
    "            .assign(year = lambda x: pd.to_datetime(x['year'],format='%Y'))\n",
    "            .pipe(lambda x: x[x['citizen'] != 9])                 # Drop the \"not in univerese codes\"\n",
    "            .assign(ImmigrantGroup = lambda x: x['bpl'].apply(ImmigrantGroup)) # Assign immigrant groups following Peri 2012\n",
    "            .assign(foreign = lambda x: x['citizen'].isin([3,4,5]).astype(int))\n",
    "            .drop(columns=['cpsid','cpsidv','cpsidp','asecwth','asecflag', 'month','serial','pernum','age','bpl','citizen',\n",
    "                            'occ','occ2010','occ1990','ind1990','educ'])\n",
    "            )\n",
    "\n",
    "    # Create State-ImmigrantGroup table\n",
    "    cps_collapse = (cps_df\n",
    "                    .groupby(['ImmigrantGroup','foreign','statefip','year'])\n",
    "                    .apply(lambda x: pd.Series({\n",
    "                        'HoursSupplied': np.dot(x['uhrsworkt'] * 52,x['asecwt'])/1e+6,  # Units, millions of hours\n",
    "                        'BodiesSupplied': np.dot(np.ones(len(x['asecwt'])),x['asecwt'])}))\n",
    "                    .reset_index()\n",
    "                    )\n",
    "    \n",
    "    StateDfCps = pd.concat([StateDfCps,cps_collapse])"
   ]
  },
  {
   "cell_type": "markdown",
   "metadata": {},
   "source": [
    "# Merging ACS, CPS"
   ]
  },
  {
   "cell_type": "code",
   "execution_count": 17,
   "metadata": {},
   "outputs": [
    {
     "data": {
      "text/html": [
       "<div>\n",
       "<style scoped>\n",
       "    .dataframe tbody tr th:only-of-type {\n",
       "        vertical-align: middle;\n",
       "    }\n",
       "\n",
       "    .dataframe tbody tr th {\n",
       "        vertical-align: top;\n",
       "    }\n",
       "\n",
       "    .dataframe thead th {\n",
       "        text-align: right;\n",
       "    }\n",
       "</style>\n",
       "<table border=\"1\" class=\"dataframe\">\n",
       "  <thead>\n",
       "    <tr style=\"text-align: right;\">\n",
       "      <th></th>\n",
       "      <th>ImmigrantGroup</th>\n",
       "      <th>foreign</th>\n",
       "      <th>statefip</th>\n",
       "      <th>year</th>\n",
       "      <th>HoursSupplied</th>\n",
       "      <th>BodiesSupplied</th>\n",
       "    </tr>\n",
       "  </thead>\n",
       "  <tbody>\n",
       "    <tr>\n",
       "      <th>0</th>\n",
       "      <td>Canada-Australia-New Zealand</td>\n",
       "      <td>1</td>\n",
       "      <td>1</td>\n",
       "      <td>1994-01-01</td>\n",
       "      <td>8.951427</td>\n",
       "      <td>4148.02</td>\n",
       "    </tr>\n",
       "    <tr>\n",
       "      <th>1</th>\n",
       "      <td>Canada-Australia-New Zealand</td>\n",
       "      <td>1</td>\n",
       "      <td>2</td>\n",
       "      <td>1994-01-01</td>\n",
       "      <td>6.091535</td>\n",
       "      <td>2714.98</td>\n",
       "    </tr>\n",
       "    <tr>\n",
       "      <th>2</th>\n",
       "      <td>Canada-Australia-New Zealand</td>\n",
       "      <td>1</td>\n",
       "      <td>4</td>\n",
       "      <td>1994-01-01</td>\n",
       "      <td>20.506824</td>\n",
       "      <td>9182.54</td>\n",
       "    </tr>\n",
       "    <tr>\n",
       "      <th>3</th>\n",
       "      <td>Canada-Australia-New Zealand</td>\n",
       "      <td>1</td>\n",
       "      <td>6</td>\n",
       "      <td>1994-01-01</td>\n",
       "      <td>111.973079</td>\n",
       "      <td>46027.90</td>\n",
       "    </tr>\n",
       "    <tr>\n",
       "      <th>4</th>\n",
       "      <td>Canada-Australia-New Zealand</td>\n",
       "      <td>1</td>\n",
       "      <td>8</td>\n",
       "      <td>1994-01-01</td>\n",
       "      <td>33.771626</td>\n",
       "      <td>13001.83</td>\n",
       "    </tr>\n",
       "  </tbody>\n",
       "</table>\n",
       "</div>"
      ],
      "text/plain": [
       "                 ImmigrantGroup  foreign  statefip       year  HoursSupplied  \\\n",
       "0  Canada-Australia-New Zealand        1         1 1994-01-01       8.951427   \n",
       "1  Canada-Australia-New Zealand        1         2 1994-01-01       6.091535   \n",
       "2  Canada-Australia-New Zealand        1         4 1994-01-01      20.506824   \n",
       "3  Canada-Australia-New Zealand        1         6 1994-01-01     111.973079   \n",
       "4  Canada-Australia-New Zealand        1         8 1994-01-01      33.771626   \n",
       "\n",
       "   BodiesSupplied  \n",
       "0         4148.02  \n",
       "1         2714.98  \n",
       "2         9182.54  \n",
       "3        46027.90  \n",
       "4        13001.83  "
      ]
     },
     "execution_count": 17,
     "metadata": {},
     "output_type": "execute_result"
    }
   ],
   "source": [
    "StateDfCps.head()"
   ]
  },
  {
   "cell_type": "code",
   "execution_count": 14,
   "metadata": {},
   "outputs": [
    {
     "data": {
      "text/html": [
       "<div>\n",
       "<style scoped>\n",
       "    .dataframe tbody tr th:only-of-type {\n",
       "        vertical-align: middle;\n",
       "    }\n",
       "\n",
       "    .dataframe tbody tr th {\n",
       "        vertical-align: top;\n",
       "    }\n",
       "\n",
       "    .dataframe thead th {\n",
       "        text-align: right;\n",
       "    }\n",
       "</style>\n",
       "<table border=\"1\" class=\"dataframe\">\n",
       "  <thead>\n",
       "    <tr style=\"text-align: right;\">\n",
       "      <th></th>\n",
       "      <th>ImmigrantGroup</th>\n",
       "      <th>foreign</th>\n",
       "      <th>statefip</th>\n",
       "      <th>year</th>\n",
       "      <th>HoursSupplied</th>\n",
       "      <th>BodiesSupplied</th>\n",
       "    </tr>\n",
       "  </thead>\n",
       "  <tbody>\n",
       "    <tr>\n",
       "      <th>0</th>\n",
       "      <td>United States</td>\n",
       "      <td>0</td>\n",
       "      <td>1</td>\n",
       "      <td>2000-01-01</td>\n",
       "      <td>4039.549644</td>\n",
       "      <td>1765526.0</td>\n",
       "    </tr>\n",
       "    <tr>\n",
       "      <th>1</th>\n",
       "      <td>United States</td>\n",
       "      <td>0</td>\n",
       "      <td>2</td>\n",
       "      <td>2000-01-01</td>\n",
       "      <td>643.007872</td>\n",
       "      <td>265878.0</td>\n",
       "    </tr>\n",
       "    <tr>\n",
       "      <th>2</th>\n",
       "      <td>United States</td>\n",
       "      <td>0</td>\n",
       "      <td>4</td>\n",
       "      <td>2000-01-01</td>\n",
       "      <td>4042.443964</td>\n",
       "      <td>1750984.0</td>\n",
       "    </tr>\n",
       "    <tr>\n",
       "      <th>3</th>\n",
       "      <td>United States</td>\n",
       "      <td>0</td>\n",
       "      <td>5</td>\n",
       "      <td>2000-01-01</td>\n",
       "      <td>2453.606272</td>\n",
       "      <td>1066271.0</td>\n",
       "    </tr>\n",
       "    <tr>\n",
       "      <th>4</th>\n",
       "      <td>United States</td>\n",
       "      <td>0</td>\n",
       "      <td>6</td>\n",
       "      <td>2000-01-01</td>\n",
       "      <td>20963.590128</td>\n",
       "      <td>9043264.0</td>\n",
       "    </tr>\n",
       "  </tbody>\n",
       "</table>\n",
       "</div>"
      ],
      "text/plain": [
       "  ImmigrantGroup  foreign  statefip       year  HoursSupplied  BodiesSupplied\n",
       "0  United States        0         1 2000-01-01    4039.549644       1765526.0\n",
       "1  United States        0         2 2000-01-01     643.007872        265878.0\n",
       "2  United States        0         4 2000-01-01    4042.443964       1750984.0\n",
       "3  United States        0         5 2000-01-01    2453.606272       1066271.0\n",
       "4  United States        0         6 2000-01-01   20963.590128       9043264.0"
      ]
     },
     "execution_count": 14,
     "metadata": {},
     "output_type": "execute_result"
    }
   ],
   "source": [
    "StateDfAcs.head()"
   ]
  },
  {
   "cell_type": "code",
   "execution_count": 24,
   "metadata": {},
   "outputs": [],
   "source": [
    "StateDf = pd.concat([StateDfCps,StateDfAcs])"
   ]
  },
  {
   "cell_type": "code",
   "execution_count": 25,
   "metadata": {},
   "outputs": [
    {
     "data": {
      "text/html": [
       "<div>\n",
       "<style scoped>\n",
       "    .dataframe tbody tr th:only-of-type {\n",
       "        vertical-align: middle;\n",
       "    }\n",
       "\n",
       "    .dataframe tbody tr th {\n",
       "        vertical-align: top;\n",
       "    }\n",
       "\n",
       "    .dataframe thead th {\n",
       "        text-align: right;\n",
       "    }\n",
       "</style>\n",
       "<table border=\"1\" class=\"dataframe\">\n",
       "  <thead>\n",
       "    <tr style=\"text-align: right;\">\n",
       "      <th></th>\n",
       "      <th>ImmigrantGroup</th>\n",
       "      <th>foreign</th>\n",
       "      <th>statefip</th>\n",
       "      <th>year</th>\n",
       "      <th>HoursSupplied</th>\n",
       "      <th>BodiesSupplied</th>\n",
       "    </tr>\n",
       "  </thead>\n",
       "  <tbody>\n",
       "    <tr>\n",
       "      <th>0</th>\n",
       "      <td>Canada-Australia-New Zealand</td>\n",
       "      <td>1</td>\n",
       "      <td>1</td>\n",
       "      <td>1994-01-01</td>\n",
       "      <td>8.951427</td>\n",
       "      <td>4148.02</td>\n",
       "    </tr>\n",
       "    <tr>\n",
       "      <th>1</th>\n",
       "      <td>Canada-Australia-New Zealand</td>\n",
       "      <td>1</td>\n",
       "      <td>2</td>\n",
       "      <td>1994-01-01</td>\n",
       "      <td>6.091535</td>\n",
       "      <td>2714.98</td>\n",
       "    </tr>\n",
       "    <tr>\n",
       "      <th>2</th>\n",
       "      <td>Canada-Australia-New Zealand</td>\n",
       "      <td>1</td>\n",
       "      <td>4</td>\n",
       "      <td>1994-01-01</td>\n",
       "      <td>20.506824</td>\n",
       "      <td>9182.54</td>\n",
       "    </tr>\n",
       "    <tr>\n",
       "      <th>3</th>\n",
       "      <td>Canada-Australia-New Zealand</td>\n",
       "      <td>1</td>\n",
       "      <td>6</td>\n",
       "      <td>1994-01-01</td>\n",
       "      <td>111.973079</td>\n",
       "      <td>46027.90</td>\n",
       "    </tr>\n",
       "    <tr>\n",
       "      <th>4</th>\n",
       "      <td>Canada-Australia-New Zealand</td>\n",
       "      <td>1</td>\n",
       "      <td>8</td>\n",
       "      <td>1994-01-01</td>\n",
       "      <td>33.771626</td>\n",
       "      <td>13001.83</td>\n",
       "    </tr>\n",
       "  </tbody>\n",
       "</table>\n",
       "</div>"
      ],
      "text/plain": [
       "                 ImmigrantGroup  foreign  statefip       year  HoursSupplied  \\\n",
       "0  Canada-Australia-New Zealand        1         1 1994-01-01       8.951427   \n",
       "1  Canada-Australia-New Zealand        1         2 1994-01-01       6.091535   \n",
       "2  Canada-Australia-New Zealand        1         4 1994-01-01      20.506824   \n",
       "3  Canada-Australia-New Zealand        1         6 1994-01-01     111.973079   \n",
       "4  Canada-Australia-New Zealand        1         8 1994-01-01      33.771626   \n",
       "\n",
       "   BodiesSupplied  \n",
       "0         4148.02  \n",
       "1         2714.98  \n",
       "2         9182.54  \n",
       "3        46027.90  \n",
       "4        13001.83  "
      ]
     },
     "execution_count": 25,
     "metadata": {},
     "output_type": "execute_result"
    }
   ],
   "source": [
    "StateDf.head()"
   ]
  },
  {
   "cell_type": "code",
   "execution_count": 26,
   "metadata": {},
   "outputs": [
    {
     "data": {
      "text/html": [
       "<div>\n",
       "<style scoped>\n",
       "    .dataframe tbody tr th:only-of-type {\n",
       "        vertical-align: middle;\n",
       "    }\n",
       "\n",
       "    .dataframe tbody tr th {\n",
       "        vertical-align: top;\n",
       "    }\n",
       "\n",
       "    .dataframe thead th {\n",
       "        text-align: right;\n",
       "    }\n",
       "</style>\n",
       "<table border=\"1\" class=\"dataframe\">\n",
       "  <thead>\n",
       "    <tr style=\"text-align: right;\">\n",
       "      <th></th>\n",
       "      <th>ImmigrantGroup</th>\n",
       "      <th>foreign</th>\n",
       "      <th>statefip</th>\n",
       "      <th>year</th>\n",
       "      <th>HoursSupplied</th>\n",
       "      <th>BodiesSupplied</th>\n",
       "    </tr>\n",
       "  </thead>\n",
       "  <tbody>\n",
       "    <tr>\n",
       "      <th>653</th>\n",
       "      <td>Western Europe</td>\n",
       "      <td>1</td>\n",
       "      <td>51</td>\n",
       "      <td>2022-01-01</td>\n",
       "      <td>136.488976</td>\n",
       "      <td>59691.0</td>\n",
       "    </tr>\n",
       "    <tr>\n",
       "      <th>654</th>\n",
       "      <td>Western Europe</td>\n",
       "      <td>1</td>\n",
       "      <td>53</td>\n",
       "      <td>2022-01-01</td>\n",
       "      <td>117.363636</td>\n",
       "      <td>51821.0</td>\n",
       "    </tr>\n",
       "    <tr>\n",
       "      <th>655</th>\n",
       "      <td>Western Europe</td>\n",
       "      <td>1</td>\n",
       "      <td>54</td>\n",
       "      <td>2022-01-01</td>\n",
       "      <td>12.124060</td>\n",
       "      <td>5424.0</td>\n",
       "    </tr>\n",
       "    <tr>\n",
       "      <th>656</th>\n",
       "      <td>Western Europe</td>\n",
       "      <td>1</td>\n",
       "      <td>55</td>\n",
       "      <td>2022-01-01</td>\n",
       "      <td>42.134768</td>\n",
       "      <td>18423.0</td>\n",
       "    </tr>\n",
       "    <tr>\n",
       "      <th>657</th>\n",
       "      <td>Western Europe</td>\n",
       "      <td>1</td>\n",
       "      <td>56</td>\n",
       "      <td>2022-01-01</td>\n",
       "      <td>5.252520</td>\n",
       "      <td>2342.0</td>\n",
       "    </tr>\n",
       "  </tbody>\n",
       "</table>\n",
       "</div>"
      ],
      "text/plain": [
       "     ImmigrantGroup  foreign  statefip       year  HoursSupplied  \\\n",
       "653  Western Europe        1        51 2022-01-01     136.488976   \n",
       "654  Western Europe        1        53 2022-01-01     117.363636   \n",
       "655  Western Europe        1        54 2022-01-01      12.124060   \n",
       "656  Western Europe        1        55 2022-01-01      42.134768   \n",
       "657  Western Europe        1        56 2022-01-01       5.252520   \n",
       "\n",
       "     BodiesSupplied  \n",
       "653         59691.0  \n",
       "654         51821.0  \n",
       "655          5424.0  \n",
       "656         18423.0  \n",
       "657          2342.0  "
      ]
     },
     "execution_count": 26,
     "metadata": {},
     "output_type": "execute_result"
    }
   ],
   "source": [
    "StateDf.tail()"
   ]
  },
  {
   "cell_type": "code",
   "execution_count": 27,
   "metadata": {},
   "outputs": [
    {
     "data": {
      "text/plain": [
       "Timestamp('2024-01-01 00:00:00')"
      ]
     },
     "execution_count": 27,
     "metadata": {},
     "output_type": "execute_result"
    }
   ],
   "source": [
    "StateDf['year'].max()"
   ]
  },
  {
   "cell_type": "code",
   "execution_count": 28,
   "metadata": {},
   "outputs": [
    {
     "data": {
      "text/plain": [
       "Timestamp('1994-01-01 00:00:00')"
      ]
     },
     "execution_count": 28,
     "metadata": {},
     "output_type": "execute_result"
    }
   ],
   "source": [
    "StateDf['year'].min()"
   ]
  },
  {
   "cell_type": "code",
   "execution_count": 30,
   "metadata": {},
   "outputs": [],
   "source": [
    "StateDf.to_csv(Paths['data'] + '/AcsCpsStateData.csv', index=False)"
   ]
  },
  {
   "cell_type": "markdown",
   "metadata": {},
   "source": [
    "# State GDP Data"
   ]
  },
  {
   "cell_type": "code",
   "execution_count": 47,
   "metadata": {},
   "outputs": [],
   "source": [
    "import glob\n",
    "Files = glob.glob(Paths['gdp'] + \"/*.csv\")\n",
    "GdpAllYears = pd.DataFrame()\n",
    "for f in Files :\n",
    "    filestring = str(f)\n",
    "    startyear = int(filestring[-13:-9])\n",
    "    endyear = int(filestring[-8:-4])\n",
    "    state = filestring[-16:-14]\n",
    "    \n",
    "    GdpDf = (pd.read_csv(filestring,header=0)\n",
    "        .pipe(lambda x: x[x['Unnamed: 0'] == 'All industry total']) # Keep just the all industry total\n",
    "        .drop(columns=['Unnamed: 0'])\n",
    "        .melt(value_vars=pd.Series([year for year in range(startyear,endyear+1)]).astype(str), id_vars=['Unnamed: 1'],\n",
    "        var_name='year', value_name='NGdp')\n",
    "        .drop(columns=['Unnamed: 1'])\n",
    "        .assign(StateAbb = state)\n",
    "    )\n",
    "    GdpAllYears = pd.concat([GdpAllYears,GdpDf])"
   ]
  },
  {
   "cell_type": "code",
   "execution_count": 48,
   "metadata": {},
   "outputs": [],
   "source": [
    "# Merge with fipscode\n",
    "FipsCross = (pd.read_csv(Paths['data'] + '/state_abbrev_fips.csv', header = 0, \n",
    "                         dtype={'statefip':'object', 'StateAbb':'object'})\n",
    "             .assign(statefip = lambda x: x['statefip'].str.zfill(2)))\n",
    "\n",
    "GdpAllYears = (pd.merge(GdpAllYears, FipsCross, on='StateAbb', how='left', indicator=False)\n",
    "              .assign(year = lambda x: pd.to_datetime(x['year'], format = '%Y'))\n",
    "              .assign(NGdp = lambda x: x['NGdp'].str.replace(',','').astype('float'))\n",
    "              )"
   ]
  },
  {
   "cell_type": "code",
   "execution_count": 49,
   "metadata": {},
   "outputs": [
    {
     "data": {
      "text/html": [
       "<div>\n",
       "<style scoped>\n",
       "    .dataframe tbody tr th:only-of-type {\n",
       "        vertical-align: middle;\n",
       "    }\n",
       "\n",
       "    .dataframe tbody tr th {\n",
       "        vertical-align: top;\n",
       "    }\n",
       "\n",
       "    .dataframe thead th {\n",
       "        text-align: right;\n",
       "    }\n",
       "</style>\n",
       "<table border=\"1\" class=\"dataframe\">\n",
       "  <thead>\n",
       "    <tr style=\"text-align: right;\">\n",
       "      <th></th>\n",
       "      <th>year</th>\n",
       "      <th>NGdp</th>\n",
       "      <th>StateAbb</th>\n",
       "      <th>statefip</th>\n",
       "    </tr>\n",
       "  </thead>\n",
       "  <tbody>\n",
       "    <tr>\n",
       "      <th>0</th>\n",
       "      <td>1963-01-01</td>\n",
       "      <td>7921.2</td>\n",
       "      <td>IA</td>\n",
       "      <td>19</td>\n",
       "    </tr>\n",
       "    <tr>\n",
       "      <th>1</th>\n",
       "      <td>1964-01-01</td>\n",
       "      <td>8349.6</td>\n",
       "      <td>IA</td>\n",
       "      <td>19</td>\n",
       "    </tr>\n",
       "    <tr>\n",
       "      <th>2</th>\n",
       "      <td>1965-01-01</td>\n",
       "      <td>9196.3</td>\n",
       "      <td>IA</td>\n",
       "      <td>19</td>\n",
       "    </tr>\n",
       "    <tr>\n",
       "      <th>3</th>\n",
       "      <td>1966-01-01</td>\n",
       "      <td>10202.2</td>\n",
       "      <td>IA</td>\n",
       "      <td>19</td>\n",
       "    </tr>\n",
       "    <tr>\n",
       "      <th>4</th>\n",
       "      <td>1967-01-01</td>\n",
       "      <td>10617.1</td>\n",
       "      <td>IA</td>\n",
       "      <td>19</td>\n",
       "    </tr>\n",
       "  </tbody>\n",
       "</table>\n",
       "</div>"
      ],
      "text/plain": [
       "        year     NGdp StateAbb statefip\n",
       "0 1963-01-01   7921.2       IA       19\n",
       "1 1964-01-01   8349.6       IA       19\n",
       "2 1965-01-01   9196.3       IA       19\n",
       "3 1966-01-01  10202.2       IA       19\n",
       "4 1967-01-01  10617.1       IA       19"
      ]
     },
     "execution_count": 49,
     "metadata": {},
     "output_type": "execute_result"
    }
   ],
   "source": [
    "GdpAllYears.head()"
   ]
  },
  {
   "cell_type": "markdown",
   "metadata": {},
   "source": [
    "# Merging GDP, ACS/CPS"
   ]
  },
  {
   "cell_type": "code",
   "execution_count": 50,
   "metadata": {},
   "outputs": [
    {
     "data": {
      "text/html": [
       "<div>\n",
       "<style scoped>\n",
       "    .dataframe tbody tr th:only-of-type {\n",
       "        vertical-align: middle;\n",
       "    }\n",
       "\n",
       "    .dataframe tbody tr th {\n",
       "        vertical-align: top;\n",
       "    }\n",
       "\n",
       "    .dataframe thead th {\n",
       "        text-align: right;\n",
       "    }\n",
       "</style>\n",
       "<table border=\"1\" class=\"dataframe\">\n",
       "  <thead>\n",
       "    <tr style=\"text-align: right;\">\n",
       "      <th></th>\n",
       "      <th>ImmigrantGroup</th>\n",
       "      <th>foreign</th>\n",
       "      <th>statefip</th>\n",
       "      <th>year</th>\n",
       "      <th>HoursSupplied</th>\n",
       "      <th>BodiesSupplied</th>\n",
       "    </tr>\n",
       "  </thead>\n",
       "  <tbody>\n",
       "    <tr>\n",
       "      <th>0</th>\n",
       "      <td>Canada-Australia-New Zealand</td>\n",
       "      <td>1</td>\n",
       "      <td>01</td>\n",
       "      <td>1994-01-01</td>\n",
       "      <td>8.951427</td>\n",
       "      <td>4148.02</td>\n",
       "    </tr>\n",
       "    <tr>\n",
       "      <th>1</th>\n",
       "      <td>Canada-Australia-New Zealand</td>\n",
       "      <td>1</td>\n",
       "      <td>02</td>\n",
       "      <td>1994-01-01</td>\n",
       "      <td>6.091535</td>\n",
       "      <td>2714.98</td>\n",
       "    </tr>\n",
       "    <tr>\n",
       "      <th>2</th>\n",
       "      <td>Canada-Australia-New Zealand</td>\n",
       "      <td>1</td>\n",
       "      <td>04</td>\n",
       "      <td>1994-01-01</td>\n",
       "      <td>20.506824</td>\n",
       "      <td>9182.54</td>\n",
       "    </tr>\n",
       "    <tr>\n",
       "      <th>3</th>\n",
       "      <td>Canada-Australia-New Zealand</td>\n",
       "      <td>1</td>\n",
       "      <td>06</td>\n",
       "      <td>1994-01-01</td>\n",
       "      <td>111.973079</td>\n",
       "      <td>46027.90</td>\n",
       "    </tr>\n",
       "    <tr>\n",
       "      <th>4</th>\n",
       "      <td>Canada-Australia-New Zealand</td>\n",
       "      <td>1</td>\n",
       "      <td>08</td>\n",
       "      <td>1994-01-01</td>\n",
       "      <td>33.771626</td>\n",
       "      <td>13001.83</td>\n",
       "    </tr>\n",
       "  </tbody>\n",
       "</table>\n",
       "</div>"
      ],
      "text/plain": [
       "                 ImmigrantGroup  foreign statefip       year  HoursSupplied  \\\n",
       "0  Canada-Australia-New Zealand        1       01 1994-01-01       8.951427   \n",
       "1  Canada-Australia-New Zealand        1       02 1994-01-01       6.091535   \n",
       "2  Canada-Australia-New Zealand        1       04 1994-01-01      20.506824   \n",
       "3  Canada-Australia-New Zealand        1       06 1994-01-01     111.973079   \n",
       "4  Canada-Australia-New Zealand        1       08 1994-01-01      33.771626   \n",
       "\n",
       "   BodiesSupplied  \n",
       "0         4148.02  \n",
       "1         2714.98  \n",
       "2         9182.54  \n",
       "3        46027.90  \n",
       "4        13001.83  "
      ]
     },
     "execution_count": 50,
     "metadata": {},
     "output_type": "execute_result"
    }
   ],
   "source": [
    "AcsCpsDf = (pd.read_csv(Paths['data'] + '/AcsCpsStateData.csv', dtype={'statefip':'object'})\n",
    "            .assign(statefip = lambda x: x['statefip'].str.zfill(2))\n",
    "            .assign(year = lambda x: pd.to_datetime(x['year']))\n",
    "            )\n",
    "AcsCpsDf.head()"
   ]
  },
  {
   "cell_type": "code",
   "execution_count": 51,
   "metadata": {},
   "outputs": [
    {
     "data": {
      "text/html": [
       "<div>\n",
       "<style scoped>\n",
       "    .dataframe tbody tr th:only-of-type {\n",
       "        vertical-align: middle;\n",
       "    }\n",
       "\n",
       "    .dataframe tbody tr th {\n",
       "        vertical-align: top;\n",
       "    }\n",
       "\n",
       "    .dataframe thead th {\n",
       "        text-align: right;\n",
       "    }\n",
       "</style>\n",
       "<table border=\"1\" class=\"dataframe\">\n",
       "  <thead>\n",
       "    <tr style=\"text-align: right;\">\n",
       "      <th></th>\n",
       "      <th>ImmigrantGroup</th>\n",
       "      <th>foreign</th>\n",
       "      <th>statefip</th>\n",
       "      <th>year</th>\n",
       "      <th>HoursSupplied</th>\n",
       "      <th>BodiesSupplied</th>\n",
       "      <th>NGdp</th>\n",
       "      <th>StateAbb</th>\n",
       "    </tr>\n",
       "  </thead>\n",
       "  <tbody>\n",
       "    <tr>\n",
       "      <th>0</th>\n",
       "      <td>Canada-Australia-New Zealand</td>\n",
       "      <td>1</td>\n",
       "      <td>01</td>\n",
       "      <td>1994-01-01</td>\n",
       "      <td>8.951427</td>\n",
       "      <td>4148.02</td>\n",
       "      <td>90098.5</td>\n",
       "      <td>AL</td>\n",
       "    </tr>\n",
       "    <tr>\n",
       "      <th>1</th>\n",
       "      <td>Canada-Australia-New Zealand</td>\n",
       "      <td>1</td>\n",
       "      <td>02</td>\n",
       "      <td>1994-01-01</td>\n",
       "      <td>6.091535</td>\n",
       "      <td>2714.98</td>\n",
       "      <td>23604.7</td>\n",
       "      <td>AK</td>\n",
       "    </tr>\n",
       "    <tr>\n",
       "      <th>2</th>\n",
       "      <td>Canada-Australia-New Zealand</td>\n",
       "      <td>1</td>\n",
       "      <td>04</td>\n",
       "      <td>1994-01-01</td>\n",
       "      <td>20.506824</td>\n",
       "      <td>9182.54</td>\n",
       "      <td>100374.2</td>\n",
       "      <td>AZ</td>\n",
       "    </tr>\n",
       "    <tr>\n",
       "      <th>3</th>\n",
       "      <td>Canada-Australia-New Zealand</td>\n",
       "      <td>1</td>\n",
       "      <td>06</td>\n",
       "      <td>1994-01-01</td>\n",
       "      <td>111.973079</td>\n",
       "      <td>46027.90</td>\n",
       "      <td>861360.0</td>\n",
       "      <td>CA</td>\n",
       "    </tr>\n",
       "    <tr>\n",
       "      <th>4</th>\n",
       "      <td>Canada-Australia-New Zealand</td>\n",
       "      <td>1</td>\n",
       "      <td>08</td>\n",
       "      <td>1994-01-01</td>\n",
       "      <td>33.771626</td>\n",
       "      <td>13001.83</td>\n",
       "      <td>104506.8</td>\n",
       "      <td>CO</td>\n",
       "    </tr>\n",
       "  </tbody>\n",
       "</table>\n",
       "</div>"
      ],
      "text/plain": [
       "                 ImmigrantGroup  foreign statefip       year  HoursSupplied  \\\n",
       "0  Canada-Australia-New Zealand        1       01 1994-01-01       8.951427   \n",
       "1  Canada-Australia-New Zealand        1       02 1994-01-01       6.091535   \n",
       "2  Canada-Australia-New Zealand        1       04 1994-01-01      20.506824   \n",
       "3  Canada-Australia-New Zealand        1       06 1994-01-01     111.973079   \n",
       "4  Canada-Australia-New Zealand        1       08 1994-01-01      33.771626   \n",
       "\n",
       "   BodiesSupplied      NGdp StateAbb  \n",
       "0         4148.02   90098.5       AL  \n",
       "1         2714.98   23604.7       AK  \n",
       "2         9182.54  100374.2       AZ  \n",
       "3        46027.90  861360.0       CA  \n",
       "4        13001.83  104506.8       CO  "
      ]
     },
     "execution_count": 51,
     "metadata": {},
     "output_type": "execute_result"
    }
   ],
   "source": [
    "# The year 2024 are the only unmatched observations because Bea hasn't released those estimates yet\n",
    "AcsCpsBeaMerged = pd.merge(AcsCpsDf,GdpAllYears, on =['year','statefip'], indicator=False, how='left') \n",
    "AcsCpsBeaMerged.head()"
   ]
  },
  {
   "cell_type": "markdown",
   "metadata": {},
   "source": [
    "# Add in the Price Deflator"
   ]
  },
  {
   "cell_type": "code",
   "execution_count": 52,
   "metadata": {},
   "outputs": [
    {
     "data": {
      "text/html": [
       "<div>\n",
       "<style scoped>\n",
       "    .dataframe tbody tr th:only-of-type {\n",
       "        vertical-align: middle;\n",
       "    }\n",
       "\n",
       "    .dataframe tbody tr th {\n",
       "        vertical-align: top;\n",
       "    }\n",
       "\n",
       "    .dataframe thead th {\n",
       "        text-align: right;\n",
       "    }\n",
       "</style>\n",
       "<table border=\"1\" class=\"dataframe\">\n",
       "  <thead>\n",
       "    <tr style=\"text-align: right;\">\n",
       "      <th></th>\n",
       "      <th>ImmigrantGroup</th>\n",
       "      <th>foreign</th>\n",
       "      <th>statefip</th>\n",
       "      <th>year</th>\n",
       "      <th>HoursSupplied</th>\n",
       "      <th>BodiesSupplied</th>\n",
       "      <th>NGdp</th>\n",
       "      <th>StateAbb</th>\n",
       "      <th>P</th>\n",
       "    </tr>\n",
       "  </thead>\n",
       "  <tbody>\n",
       "    <tr>\n",
       "      <th>0</th>\n",
       "      <td>Canada-Australia-New Zealand</td>\n",
       "      <td>1</td>\n",
       "      <td>01</td>\n",
       "      <td>1994-01-01</td>\n",
       "      <td>8.951427</td>\n",
       "      <td>4148.02</td>\n",
       "      <td>90098.5</td>\n",
       "      <td>AL</td>\n",
       "      <td>65.564</td>\n",
       "    </tr>\n",
       "    <tr>\n",
       "      <th>1</th>\n",
       "      <td>Canada-Australia-New Zealand</td>\n",
       "      <td>1</td>\n",
       "      <td>02</td>\n",
       "      <td>1994-01-01</td>\n",
       "      <td>6.091535</td>\n",
       "      <td>2714.98</td>\n",
       "      <td>23604.7</td>\n",
       "      <td>AK</td>\n",
       "      <td>65.564</td>\n",
       "    </tr>\n",
       "    <tr>\n",
       "      <th>2</th>\n",
       "      <td>Canada-Australia-New Zealand</td>\n",
       "      <td>1</td>\n",
       "      <td>04</td>\n",
       "      <td>1994-01-01</td>\n",
       "      <td>20.506824</td>\n",
       "      <td>9182.54</td>\n",
       "      <td>100374.2</td>\n",
       "      <td>AZ</td>\n",
       "      <td>65.564</td>\n",
       "    </tr>\n",
       "    <tr>\n",
       "      <th>3</th>\n",
       "      <td>Canada-Australia-New Zealand</td>\n",
       "      <td>1</td>\n",
       "      <td>06</td>\n",
       "      <td>1994-01-01</td>\n",
       "      <td>111.973079</td>\n",
       "      <td>46027.90</td>\n",
       "      <td>861360.0</td>\n",
       "      <td>CA</td>\n",
       "      <td>65.564</td>\n",
       "    </tr>\n",
       "    <tr>\n",
       "      <th>4</th>\n",
       "      <td>Canada-Australia-New Zealand</td>\n",
       "      <td>1</td>\n",
       "      <td>08</td>\n",
       "      <td>1994-01-01</td>\n",
       "      <td>33.771626</td>\n",
       "      <td>13001.83</td>\n",
       "      <td>104506.8</td>\n",
       "      <td>CO</td>\n",
       "      <td>65.564</td>\n",
       "    </tr>\n",
       "  </tbody>\n",
       "</table>\n",
       "</div>"
      ],
      "text/plain": [
       "                 ImmigrantGroup  foreign statefip       year  HoursSupplied  \\\n",
       "0  Canada-Australia-New Zealand        1       01 1994-01-01       8.951427   \n",
       "1  Canada-Australia-New Zealand        1       02 1994-01-01       6.091535   \n",
       "2  Canada-Australia-New Zealand        1       04 1994-01-01      20.506824   \n",
       "3  Canada-Australia-New Zealand        1       06 1994-01-01     111.973079   \n",
       "4  Canada-Australia-New Zealand        1       08 1994-01-01      33.771626   \n",
       "\n",
       "   BodiesSupplied      NGdp StateAbb       P  \n",
       "0         4148.02   90098.5       AL  65.564  \n",
       "1         2714.98   23604.7       AK  65.564  \n",
       "2         9182.54  100374.2       AZ  65.564  \n",
       "3        46027.90  861360.0       CA  65.564  \n",
       "4        13001.83  104506.8       CO  65.564  "
      ]
     },
     "execution_count": 52,
     "metadata": {},
     "output_type": "execute_result"
    }
   ],
   "source": [
    "PriceDf = (pd.read_csv(Paths['data'] + '/GdpPriceDeflator.csv')\n",
    "           .rename(columns={'Unnamed: 0':'year','0':'P'})\n",
    "           .assign(year = lambda x: pd.to_datetime(x['year']))\n",
    ")\n",
    "AcsCpsBeaMerged = (pd.merge(AcsCpsBeaMerged,PriceDf,how='left',on='year', indicator=True)\n",
    "                   .pipe(lambda x: x[x['_merge'] != 'left_only']) # Dates in 2024 (data not avail yet)\n",
    "                   .drop(columns = ['_merge'])\n",
    ")\n",
    "AcsCpsBeaMerged.head()"
   ]
  },
  {
   "cell_type": "markdown",
   "metadata": {},
   "source": [
    "# Clean the Pre-Period-Data"
   ]
  },
  {
   "cell_type": "code",
   "execution_count": 53,
   "metadata": {},
   "outputs": [
    {
     "name": "stderr",
     "output_type": "stream",
     "text": [
      "/home/r/remuszka/.conda/envs/ImmigrationTfp/lib/python3.12/site-packages/ipumspy/readers.py:70: CitationWarning: Use of data from IPUMS is subject to conditions including that users should cite the data appropriately.\n",
      "See the `ipums_conditions` attribute of this codebook for terms of use.\n",
      "See the `ipums_citation` attribute of this codebook for the appropriate citation.\n",
      "  warnings.warn(\n",
      "/home/r/remuszka/.conda/envs/ImmigrationTfp/lib/python3.12/site-packages/ipumspy/readers.py:70: CitationWarning: Use of data from IPUMS is subject to conditions including that users should cite the data appropriately.\n",
      "See the `ipums_conditions` attribute of this codebook for terms of use.\n",
      "See the `ipums_citation` attribute of this codebook for the appropriate citation.\n",
      "  warnings.warn(\n",
      "/home/r/remuszka/.conda/envs/ImmigrationTfp/lib/python3.12/site-packages/ipumspy/readers.py:70: CitationWarning: Use of data from IPUMS is subject to conditions including that users should cite the data appropriately.\n",
      "See the `ipums_conditions` attribute of this codebook for terms of use.\n",
      "See the `ipums_citation` attribute of this codebook for the appropriate citation.\n",
      "  warnings.warn(\n",
      "/home/r/remuszka/.conda/envs/ImmigrationTfp/lib/python3.12/site-packages/ipumspy/readers.py:70: CitationWarning: Use of data from IPUMS is subject to conditions including that users should cite the data appropriately.\n",
      "See the `ipums_conditions` attribute of this codebook for terms of use.\n",
      "See the `ipums_citation` attribute of this codebook for the appropriate citation.\n",
      "  warnings.warn(\n",
      "/home/r/remuszka/.conda/envs/ImmigrationTfp/lib/python3.12/site-packages/ipumspy/readers.py:70: CitationWarning: Use of data from IPUMS is subject to conditions including that users should cite the data appropriately.\n",
      "See the `ipums_conditions` attribute of this codebook for terms of use.\n",
      "See the `ipums_citation` attribute of this codebook for the appropriate citation.\n",
      "  warnings.warn(\n"
     ]
    }
   ],
   "source": [
    "# Initialize\n",
    "Df = pd.DataFrame()\n",
    "\n",
    "# Create a path object to the data\n",
    "DataDir = Path(Paths['preperiod'])\n",
    "\n",
    "# Construct file list\n",
    "Files = list(DataDir.glob(\"*.xml\"))\n",
    "\n",
    "for f in Files:\n",
    "\n",
    "    # Get the Data dictionary\n",
    "    ddi = readers.read_ipums_ddi(f)\n",
    "    df = readers.read_microdata(ddi, DataDir / ddi.file_description.filename)\n",
    "\n",
    "    # Read data in and do some cleaning\n",
    "    preperiod_df = (df\n",
    "            .rename(columns=lambda x: x.lower())\n",
    "            .drop(columns=['bpl'])                                # We will use the detailed variable\n",
    "            .rename(columns={'bpld':'bpl'})               \n",
    "            .assign(bpl = lambda x: x['bpl'].astype(str))         # Change this to string\n",
    "            .assign(bpl = lambda x: x['bpl'].str.zfill(5))        # Uniform length 5\n",
    "            .pipe(lambda x: x[~x['bpl'].str[0].isin(['8','9'])])  # Dropping those we can't identify a country of origin for\n",
    "            .pipe(lambda x: x[x['age'] != 999])                   # Missing age\n",
    "            .pipe(lambda x: x[x['age'] >= 16])                    # Drop if below the age of 16\n",
    "            .assign(year = lambda x: pd.to_datetime(x['year'],format='%Y'))\n",
    "            .assign(ImmigrantGroup = lambda x: x['bpl'].apply(ImmigrantGroup)) # Assign immigrant groups following Peri 2012\n",
    "            .pipe(lambda x: x.loc[:,['perwt','statefip','year','ImmigrantGroup']])\n",
    "            )\n",
    "\n",
    "    # Create State-ImmigrantGroup table\n",
    "    preperiod_collapse = (preperiod_df\n",
    "                    .groupby(['ImmigrantGroup','statefip','year'])\n",
    "                    .apply(lambda x: pd.Series({\n",
    "                        'Count': np.dot(np.ones(len(x['perwt'])),x['perwt'])}))\n",
    "                    .reset_index()\n",
    "                    .assign(statefip = lambda x: x['statefip'].astype(str).str.zfill(2))\n",
    "                    )\n",
    "    \n",
    "    Df = pd.concat([Df,preperiod_collapse])"
   ]
  },
  {
   "cell_type": "code",
   "execution_count": 54,
   "metadata": {},
   "outputs": [
    {
     "data": {
      "text/html": [
       "<div>\n",
       "<style scoped>\n",
       "    .dataframe tbody tr th:only-of-type {\n",
       "        vertical-align: middle;\n",
       "    }\n",
       "\n",
       "    .dataframe tbody tr th {\n",
       "        vertical-align: top;\n",
       "    }\n",
       "\n",
       "    .dataframe thead th {\n",
       "        text-align: right;\n",
       "    }\n",
       "</style>\n",
       "<table border=\"1\" class=\"dataframe\">\n",
       "  <thead>\n",
       "    <tr style=\"text-align: right;\">\n",
       "      <th>groupyear</th>\n",
       "      <th>statefip</th>\n",
       "      <th>Africa_1920</th>\n",
       "      <th>Africa_1930</th>\n",
       "      <th>Africa_1940</th>\n",
       "      <th>Africa_1950</th>\n",
       "      <th>Africa_1960</th>\n",
       "      <th>AsiaOther_1920</th>\n",
       "      <th>AsiaOther_1930</th>\n",
       "      <th>AsiaOther_1940</th>\n",
       "      <th>AsiaOther_1950</th>\n",
       "      <th>...</th>\n",
       "      <th>US_1920</th>\n",
       "      <th>US_1930</th>\n",
       "      <th>US_1940</th>\n",
       "      <th>US_1950</th>\n",
       "      <th>US_1960</th>\n",
       "      <th>WestEu_1920</th>\n",
       "      <th>WestEu_1930</th>\n",
       "      <th>WestEu_1940</th>\n",
       "      <th>WestEu_1950</th>\n",
       "      <th>WestEu_1960</th>\n",
       "    </tr>\n",
       "  </thead>\n",
       "  <tbody>\n",
       "    <tr>\n",
       "      <th>0</th>\n",
       "      <td>01</td>\n",
       "      <td>99.63</td>\n",
       "      <td>0.0</td>\n",
       "      <td>0.0</td>\n",
       "      <td>0.0</td>\n",
       "      <td>0.0</td>\n",
       "      <td>398.52</td>\n",
       "      <td>1615.20</td>\n",
       "      <td>1554.0</td>\n",
       "      <td>820.0</td>\n",
       "      <td>...</td>\n",
       "      <td>1382884.76</td>\n",
       "      <td>1622670.30</td>\n",
       "      <td>1829254.0</td>\n",
       "      <td>1995881.0</td>\n",
       "      <td>2069707.0</td>\n",
       "      <td>10215.14</td>\n",
       "      <td>9691.20</td>\n",
       "      <td>9676.0</td>\n",
       "      <td>7065.0</td>\n",
       "      <td>5779.0</td>\n",
       "    </tr>\n",
       "    <tr>\n",
       "      <th>1</th>\n",
       "      <td>02</td>\n",
       "      <td>0.00</td>\n",
       "      <td>0.0</td>\n",
       "      <td>0.0</td>\n",
       "      <td>0.0</td>\n",
       "      <td>0.0</td>\n",
       "      <td>816.81</td>\n",
       "      <td>200.00</td>\n",
       "      <td>0.0</td>\n",
       "      <td>0.0</td>\n",
       "      <td>...</td>\n",
       "      <td>26554.32</td>\n",
       "      <td>30100.00</td>\n",
       "      <td>0.0</td>\n",
       "      <td>0.0</td>\n",
       "      <td>134994.0</td>\n",
       "      <td>3277.67</td>\n",
       "      <td>2700.00</td>\n",
       "      <td>0.0</td>\n",
       "      <td>0.0</td>\n",
       "      <td>1891.0</td>\n",
       "    </tr>\n",
       "    <tr>\n",
       "      <th>2</th>\n",
       "      <td>04</td>\n",
       "      <td>97.20</td>\n",
       "      <td>0.0</td>\n",
       "      <td>0.0</td>\n",
       "      <td>55.0</td>\n",
       "      <td>99.0</td>\n",
       "      <td>921.55</td>\n",
       "      <td>302.85</td>\n",
       "      <td>900.0</td>\n",
       "      <td>313.0</td>\n",
       "      <td>...</td>\n",
       "      <td>149890.63</td>\n",
       "      <td>225724.20</td>\n",
       "      <td>279896.0</td>\n",
       "      <td>459518.0</td>\n",
       "      <td>761075.0</td>\n",
       "      <td>10230.14</td>\n",
       "      <td>8984.55</td>\n",
       "      <td>5857.0</td>\n",
       "      <td>8264.0</td>\n",
       "      <td>12844.0</td>\n",
       "    </tr>\n",
       "    <tr>\n",
       "      <th>3</th>\n",
       "      <td>05</td>\n",
       "      <td>0.00</td>\n",
       "      <td>0.0</td>\n",
       "      <td>100.0</td>\n",
       "      <td>0.0</td>\n",
       "      <td>0.0</td>\n",
       "      <td>225.26</td>\n",
       "      <td>201.90</td>\n",
       "      <td>500.0</td>\n",
       "      <td>121.0</td>\n",
       "      <td>...</td>\n",
       "      <td>1018332.64</td>\n",
       "      <td>1167991.50</td>\n",
       "      <td>1269238.0</td>\n",
       "      <td>1262126.0</td>\n",
       "      <td>1172489.0</td>\n",
       "      <td>12325.25</td>\n",
       "      <td>6763.65</td>\n",
       "      <td>10029.0</td>\n",
       "      <td>5795.0</td>\n",
       "      <td>4287.0</td>\n",
       "    </tr>\n",
       "    <tr>\n",
       "      <th>4</th>\n",
       "      <td>06</td>\n",
       "      <td>314.10</td>\n",
       "      <td>1009.5</td>\n",
       "      <td>2000.0</td>\n",
       "      <td>2634.0</td>\n",
       "      <td>3788.0</td>\n",
       "      <td>61009.82</td>\n",
       "      <td>82577.10</td>\n",
       "      <td>70256.0</td>\n",
       "      <td>77795.0</td>\n",
       "      <td>...</td>\n",
       "      <td>1818134.64</td>\n",
       "      <td>3259372.65</td>\n",
       "      <td>4235989.0</td>\n",
       "      <td>6851779.0</td>\n",
       "      <td>9396205.0</td>\n",
       "      <td>357512.09</td>\n",
       "      <td>469215.60</td>\n",
       "      <td>417933.0</td>\n",
       "      <td>436017.0</td>\n",
       "      <td>453757.0</td>\n",
       "    </tr>\n",
       "  </tbody>\n",
       "</table>\n",
       "<p>5 rows × 56 columns</p>\n",
       "</div>"
      ],
      "text/plain": [
       "groupyear statefip  Africa_1920  Africa_1930  Africa_1940  Africa_1950  \\\n",
       "0               01        99.63          0.0          0.0          0.0   \n",
       "1               02         0.00          0.0          0.0          0.0   \n",
       "2               04        97.20          0.0          0.0         55.0   \n",
       "3               05         0.00          0.0        100.0          0.0   \n",
       "4               06       314.10       1009.5       2000.0       2634.0   \n",
       "\n",
       "groupyear  Africa_1960  AsiaOther_1920  AsiaOther_1930  AsiaOther_1940  \\\n",
       "0                  0.0          398.52         1615.20          1554.0   \n",
       "1                  0.0          816.81          200.00             0.0   \n",
       "2                 99.0          921.55          302.85           900.0   \n",
       "3                  0.0          225.26          201.90           500.0   \n",
       "4               3788.0        61009.82        82577.10         70256.0   \n",
       "\n",
       "groupyear  AsiaOther_1950  ...     US_1920     US_1930    US_1940    US_1950  \\\n",
       "0                   820.0  ...  1382884.76  1622670.30  1829254.0  1995881.0   \n",
       "1                     0.0  ...    26554.32    30100.00        0.0        0.0   \n",
       "2                   313.0  ...   149890.63   225724.20   279896.0   459518.0   \n",
       "3                   121.0  ...  1018332.64  1167991.50  1269238.0  1262126.0   \n",
       "4                 77795.0  ...  1818134.64  3259372.65  4235989.0  6851779.0   \n",
       "\n",
       "groupyear    US_1960  WestEu_1920  WestEu_1930  WestEu_1940  WestEu_1950  \\\n",
       "0          2069707.0     10215.14      9691.20       9676.0       7065.0   \n",
       "1           134994.0      3277.67      2700.00          0.0          0.0   \n",
       "2           761075.0     10230.14      8984.55       5857.0       8264.0   \n",
       "3          1172489.0     12325.25      6763.65      10029.0       5795.0   \n",
       "4          9396205.0    357512.09    469215.60     417933.0     436017.0   \n",
       "\n",
       "groupyear  WestEu_1960  \n",
       "0               5779.0  \n",
       "1               1891.0  \n",
       "2              12844.0  \n",
       "3               4287.0  \n",
       "4             453757.0  \n",
       "\n",
       "[5 rows x 56 columns]"
      ]
     },
     "execution_count": 54,
     "metadata": {},
     "output_type": "execute_result"
    }
   ],
   "source": [
    "# Prepare these for a large pivot\n",
    "Df_Wide = (Df\n",
    "           .assign(yearstr = lambda x: '_' + x['year'].astype(str).str[0:4])\n",
    "           .assign(ImmigrantGroup = lambda x: x['ImmigrantGroup'].replace(\n",
    "               {'Canada-Australia-New Zealand':'CaAuNz','United States':'US', 'Western Europe':'WestEu',\n",
    "                'Latin America':'LA', 'Russia and Eastern Europe':'EastEu',\n",
    "                'Rest of Asia':'AsiaOther'}))\n",
    "           .assign(groupyear = lambda x: x['ImmigrantGroup'] + x['yearstr'])\n",
    "           .drop(columns=['ImmigrantGroup', 'year', 'yearstr'])\n",
    "           .pivot(columns=['groupyear'], index=['statefip'])\n",
    "           .fillna(0)\n",
    "           .pipe(lambda x: x.droplevel(0,axis=1))\n",
    "           .reset_index()\n",
    "           )\n",
    "\n",
    "Df_Wide.head()\n"
   ]
  },
  {
   "cell_type": "markdown",
   "metadata": {},
   "source": [
    "# Merge Acs/Cps with Pre Period"
   ]
  },
  {
   "cell_type": "code",
   "execution_count": 55,
   "metadata": {},
   "outputs": [
    {
     "data": {
      "text/html": [
       "<div>\n",
       "<style scoped>\n",
       "    .dataframe tbody tr th:only-of-type {\n",
       "        vertical-align: middle;\n",
       "    }\n",
       "\n",
       "    .dataframe tbody tr th {\n",
       "        vertical-align: top;\n",
       "    }\n",
       "\n",
       "    .dataframe thead th {\n",
       "        text-align: right;\n",
       "    }\n",
       "</style>\n",
       "<table border=\"1\" class=\"dataframe\">\n",
       "  <thead>\n",
       "    <tr style=\"text-align: right;\">\n",
       "      <th></th>\n",
       "      <th>ImmigrantGroup</th>\n",
       "      <th>foreign</th>\n",
       "      <th>statefip</th>\n",
       "      <th>year</th>\n",
       "      <th>HoursSupplied</th>\n",
       "      <th>BodiesSupplied</th>\n",
       "      <th>NGdp</th>\n",
       "      <th>StateAbb</th>\n",
       "      <th>P</th>\n",
       "      <th>Africa_1920</th>\n",
       "      <th>...</th>\n",
       "      <th>US_1920</th>\n",
       "      <th>US_1930</th>\n",
       "      <th>US_1940</th>\n",
       "      <th>US_1950</th>\n",
       "      <th>US_1960</th>\n",
       "      <th>WestEu_1920</th>\n",
       "      <th>WestEu_1930</th>\n",
       "      <th>WestEu_1940</th>\n",
       "      <th>WestEu_1950</th>\n",
       "      <th>WestEu_1960</th>\n",
       "    </tr>\n",
       "  </thead>\n",
       "  <tbody>\n",
       "    <tr>\n",
       "      <th>0</th>\n",
       "      <td>Canada-Australia-New Zealand</td>\n",
       "      <td>1</td>\n",
       "      <td>01</td>\n",
       "      <td>1994-01-01</td>\n",
       "      <td>8.951427</td>\n",
       "      <td>4148.02</td>\n",
       "      <td>90098.5</td>\n",
       "      <td>AL</td>\n",
       "      <td>65.564</td>\n",
       "      <td>99.63</td>\n",
       "      <td>...</td>\n",
       "      <td>1382884.76</td>\n",
       "      <td>1622670.30</td>\n",
       "      <td>1829254.0</td>\n",
       "      <td>1995881.0</td>\n",
       "      <td>2069707.0</td>\n",
       "      <td>10215.14</td>\n",
       "      <td>9691.20</td>\n",
       "      <td>9676.0</td>\n",
       "      <td>7065.0</td>\n",
       "      <td>5779.0</td>\n",
       "    </tr>\n",
       "    <tr>\n",
       "      <th>1</th>\n",
       "      <td>Canada-Australia-New Zealand</td>\n",
       "      <td>1</td>\n",
       "      <td>02</td>\n",
       "      <td>1994-01-01</td>\n",
       "      <td>6.091535</td>\n",
       "      <td>2714.98</td>\n",
       "      <td>23604.7</td>\n",
       "      <td>AK</td>\n",
       "      <td>65.564</td>\n",
       "      <td>0.00</td>\n",
       "      <td>...</td>\n",
       "      <td>26554.32</td>\n",
       "      <td>30100.00</td>\n",
       "      <td>0.0</td>\n",
       "      <td>0.0</td>\n",
       "      <td>134994.0</td>\n",
       "      <td>3277.67</td>\n",
       "      <td>2700.00</td>\n",
       "      <td>0.0</td>\n",
       "      <td>0.0</td>\n",
       "      <td>1891.0</td>\n",
       "    </tr>\n",
       "    <tr>\n",
       "      <th>2</th>\n",
       "      <td>Canada-Australia-New Zealand</td>\n",
       "      <td>1</td>\n",
       "      <td>04</td>\n",
       "      <td>1994-01-01</td>\n",
       "      <td>20.506824</td>\n",
       "      <td>9182.54</td>\n",
       "      <td>100374.2</td>\n",
       "      <td>AZ</td>\n",
       "      <td>65.564</td>\n",
       "      <td>97.20</td>\n",
       "      <td>...</td>\n",
       "      <td>149890.63</td>\n",
       "      <td>225724.20</td>\n",
       "      <td>279896.0</td>\n",
       "      <td>459518.0</td>\n",
       "      <td>761075.0</td>\n",
       "      <td>10230.14</td>\n",
       "      <td>8984.55</td>\n",
       "      <td>5857.0</td>\n",
       "      <td>8264.0</td>\n",
       "      <td>12844.0</td>\n",
       "    </tr>\n",
       "    <tr>\n",
       "      <th>3</th>\n",
       "      <td>Canada-Australia-New Zealand</td>\n",
       "      <td>1</td>\n",
       "      <td>06</td>\n",
       "      <td>1994-01-01</td>\n",
       "      <td>111.973079</td>\n",
       "      <td>46027.90</td>\n",
       "      <td>861360.0</td>\n",
       "      <td>CA</td>\n",
       "      <td>65.564</td>\n",
       "      <td>314.10</td>\n",
       "      <td>...</td>\n",
       "      <td>1818134.64</td>\n",
       "      <td>3259372.65</td>\n",
       "      <td>4235989.0</td>\n",
       "      <td>6851779.0</td>\n",
       "      <td>9396205.0</td>\n",
       "      <td>357512.09</td>\n",
       "      <td>469215.60</td>\n",
       "      <td>417933.0</td>\n",
       "      <td>436017.0</td>\n",
       "      <td>453757.0</td>\n",
       "    </tr>\n",
       "    <tr>\n",
       "      <th>4</th>\n",
       "      <td>Canada-Australia-New Zealand</td>\n",
       "      <td>1</td>\n",
       "      <td>08</td>\n",
       "      <td>1994-01-01</td>\n",
       "      <td>33.771626</td>\n",
       "      <td>13001.83</td>\n",
       "      <td>104506.8</td>\n",
       "      <td>CO</td>\n",
       "      <td>65.564</td>\n",
       "      <td>94.78</td>\n",
       "      <td>...</td>\n",
       "      <td>521164.89</td>\n",
       "      <td>630129.90</td>\n",
       "      <td>700539.0</td>\n",
       "      <td>885157.0</td>\n",
       "      <td>1082450.0</td>\n",
       "      <td>51065.17</td>\n",
       "      <td>40077.15</td>\n",
       "      <td>31132.0</td>\n",
       "      <td>24838.0</td>\n",
       "      <td>24110.0</td>\n",
       "    </tr>\n",
       "  </tbody>\n",
       "</table>\n",
       "<p>5 rows × 64 columns</p>\n",
       "</div>"
      ],
      "text/plain": [
       "                 ImmigrantGroup  foreign statefip       year  HoursSupplied  \\\n",
       "0  Canada-Australia-New Zealand        1       01 1994-01-01       8.951427   \n",
       "1  Canada-Australia-New Zealand        1       02 1994-01-01       6.091535   \n",
       "2  Canada-Australia-New Zealand        1       04 1994-01-01      20.506824   \n",
       "3  Canada-Australia-New Zealand        1       06 1994-01-01     111.973079   \n",
       "4  Canada-Australia-New Zealand        1       08 1994-01-01      33.771626   \n",
       "\n",
       "   BodiesSupplied      NGdp StateAbb       P  Africa_1920  ...     US_1920  \\\n",
       "0         4148.02   90098.5       AL  65.564        99.63  ...  1382884.76   \n",
       "1         2714.98   23604.7       AK  65.564         0.00  ...    26554.32   \n",
       "2         9182.54  100374.2       AZ  65.564        97.20  ...   149890.63   \n",
       "3        46027.90  861360.0       CA  65.564       314.10  ...  1818134.64   \n",
       "4        13001.83  104506.8       CO  65.564        94.78  ...   521164.89   \n",
       "\n",
       "      US_1930    US_1940    US_1950    US_1960  WestEu_1920  WestEu_1930  \\\n",
       "0  1622670.30  1829254.0  1995881.0  2069707.0     10215.14      9691.20   \n",
       "1    30100.00        0.0        0.0   134994.0      3277.67      2700.00   \n",
       "2   225724.20   279896.0   459518.0   761075.0     10230.14      8984.55   \n",
       "3  3259372.65  4235989.0  6851779.0  9396205.0    357512.09    469215.60   \n",
       "4   630129.90   700539.0   885157.0  1082450.0     51065.17     40077.15   \n",
       "\n",
       "   WestEu_1940  WestEu_1950  WestEu_1960  \n",
       "0       9676.0       7065.0       5779.0  \n",
       "1          0.0          0.0       1891.0  \n",
       "2       5857.0       8264.0      12844.0  \n",
       "3     417933.0     436017.0     453757.0  \n",
       "4      31132.0      24838.0      24110.0  \n",
       "\n",
       "[5 rows x 64 columns]"
      ]
     },
     "execution_count": 55,
     "metadata": {},
     "output_type": "execute_result"
    }
   ],
   "source": [
    "StateAnalysis = pd.merge(AcsCpsBeaMerged,Df_Wide, on=['statefip'], how='left', indicator=False)\n",
    "StateAnalysis.head()"
   ]
  },
  {
   "cell_type": "code",
   "execution_count": 56,
   "metadata": {},
   "outputs": [],
   "source": [
    "StateAnalysis.to_stata(Paths['data'] + '/StateAnalysisFile.dta', write_index=False, convert_dates={'year':'ty'})"
   ]
  }
 ],
 "metadata": {
  "kernelspec": {
   "display_name": "ImmigrationTfp",
   "language": "python",
   "name": "python3"
  },
  "language_info": {
   "codemirror_mode": {
    "name": "ipython",
    "version": 3
   },
   "file_extension": ".py",
   "mimetype": "text/x-python",
   "name": "python",
   "nbconvert_exporter": "python",
   "pygments_lexer": "ipython3",
   "version": "3.12.8"
  }
 },
 "nbformat": 4,
 "nbformat_minor": 2
}
