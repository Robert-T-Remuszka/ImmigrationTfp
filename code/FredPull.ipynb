{
 "cells": [
  {
   "cell_type": "markdown",
   "metadata": {},
   "source": [
    "# Notes Before You Start\n",
    "**Note 1** You will need an API key from the [FRED database](https://fred.stlouisfed.org/)."
   ]
  },
  {
   "cell_type": "code",
   "execution_count": 3,
   "metadata": {},
   "outputs": [],
   "source": [
    "from Credentials import *\n",
    "from fredapi import Fred\n",
    "from Functions import *\n",
    "import pandas as pd\n",
    "\n",
    "data = pd.DataFrame()\n",
    "Series = {'GdpPriceDeflator':'A191RD3A086NBEA','InvestmentPriceDeflator':'A006RD3Q086SBEA'}\n",
    "fred = Fred(api_key=MyCredentials['FredApiKey'])\n",
    "\n",
    "data['PriceDeflator'] = fred.get_series(Series['GdpPriceDeflator'])\n",
    "data['InvestmentDeflator'] = fred.get_series(Series['InvestmentPriceDeflator'])\n",
    "data.to_csv(Paths['data'] + '/GdpPriceDeflator.csv')"
   ]
  }
 ],
 "metadata": {
  "kernelspec": {
   "display_name": "ImmigrationTfp",
   "language": "python",
   "name": "python3"
  },
  "language_info": {
   "codemirror_mode": {
    "name": "ipython",
    "version": 3
   },
   "file_extension": ".py",
   "mimetype": "text/x-python",
   "name": "python",
   "nbconvert_exporter": "python",
   "pygments_lexer": "ipython3",
   "version": "3.12.8"
  }
 },
 "nbformat": 4,
 "nbformat_minor": 2
}
