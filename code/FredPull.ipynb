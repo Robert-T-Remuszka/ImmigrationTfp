{
 "cells": [
  {
   "cell_type": "markdown",
   "metadata": {},
   "source": [
    "# Notes Before You Start\n",
    "**Note 1** You will need an API key from the [FRED database](https://fred.stlouisfed.org/)."
   ]
  },
  {
   "cell_type": "code",
   "execution_count": 4,
   "metadata": {},
   "outputs": [],
   "source": [
    "from Credentials import *\n",
    "from fredapi import Fred\n",
    "from Functions import *\n",
    "import pandas as pd\n",
    "Series = {'GdpPriceDeflator':'A191RD3A086NBEA'}\n",
    "fred = Fred(api_key=MyCredentials['FredApiKey'])\n",
    "data = fred.get_series(Series['GdpPriceDeflator'])\n",
    "data.to_csv(Paths['data'] + '/GdpPriceDeflator.csv')"
   ]
  }
 ],
 "metadata": {
  "kernelspec": {
   "display_name": "ImmigrationTfp",
   "language": "python",
   "name": "python3"
  },
  "language_info": {
   "codemirror_mode": {
    "name": "ipython",
    "version": 3
   },
   "file_extension": ".py",
   "mimetype": "text/x-python",
   "name": "python",
   "nbconvert_exporter": "python",
   "pygments_lexer": "ipython3",
   "version": "3.13.1"
  }
 },
 "nbformat": 4,
 "nbformat_minor": 2
}
