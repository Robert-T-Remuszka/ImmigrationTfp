{
 "cells": [
  {
   "cell_type": "code",
   "execution_count": 6,
   "metadata": {},
   "outputs": [],
   "source": [
    "import pandas as pd\n",
    "import numpy as np\n",
    "from ipumspy import IpumsApiClient, MicrodataExtract\n",
    "from Credentials import MyCredentials\n",
    "from Functions import Paths as P\n",
    "from pathlib import Path\n",
    "\n",
    "DataDir = Path(P['data'])\n",
    "AcsDir = Path(P['acs'])\n",
    "AcsPreDir = Path(P['preperiod'])\n",
    "\n",
    "# Connect to API\n",
    "ipums = IpumsApiClient(MyCredentials['IpumsApiKey'])"
   ]
  },
  {
   "cell_type": "markdown",
   "metadata": {},
   "source": [
    "# IPUMS Pull\n",
    "See the [documentation](https://ipumspy.readthedocs.io/en/stable/getting_started.html) for how to use ipumspy.\n",
    "\n",
    "# State Level Analysis Files\n",
    "I pull the 2000 - 2022 ACS samples and save them as Stata datasets.\n",
    "\n",
    "**Note:** The years 2023 and 2024 will be included in the analysis, but I use the CPS for those since, for some reason, ACS stops having all the variables we would like."
   ]
  },
  {
   "cell_type": "code",
   "execution_count": 7,
   "metadata": {},
   "outputs": [
    {
     "name": "stdout",
     "output_type": "stream",
     "text": [
      "Creating and Downloading Extract: us2000a\n"
     ]
    },
    {
     "ename": "FileNotFoundError",
     "evalue": "../data/acs does not exist",
     "output_type": "error",
     "traceback": [
      "\u001b[0;31m---------------------------------------------------------------------------\u001b[0m",
      "\u001b[0;31mFileNotFoundError\u001b[0m                         Traceback (most recent call last)",
      "Cell \u001b[0;32mIn[7], line 16\u001b[0m\n\u001b[1;32m     14\u001b[0m ipums\u001b[38;5;241m.\u001b[39msubmit_extract(extract)\n\u001b[1;32m     15\u001b[0m ipums\u001b[38;5;241m.\u001b[39mwait_for_extract(extract)\n\u001b[0;32m---> 16\u001b[0m ipums\u001b[38;5;241m.\u001b[39mdownload_extract(extract,download_dir\u001b[38;5;241m=\u001b[39mAcsDir)\n",
      "File \u001b[0;32m~/.conda/envs/ImmigrationTfp/lib/python3.12/site-packages/ipumspy/api/core.py:257\u001b[0m, in \u001b[0;36mIpumsApiClient.download_extract\u001b[0;34m(self, extract, collection, download_dir, stata_command_file, spss_command_file, sas_command_file, r_command_file)\u001b[0m\n\u001b[1;32m    255\u001b[0m download_dir \u001b[38;5;241m=\u001b[39m Path(download_dir \u001b[38;5;129;01mor\u001b[39;00m Path\u001b[38;5;241m.\u001b[39mcwd())\n\u001b[1;32m    256\u001b[0m \u001b[38;5;28;01mif\u001b[39;00m \u001b[38;5;129;01mnot\u001b[39;00m download_dir\u001b[38;5;241m.\u001b[39mexists():\n\u001b[0;32m--> 257\u001b[0m     \u001b[38;5;28;01mraise\u001b[39;00m \u001b[38;5;167;01mFileNotFoundError\u001b[39;00m(\u001b[38;5;124mf\u001b[39m\u001b[38;5;124m\"\u001b[39m\u001b[38;5;132;01m{\u001b[39;00mdownload_dir\u001b[38;5;132;01m}\u001b[39;00m\u001b[38;5;124m does not exist\u001b[39m\u001b[38;5;124m\"\u001b[39m)\n\u001b[1;32m    259\u001b[0m \u001b[38;5;66;03m# check to see if extract complete\u001b[39;00m\n\u001b[1;32m    260\u001b[0m extract_status \u001b[38;5;241m=\u001b[39m \u001b[38;5;28mself\u001b[39m\u001b[38;5;241m.\u001b[39mextract_status(extract_id, collection\u001b[38;5;241m=\u001b[39mcollection)\n",
      "\u001b[0;31mFileNotFoundError\u001b[0m: ../data/acs does not exist"
     ]
    }
   ],
   "source": [
    "Vars = ['STATEFIP',        # Geographic\n",
    "        'CITIZEN', 'BPL',  # Citizenship/nativity\n",
    "        'AGE',             # Demographics\n",
    "        'OCC','IND1990','INDNAICS','OCC1990', 'OCC2010', # Work\n",
    "        'UHRSWORK',                        # Work\n",
    "        'EDUC',                            # Education\n",
    "        'INCWAGE'                          # Income\n",
    "        ]\n",
    "SampleList =  ['us' + str(year) + 'a' for year in range(2000,2023)] # Only going to 2022 because 2023 doesn't have all the variables we want\n",
    "\n",
    "for samp in SampleList:\n",
    "    print('Creating and Downloading Extract: ' + samp)\n",
    "    extract = MicrodataExtract('usa', [samp], Vars)\n",
    "    ipums.submit_extract(extract)\n",
    "    ipums.wait_for_extract(extract)\n",
    "    ipums.download_extract(extract,download_dir=AcsDir)"
   ]
  },
  {
   "cell_type": "markdown",
   "metadata": {},
   "source": [
    "### Read In the \"Pre-Period\" Data"
   ]
  },
  {
   "cell_type": "code",
   "execution_count": null,
   "metadata": {},
   "outputs": [
    {
     "name": "stdout",
     "output_type": "stream",
     "text": [
      "Creating and Downloading Extract: us1920a\n",
      "Creating and Downloading Extract: us1930a\n",
      "Creating and Downloading Extract: us1940a\n",
      "Creating and Downloading Extract: us1950a\n",
      "Creating and Downloading Extract: us1960a\n"
     ]
    }
   ],
   "source": [
    "Vars = ['STATEFIP',        # Geographic\n",
    "        'BPL',  # Citizenship/nativity\n",
    "        'AGE'              # Demographics \n",
    "        ]\n",
    "SampleList = ['us' + str(year) + 'a' for year in range(1920,2000,10)]\n",
    "for samp in SampleList:\n",
    "    print('Creating and Downloading Extract: ' + samp)\n",
    "    extract = MicrodataExtract('usa', [samp], Vars)\n",
    "    ipums.submit_extract(extract)\n",
    "    ipums.wait_for_extract(extract)\n",
    "    ipums.download_extract(extract,download_dir=AcsPreDir)"
   ]
  }
 ],
 "metadata": {
  "kernelspec": {
   "display_name": "ImmigrationTfp",
   "language": "python",
   "name": "python3"
  },
  "language_info": {
   "codemirror_mode": {
    "name": "ipython",
    "version": 3
   },
   "file_extension": ".py",
   "mimetype": "text/x-python",
   "name": "python",
   "nbconvert_exporter": "python",
   "pygments_lexer": "ipython3",
   "version": "3.12.8"
  }
 },
 "nbformat": 4,
 "nbformat_minor": 2
}
