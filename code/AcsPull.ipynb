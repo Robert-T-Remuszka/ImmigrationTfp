{
 "cells": [
  {
   "cell_type": "code",
   "execution_count": 2,
   "metadata": {},
   "outputs": [],
   "source": [
    "import pandas as pd\n",
    "import numpy as np\n",
    "from ipumspy import IpumsApiClient, MicrodataExtract\n",
    "from Credentials import MyCredentials\n",
    "from Functions import Paths as P\n",
    "from pathlib import Path\n",
    "\n",
    "DataDir = Path(P['data'])\n",
    "AcsDir = Path(P['acs'])\n",
    "AcsPreDir = Path(P['preperiod'])\n",
    "\n",
    "# Connect to API\n",
    "ipums = IpumsApiClient(MyCredentials['IpumsApiKey'])"
   ]
  },
  {
   "cell_type": "markdown",
   "metadata": {},
   "source": [
    "# IPUMS Pull\n",
    "See the [documentation](https://ipumspy.readthedocs.io/en/stable/getting_started.html) for how to use ipumspy. In order to do this in a tractable manner I will make IPUMS extracts for every survey wave individually. I use ACS one year samples from 2005 to 2023 and 1% decennial Census sample from 1950 and prior.\n",
    "\n",
    "# For County Data"
   ]
  },
  {
   "cell_type": "code",
   "execution_count": 23,
   "metadata": {},
   "outputs": [
    {
     "name": "stdout",
     "output_type": "stream",
     "text": [
      "Creating and Downloading Extract: us1950a\n",
      "Creating and Downloading Extract: us2005a\n",
      "Creating and Downloading Extract: us2006a\n",
      "Creating and Downloading Extract: us2007a\n",
      "Creating and Downloading Extract: us2008a\n",
      "Creating and Downloading Extract: us2009a\n",
      "Creating and Downloading Extract: us2010a\n",
      "Creating and Downloading Extract: us2011a\n",
      "Creating and Downloading Extract: us2012a\n",
      "Creating and Downloading Extract: us2013a\n",
      "Creating and Downloading Extract: us2014a\n",
      "Creating and Downloading Extract: us2015a\n",
      "Creating and Downloading Extract: us2016a\n",
      "Creating and Downloading Extract: us2017a\n",
      "Creating and Downloading Extract: us2018a\n",
      "Creating and Downloading Extract: us2019a\n",
      "Creating and Downloading Extract: us2020a\n",
      "Creating and Downloading Extract: us2021a\n",
      "Creating and Downloading Extract: us2022a\n",
      "Creating and Downloading Extract: us2023a\n"
     ]
    }
   ],
   "source": [
    "# Create sample list\n",
    "Years1 = list(range(1950,1960,10))\n",
    "Years2 = list(range(2005,2024))\n",
    "\n",
    "# Create variable list\n",
    "Vars = ['STATEFIP','COUNTYFIP', 'CITIZEN', 'EDUC', 'OCC', 'OCC1950','OCC1990', 'OCC2010',\n",
    "        'INDNAICS','UHRSWORK', 'PERWT', 'MET2013']\n",
    "SampleList = ['us' + str(year) + 'a' for year in Years1 + Years2] # Census 1% and ACS samples (from 2001 onward)\n",
    "\n",
    "# Create and download extracts\n",
    "for samp in SampleList:\n",
    "    print('Creating and Downloading Extract: ' + samp)\n",
    "    try:\n",
    "        extract = MicrodataExtract('usa', [samp], Vars)\n",
    "        ipums.submit_extract(extract)\n",
    "        ipums.wait_for_extract(extract)\n",
    "        ipums.download_extract(extract,download_dir=DataDir)\n",
    "    except Exception as e:\n",
    "        '''\n",
    "        If a given list of variables is not available in the sample, remove them from\n",
    "        the extract. The first line iterates through the lines of the error message\n",
    "        and extracts the missing variable name from each line by splitting at the\n",
    "        \":\" character and taking the first element of the resulting list.\n",
    "        '''     \n",
    "        RemoveThese = [line.split(':')[0] for line in str(e).splitlines()]\n",
    "        NewVars = [V for V in Vars if V not in RemoveThese]\n",
    "        extract = MicrodataExtract('usa',[samp],NewVars)\n",
    "        ipums.submit_extract(extract)\n",
    "        ipums.wait_for_extract(extract)\n",
    "        ipums.download_extract(extract,download_dir=DataDir)"
   ]
  },
  {
   "cell_type": "markdown",
   "metadata": {},
   "source": [
    "# For State Level Analysis\n",
    "\n",
    "I pull the 2000 - 2023 ACS samples and save them as Stata datasets."
   ]
  },
  {
   "cell_type": "code",
   "execution_count": 3,
   "metadata": {},
   "outputs": [
    {
     "name": "stdout",
     "output_type": "stream",
     "text": [
      "Creating and Downloading Extract: us2000a\n"
     ]
    },
    {
     "ename": "KeyboardInterrupt",
     "evalue": "",
     "output_type": "error",
     "traceback": [
      "\u001b[0;31m---------------------------------------------------------------------------\u001b[0m",
      "\u001b[0;31mKeyboardInterrupt\u001b[0m                         Traceback (most recent call last)",
      "Cell \u001b[0;32mIn[3], line 15\u001b[0m\n\u001b[1;32m     13\u001b[0m extract \u001b[38;5;241m=\u001b[39m MicrodataExtract(\u001b[38;5;124m'\u001b[39m\u001b[38;5;124musa\u001b[39m\u001b[38;5;124m'\u001b[39m, [samp], Vars)\n\u001b[1;32m     14\u001b[0m ipums\u001b[38;5;241m.\u001b[39msubmit_extract(extract)\n\u001b[0;32m---> 15\u001b[0m ipums\u001b[38;5;241m.\u001b[39mwait_for_extract(extract)\n\u001b[1;32m     16\u001b[0m ipums\u001b[38;5;241m.\u001b[39mdownload_extract(extract,download_dir\u001b[38;5;241m=\u001b[39mAcsDir)\n",
      "File \u001b[0;32m~/.conda/envs/ImmigrationTfp/lib/python3.12/site-packages/ipumspy/api/core.py:377\u001b[0m, in \u001b[0;36mIpumsApiClient.wait_for_extract\u001b[0;34m(self, extract, collection, inital_wait_time, max_wait_time, timeout)\u001b[0m\n\u001b[1;32m    373\u001b[0m     \u001b[38;5;28;01mraise\u001b[39;00m IpumsNotFound(\n\u001b[1;32m    374\u001b[0m         \u001b[38;5;124mf\u001b[39m\u001b[38;5;124m\"\u001b[39m\u001b[38;5;124mThere is no IPUMS extract with extract number \u001b[39m\u001b[38;5;132;01m{\u001b[39;00mextract_id\u001b[38;5;132;01m}\u001b[39;00m\u001b[38;5;124m in collection \u001b[39m\u001b[38;5;132;01m{\u001b[39;00mcollection\u001b[38;5;132;01m}\u001b[39;00m\u001b[38;5;124m\"\u001b[39m\n\u001b[1;32m    375\u001b[0m     )\n\u001b[1;32m    376\u001b[0m \u001b[38;5;28;01melif\u001b[39;00m status \u001b[38;5;241m!=\u001b[39m \u001b[38;5;124m\"\u001b[39m\u001b[38;5;124mcompleted\u001b[39m\u001b[38;5;124m\"\u001b[39m:\n\u001b[0;32m--> 377\u001b[0m     time\u001b[38;5;241m.\u001b[39msleep(wait_time)\n\u001b[1;32m    378\u001b[0m     total_time \u001b[38;5;241m+\u001b[39m\u001b[38;5;241m=\u001b[39m wait_time\n\u001b[1;32m    379\u001b[0m     wait_time \u001b[38;5;241m=\u001b[39m \u001b[38;5;28mmin\u001b[39m(wait_time \u001b[38;5;241m*\u001b[39m \u001b[38;5;241m2\u001b[39m, max_wait_time)\n",
      "\u001b[0;31mKeyboardInterrupt\u001b[0m: "
     ]
    }
   ],
   "source": [
    "Vars = ['STATEFIP',        # Geographic\n",
    "        'CITIZEN', 'BPL',  # Citizenship/nativity\n",
    "        'AGE',             # Demographics\n",
    "        'OCC','IND1990','INDNAICS','OCC1990', 'OCC2010', # Work\n",
    "        'UHRSWORK',                        # Work\n",
    "        'EDUC',                            # Education\n",
    "        'INCWAGE'                          # Income\n",
    "        ]\n",
    "SampleList =  ['us' + str(year) + 'a' for year in range(2000,2023)] # Only going to 2022 because 2023 doesn't have all the variables we want\n",
    "\n",
    "for samp in SampleList:\n",
    "    print('Creating and Downloading Extract: ' + samp)\n",
    "    extract = MicrodataExtract('usa', [samp], Vars)\n",
    "    ipums.submit_extract(extract)\n",
    "    ipums.wait_for_extract(extract)\n",
    "    ipums.download_extract(extract,download_dir=AcsDir)"
   ]
  },
  {
   "cell_type": "markdown",
   "metadata": {},
   "source": [
    "### Read In the \"Pre-Period\" Data"
   ]
  },
  {
   "cell_type": "code",
   "execution_count": 6,
   "metadata": {},
   "outputs": [
    {
     "name": "stdout",
     "output_type": "stream",
     "text": [
      "Creating and Downloading Extract: us1920a\n",
      "Creating and Downloading Extract: us1930a\n",
      "Creating and Downloading Extract: us1940a\n",
      "Creating and Downloading Extract: us1950a\n",
      "Creating and Downloading Extract: us1960a\n"
     ]
    }
   ],
   "source": [
    "Vars = ['STATEFIP',        # Geographic\n",
    "        'BPL',  # Citizenship/nativity\n",
    "        'AGE'              # Demographics \n",
    "        ]\n",
    "SampleList = ['us' + str(year) + 'a' for year in range(1920,1970,10)]\n",
    "for samp in SampleList:\n",
    "    print('Creating and Downloading Extract: ' + samp)\n",
    "    extract = MicrodataExtract('usa', [samp], Vars)\n",
    "    ipums.submit_extract(extract)\n",
    "    ipums.wait_for_extract(extract)\n",
    "    ipums.download_extract(extract,download_dir=AcsPreDir)"
   ]
  },
  {
   "cell_type": "code",
   "execution_count": null,
   "metadata": {},
   "outputs": [],
   "source": []
  }
 ],
 "metadata": {
  "kernelspec": {
   "display_name": "ImmigrationTfp",
   "language": "python",
   "name": "python3"
  },
  "language_info": {
   "codemirror_mode": {
    "name": "ipython",
    "version": 3
   },
   "file_extension": ".py",
   "mimetype": "text/x-python",
   "name": "python",
   "nbconvert_exporter": "python",
   "pygments_lexer": "ipython3",
   "version": "3.12.8"
  }
 },
 "nbformat": 4,
 "nbformat_minor": 2
}
