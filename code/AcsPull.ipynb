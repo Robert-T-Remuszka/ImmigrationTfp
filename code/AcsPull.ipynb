{
 "cells": [
  {
   "cell_type": "code",
   "execution_count": 1,
   "metadata": {},
   "outputs": [],
   "source": [
    "import pandas as pd\n",
    "import numpy as np\n",
    "from ipumspy import IpumsApiClient, MicrodataExtract, readers, ddi\n",
    "from Credentials import MyCredentials\n",
    "from Functions import Paths as P\n",
    "from pathlib import Path\n",
    "\n",
    "DataDir = Path(P['data'])\n",
    "AcsDir = Path(P['acs'])\n",
    "AcsPreDir = Path(P['preperiod'])\n",
    "\n",
    "# Connect to API\n",
    "ipums = IpumsApiClient(MyCredentials['IpumsApiKey'])"
   ]
  },
  {
   "cell_type": "markdown",
   "metadata": {},
   "source": [
    "# IPUMS Pull\n",
    "See the [documentation](https://ipumspy.readthedocs.io/en/stable/getting_started.html) for how to use ipumspy.\n",
    "\n",
    "# State Level Analysis Files\n",
    "I pull the 2000 - 2022 ACS samples and save them as Stata datasets.\n",
    "\n",
    "**Note:** The years 2023 and 2024 will be included in the analysis, but I use the CPS for those since, for some reason, ACS stops having all the variables we would like."
   ]
  },
  {
   "cell_type": "code",
   "execution_count": 3,
   "metadata": {},
   "outputs": [
    {
     "name": "stdout",
     "output_type": "stream",
     "text": [
      "Creating and Downloading Extract: us2000a\n",
      "Creating and Downloading Extract: us2001a\n",
      "Creating and Downloading Extract: us2002a\n",
      "Creating and Downloading Extract: us2003a\n",
      "Creating and Downloading Extract: us2004a\n",
      "Creating and Downloading Extract: us2005a\n",
      "Creating and Downloading Extract: us2006a\n",
      "Creating and Downloading Extract: us2007a\n",
      "Creating and Downloading Extract: us2008a\n",
      "Creating and Downloading Extract: us2009a\n",
      "Creating and Downloading Extract: us2010a\n",
      "Creating and Downloading Extract: us2011a\n",
      "Creating and Downloading Extract: us2012a\n",
      "Creating and Downloading Extract: us2013a\n",
      "Creating and Downloading Extract: us2014a\n",
      "Creating and Downloading Extract: us2015a\n",
      "Creating and Downloading Extract: us2016a\n",
      "Creating and Downloading Extract: us2017a\n",
      "Creating and Downloading Extract: us2018a\n",
      "Creating and Downloading Extract: us2019a\n",
      "Creating and Downloading Extract: us2020a\n",
      "Creating and Downloading Extract: us2021a\n",
      "Creating and Downloading Extract: us2022a\n"
     ]
    }
   ],
   "source": [
    "Vars = ['STATEFIP',        # Geographic\n",
    "        'CITIZEN', 'BPL',  # Citizenship/nativity\n",
    "        'AGE',             # Demographics\n",
    "        'OCC','IND1990','INDNAICS','OCC1990', 'OCC2010', # Work\n",
    "        'UHRSWORK',                        # Work\n",
    "        'EDUC',                            # Education\n",
    "        'INCWAGE'                          # Income\n",
    "        ]\n",
    "SampleList =  ['us' + str(year) + 'a' for year in range(2000,2023)] # Only going to 2022 because 2023 doesn't have all the variables we want\n",
    "\n",
    "for samp in SampleList:\n",
    "    print('Creating and Downloading Extract: ' + samp)\n",
    "    extract = MicrodataExtract('usa', [samp], Vars)\n",
    "    ipums.submit_extract(extract)\n",
    "    ipums.wait_for_extract(extract)\n",
    "    ipums.download_extract(extract,download_dir=AcsDir)"
   ]
  },
  {
   "cell_type": "markdown",
   "metadata": {},
   "source": [
    "### Read In and Save the \"Pre-Period\" Data"
   ]
  },
  {
   "cell_type": "code",
   "execution_count": 19,
   "metadata": {},
   "outputs": [
    {
     "name": "stdout",
     "output_type": "stream",
     "text": [
      "Creating and Downloading Extract: us1920a\n",
      "Creating and Downloading Extract: us1930a\n",
      "Creating and Downloading Extract: us1940a\n",
      "Creating and Downloading Extract: us1950a\n",
      "Creating and Downloading Extract: us1960a\n",
      "Creating and Downloading Extract: us1970a\n",
      "Creating and Downloading Extract: us1980a\n",
      "Creating and Downloading Extract: us1990a\n"
     ]
    },
    {
     "name": "stderr",
     "output_type": "stream",
     "text": [
      "/home/r/remuszka/.conda/envs/ImmigrationTfp/lib/python3.12/site-packages/ipumspy/readers.py:70: CitationWarning: Use of data from IPUMS is subject to conditions including that users should cite the data appropriately.\n",
      "See the `ipums_conditions` attribute of this codebook for terms of use.\n",
      "See the `ipums_citation` attribute of this codebook for the appropriate citation.\n",
      "  warnings.warn(\n",
      "/home/r/remuszka/.conda/envs/ImmigrationTfp/lib/python3.12/site-packages/ipumspy/readers.py:70: CitationWarning: Use of data from IPUMS is subject to conditions including that users should cite the data appropriately.\n",
      "See the `ipums_conditions` attribute of this codebook for terms of use.\n",
      "See the `ipums_citation` attribute of this codebook for the appropriate citation.\n",
      "  warnings.warn(\n",
      "/home/r/remuszka/.conda/envs/ImmigrationTfp/lib/python3.12/site-packages/ipumspy/readers.py:70: CitationWarning: Use of data from IPUMS is subject to conditions including that users should cite the data appropriately.\n",
      "See the `ipums_conditions` attribute of this codebook for terms of use.\n",
      "See the `ipums_citation` attribute of this codebook for the appropriate citation.\n",
      "  warnings.warn(\n",
      "/home/r/remuszka/.conda/envs/ImmigrationTfp/lib/python3.12/site-packages/ipumspy/readers.py:70: CitationWarning: Use of data from IPUMS is subject to conditions including that users should cite the data appropriately.\n",
      "See the `ipums_conditions` attribute of this codebook for terms of use.\n",
      "See the `ipums_citation` attribute of this codebook for the appropriate citation.\n",
      "  warnings.warn(\n",
      "/home/r/remuszka/.conda/envs/ImmigrationTfp/lib/python3.12/site-packages/ipumspy/readers.py:70: CitationWarning: Use of data from IPUMS is subject to conditions including that users should cite the data appropriately.\n",
      "See the `ipums_conditions` attribute of this codebook for terms of use.\n",
      "See the `ipums_citation` attribute of this codebook for the appropriate citation.\n",
      "  warnings.warn(\n",
      "/home/r/remuszka/.conda/envs/ImmigrationTfp/lib/python3.12/site-packages/ipumspy/readers.py:70: CitationWarning: Use of data from IPUMS is subject to conditions including that users should cite the data appropriately.\n",
      "See the `ipums_conditions` attribute of this codebook for terms of use.\n",
      "See the `ipums_citation` attribute of this codebook for the appropriate citation.\n",
      "  warnings.warn(\n",
      "/home/r/remuszka/.conda/envs/ImmigrationTfp/lib/python3.12/site-packages/ipumspy/readers.py:70: CitationWarning: Use of data from IPUMS is subject to conditions including that users should cite the data appropriately.\n",
      "See the `ipums_conditions` attribute of this codebook for terms of use.\n",
      "See the `ipums_citation` attribute of this codebook for the appropriate citation.\n",
      "  warnings.warn(\n",
      "/home/r/remuszka/.conda/envs/ImmigrationTfp/lib/python3.12/site-packages/ipumspy/readers.py:70: CitationWarning: Use of data from IPUMS is subject to conditions including that users should cite the data appropriately.\n",
      "See the `ipums_conditions` attribute of this codebook for terms of use.\n",
      "See the `ipums_citation` attribute of this codebook for the appropriate citation.\n",
      "  warnings.warn(\n"
     ]
    }
   ],
   "source": [
    "Vars = ['STATEFIP',        # Geographic\n",
    "        'BPL',             # Citizenship/nativity\n",
    "        'AGE'              # Demographics \n",
    "        ]\n",
    "SampleList = ['us' + str(year) + 'a' for year in range(1920,2000,10)]\n",
    "for samp in SampleList:\n",
    "    print('Creating and Downloading Extract: ' + samp)\n",
    "    extract = MicrodataExtract('usa', [samp], Vars)\n",
    "    ipums.submit_extract(extract)\n",
    "    ipums.wait_for_extract(extract)\n",
    "    ipums.download_extract(extract,download_dir=AcsPreDir)\n",
    "\n",
    "# Construct file list\n",
    "Files = list(AcsPreDir.glob(\"*.xml\"))\n",
    "for f in Files:\n",
    "\n",
    "    # Get the Data dictionary\n",
    "    ddi = readers.read_ipums_ddi(f)\n",
    "    df = readers.read_microdata(ddi, AcsPreDir / ddi.file_description.filename)\n",
    "    yyyystr = str(df['YEAR'][0])\n",
    "    df.to_csv(P['preperiod'] + '/PrePeriod' + yyyystr + '.csv', index=False)\n",
    "    "
   ]
  }
 ],
 "metadata": {
  "kernelspec": {
   "display_name": "ImmigrationTfp",
   "language": "python",
   "name": "python3"
  },
  "language_info": {
   "codemirror_mode": {
    "name": "ipython",
    "version": 3
   },
   "file_extension": ".py",
   "mimetype": "text/x-python",
   "name": "python",
   "nbconvert_exporter": "python",
   "pygments_lexer": "ipython3",
   "version": "3.12.8"
  }
 },
 "nbformat": 4,
 "nbformat_minor": 2
}
