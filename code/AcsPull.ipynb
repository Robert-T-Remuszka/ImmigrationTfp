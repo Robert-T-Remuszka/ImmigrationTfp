{
 "cells": [
  {
   "cell_type": "code",
   "execution_count": 18,
   "metadata": {},
   "outputs": [],
   "source": [
    "import pandas as pd\n",
    "import numpy as np\n",
    "from ipumspy import IpumsApiClient, MicrodataExtract, readers, ddi\n",
    "from Credentials import MyCredentials\n",
    "from Functions import Paths as P\n",
    "from pathlib import Path\n",
    "\n",
    "DataDir = Path(P['data'])\n",
    "AcsDir = Path(P['acs'])\n",
    "AcsPreDir = Path(P['preperiod'])\n",
    "\n",
    "# Connect to API\n",
    "ipums = IpumsApiClient(MyCredentials['IpumsApiKey'])"
   ]
  },
  {
   "cell_type": "markdown",
   "metadata": {},
   "source": [
    "# IPUMS Pull\n",
    "See the [documentation](https://ipumspy.readthedocs.io/en/stable/getting_started.html) for how to use ipumspy.\n",
    "\n",
    "# State Level Analysis Files\n",
    "I pull the 2000 - 2022 ACS samples and save them as Stata datasets.\n",
    "\n",
    "**Note:** The years 2023 and 2024 will be included in the analysis, but I use the CPS for those since, for some reason, ACS stops having all the variables we would like."
   ]
  },
  {
   "cell_type": "code",
   "execution_count": 11,
   "metadata": {},
   "outputs": [
    {
     "name": "stdout",
     "output_type": "stream",
     "text": [
      "Creating and Downloading Extract: us2000a\n"
     ]
    },
    {
     "ename": "KeyboardInterrupt",
     "evalue": "",
     "output_type": "error",
     "traceback": [
      "\u001b[0;31m---------------------------------------------------------------------------\u001b[0m",
      "\u001b[0;31mKeyboardInterrupt\u001b[0m                         Traceback (most recent call last)",
      "Cell \u001b[0;32mIn[11], line 15\u001b[0m\n\u001b[1;32m     13\u001b[0m extract \u001b[38;5;241m=\u001b[39m MicrodataExtract(\u001b[38;5;124m'\u001b[39m\u001b[38;5;124musa\u001b[39m\u001b[38;5;124m'\u001b[39m, [samp], Vars)\n\u001b[1;32m     14\u001b[0m ipums\u001b[38;5;241m.\u001b[39msubmit_extract(extract)\n\u001b[0;32m---> 15\u001b[0m ipums\u001b[38;5;241m.\u001b[39mwait_for_extract(extract)\n\u001b[1;32m     16\u001b[0m ipums\u001b[38;5;241m.\u001b[39mdownload_extract(extract,download_dir\u001b[38;5;241m=\u001b[39mAcsDir)\n",
      "File \u001b[0;32m~/.conda/envs/ImmigrationTfp/lib/python3.12/site-packages/ipumspy/api/core.py:377\u001b[0m, in \u001b[0;36mIpumsApiClient.wait_for_extract\u001b[0;34m(self, extract, collection, inital_wait_time, max_wait_time, timeout)\u001b[0m\n\u001b[1;32m    373\u001b[0m     \u001b[38;5;28;01mraise\u001b[39;00m IpumsNotFound(\n\u001b[1;32m    374\u001b[0m         \u001b[38;5;124mf\u001b[39m\u001b[38;5;124m\"\u001b[39m\u001b[38;5;124mThere is no IPUMS extract with extract number \u001b[39m\u001b[38;5;132;01m{\u001b[39;00mextract_id\u001b[38;5;132;01m}\u001b[39;00m\u001b[38;5;124m in collection \u001b[39m\u001b[38;5;132;01m{\u001b[39;00mcollection\u001b[38;5;132;01m}\u001b[39;00m\u001b[38;5;124m\"\u001b[39m\n\u001b[1;32m    375\u001b[0m     )\n\u001b[1;32m    376\u001b[0m \u001b[38;5;28;01melif\u001b[39;00m status \u001b[38;5;241m!=\u001b[39m \u001b[38;5;124m\"\u001b[39m\u001b[38;5;124mcompleted\u001b[39m\u001b[38;5;124m\"\u001b[39m:\n\u001b[0;32m--> 377\u001b[0m     time\u001b[38;5;241m.\u001b[39msleep(wait_time)\n\u001b[1;32m    378\u001b[0m     total_time \u001b[38;5;241m+\u001b[39m\u001b[38;5;241m=\u001b[39m wait_time\n\u001b[1;32m    379\u001b[0m     wait_time \u001b[38;5;241m=\u001b[39m \u001b[38;5;28mmin\u001b[39m(wait_time \u001b[38;5;241m*\u001b[39m \u001b[38;5;241m2\u001b[39m, max_wait_time)\n",
      "\u001b[0;31mKeyboardInterrupt\u001b[0m: "
     ]
    }
   ],
   "source": [
    "Vars = ['STATEFIP',        # Geographic\n",
    "        'CITIZEN', 'BPL',  # Citizenship/nativity\n",
    "        'AGE',             # Demographics\n",
    "        'OCC','IND1990','INDNAICS','OCC1990', 'OCC2010', # Work\n",
    "        'UHRSWORK',                        # Work\n",
    "        'EDUC',                            # Education\n",
    "        'INCWAGE'                          # Income\n",
    "        ]\n",
    "SampleList =  ['us' + str(year) + 'a' for year in range(2000,2023)] # Only going to 2022 because 2023 doesn't have all the variables we want\n",
    "\n",
    "for samp in SampleList:\n",
    "    print('Creating and Downloading Extract: ' + samp)\n",
    "    extract = MicrodataExtract('usa', [samp], Vars)\n",
    "    ipums.submit_extract(extract)\n",
    "    ipums.wait_for_extract(extract)\n",
    "    ipums.download_extract(extract,download_dir=AcsDir)"
   ]
  },
  {
   "cell_type": "markdown",
   "metadata": {},
   "source": [
    "### Read In and Save the \"Pre-Period\" Data"
   ]
  },
  {
   "cell_type": "code",
   "execution_count": 19,
   "metadata": {},
   "outputs": [
    {
     "name": "stdout",
     "output_type": "stream",
     "text": [
      "Creating and Downloading Extract: us1920a\n",
      "Creating and Downloading Extract: us1930a\n",
      "Creating and Downloading Extract: us1940a\n",
      "Creating and Downloading Extract: us1950a\n",
      "Creating and Downloading Extract: us1960a\n",
      "Creating and Downloading Extract: us1970a\n",
      "Creating and Downloading Extract: us1980a\n",
      "Creating and Downloading Extract: us1990a\n"
     ]
    },
    {
     "name": "stderr",
     "output_type": "stream",
     "text": [
      "/home/r/remuszka/.conda/envs/ImmigrationTfp/lib/python3.12/site-packages/ipumspy/readers.py:70: CitationWarning: Use of data from IPUMS is subject to conditions including that users should cite the data appropriately.\n",
      "See the `ipums_conditions` attribute of this codebook for terms of use.\n",
      "See the `ipums_citation` attribute of this codebook for the appropriate citation.\n",
      "  warnings.warn(\n",
      "/home/r/remuszka/.conda/envs/ImmigrationTfp/lib/python3.12/site-packages/ipumspy/readers.py:70: CitationWarning: Use of data from IPUMS is subject to conditions including that users should cite the data appropriately.\n",
      "See the `ipums_conditions` attribute of this codebook for terms of use.\n",
      "See the `ipums_citation` attribute of this codebook for the appropriate citation.\n",
      "  warnings.warn(\n",
      "/home/r/remuszka/.conda/envs/ImmigrationTfp/lib/python3.12/site-packages/ipumspy/readers.py:70: CitationWarning: Use of data from IPUMS is subject to conditions including that users should cite the data appropriately.\n",
      "See the `ipums_conditions` attribute of this codebook for terms of use.\n",
      "See the `ipums_citation` attribute of this codebook for the appropriate citation.\n",
      "  warnings.warn(\n",
      "/home/r/remuszka/.conda/envs/ImmigrationTfp/lib/python3.12/site-packages/ipumspy/readers.py:70: CitationWarning: Use of data from IPUMS is subject to conditions including that users should cite the data appropriately.\n",
      "See the `ipums_conditions` attribute of this codebook for terms of use.\n",
      "See the `ipums_citation` attribute of this codebook for the appropriate citation.\n",
      "  warnings.warn(\n",
      "/home/r/remuszka/.conda/envs/ImmigrationTfp/lib/python3.12/site-packages/ipumspy/readers.py:70: CitationWarning: Use of data from IPUMS is subject to conditions including that users should cite the data appropriately.\n",
      "See the `ipums_conditions` attribute of this codebook for terms of use.\n",
      "See the `ipums_citation` attribute of this codebook for the appropriate citation.\n",
      "  warnings.warn(\n",
      "/home/r/remuszka/.conda/envs/ImmigrationTfp/lib/python3.12/site-packages/ipumspy/readers.py:70: CitationWarning: Use of data from IPUMS is subject to conditions including that users should cite the data appropriately.\n",
      "See the `ipums_conditions` attribute of this codebook for terms of use.\n",
      "See the `ipums_citation` attribute of this codebook for the appropriate citation.\n",
      "  warnings.warn(\n",
      "/home/r/remuszka/.conda/envs/ImmigrationTfp/lib/python3.12/site-packages/ipumspy/readers.py:70: CitationWarning: Use of data from IPUMS is subject to conditions including that users should cite the data appropriately.\n",
      "See the `ipums_conditions` attribute of this codebook for terms of use.\n",
      "See the `ipums_citation` attribute of this codebook for the appropriate citation.\n",
      "  warnings.warn(\n",
      "/home/r/remuszka/.conda/envs/ImmigrationTfp/lib/python3.12/site-packages/ipumspy/readers.py:70: CitationWarning: Use of data from IPUMS is subject to conditions including that users should cite the data appropriately.\n",
      "See the `ipums_conditions` attribute of this codebook for terms of use.\n",
      "See the `ipums_citation` attribute of this codebook for the appropriate citation.\n",
      "  warnings.warn(\n"
     ]
    }
   ],
   "source": [
    "Vars = ['STATEFIP',        # Geographic\n",
    "        'BPL',             # Citizenship/nativity\n",
    "        'AGE'              # Demographics \n",
    "        ]\n",
    "SampleList = ['us' + str(year) + 'a' for year in range(1920,2000,10)]\n",
    "for samp in SampleList:\n",
    "    print('Creating and Downloading Extract: ' + samp)\n",
    "    extract = MicrodataExtract('usa', [samp], Vars)\n",
    "    ipums.submit_extract(extract)\n",
    "    ipums.wait_for_extract(extract)\n",
    "    ipums.download_extract(extract,download_dir=AcsPreDir)\n",
    "\n",
    "# Construct file list\n",
    "Files = list(AcsPreDir.glob(\"*.xml\"))\n",
    "for f in Files:\n",
    "\n",
    "    # Get the Data dictionary\n",
    "    ddi = readers.read_ipums_ddi(f)\n",
    "    df = readers.read_microdata(ddi, AcsPreDir / ddi.file_description.filename)\n",
    "    yyyystr = str(df['YEAR'][0])\n",
    "    df.to_csv(P['preperiod'] + '/PrePeriod' + yyyystr + '.csv', index=False)\n",
    "    "
   ]
  }
 ],
 "metadata": {
  "kernelspec": {
   "display_name": "ImmigrationTfp",
   "language": "python",
   "name": "python3"
  },
  "language_info": {
   "codemirror_mode": {
    "name": "ipython",
    "version": 3
   },
   "file_extension": ".py",
   "mimetype": "text/x-python",
   "name": "python",
   "nbconvert_exporter": "python",
   "pygments_lexer": "ipython3",
   "version": "3.12.8"
  }
 },
 "nbformat": 4,
 "nbformat_minor": 2
}
