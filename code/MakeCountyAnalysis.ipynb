{
 "cells": [
  {
   "cell_type": "code",
   "execution_count": 8,
   "metadata": {},
   "outputs": [
    {
     "name": "stdout",
     "output_type": "stream",
     "text": [
      "The autoreload extension is already loaded. To reload it, use:\n",
      "  %reload_ext autoreload\n"
     ]
    }
   ],
   "source": [
    "%load_ext autoreload\n",
    "%autoreload 2\n",
    "import pandas as pd\n",
    "import numpy as np\n",
    "from ipumspy import readers, ddi\n",
    "from Credentials import MyCredentials\n",
    "from Functions import *\n",
    "from pathlib import Path"
   ]
  },
  {
   "cell_type": "markdown",
   "metadata": {},
   "source": [
    "# Cleaning IPUMS\n",
    "I will first clean the IPUMS extracts.\n",
    "\n",
    "## NOTE\n",
    "You should really only have to run this section once. It is time consuming so I save the resulting data in \"LaborByCounty.csv\". If you already ran this part of the code and have this file in your data directory then skip to the next cleaning section."
   ]
  },
  {
   "cell_type": "code",
   "execution_count": 9,
   "metadata": {},
   "outputs": [
    {
     "name": "stderr",
     "output_type": "stream",
     "text": [
      "/home/r/remuszka/.conda/envs/ImmigrationTfp/lib/python3.12/site-packages/ipumspy/readers.py:70: CitationWarning: Use of data from IPUMS is subject to conditions including that users should cite the data appropriately.\n",
      "See the `ipums_conditions` attribute of this codebook for terms of use.\n",
      "See the `ipums_citation` attribute of this codebook for the appropriate citation.\n",
      "  warnings.warn(\n"
     ]
    },
    {
     "name": "stdout",
     "output_type": "stream",
     "text": [
      "\n",
      "**********************************************************************\n",
      "Working file ../data/usa_00046.xml corresponding to sample 2019\n",
      "**********************************************************************\n",
      "\n"
     ]
    },
    {
     "name": "stderr",
     "output_type": "stream",
     "text": [
      "/home/r/remuszka/.conda/envs/ImmigrationTfp/lib/python3.12/site-packages/ipumspy/readers.py:70: CitationWarning: Use of data from IPUMS is subject to conditions including that users should cite the data appropriately.\n",
      "See the `ipums_conditions` attribute of this codebook for terms of use.\n",
      "See the `ipums_citation` attribute of this codebook for the appropriate citation.\n",
      "  warnings.warn(\n"
     ]
    },
    {
     "name": "stdout",
     "output_type": "stream",
     "text": [
      "\n",
      "**********************************************************************\n",
      "Working file ../data/usa_00047.xml corresponding to sample 2020\n",
      "**********************************************************************\n",
      "\n"
     ]
    },
    {
     "name": "stderr",
     "output_type": "stream",
     "text": [
      "/home/r/remuszka/.conda/envs/ImmigrationTfp/lib/python3.12/site-packages/ipumspy/readers.py:70: CitationWarning: Use of data from IPUMS is subject to conditions including that users should cite the data appropriately.\n",
      "See the `ipums_conditions` attribute of this codebook for terms of use.\n",
      "See the `ipums_citation` attribute of this codebook for the appropriate citation.\n",
      "  warnings.warn(\n"
     ]
    },
    {
     "name": "stdout",
     "output_type": "stream",
     "text": [
      "\n",
      "**********************************************************************\n",
      "Working file ../data/usa_00048.xml corresponding to sample 2021\n",
      "**********************************************************************\n",
      "\n"
     ]
    },
    {
     "name": "stderr",
     "output_type": "stream",
     "text": [
      "/home/r/remuszka/.conda/envs/ImmigrationTfp/lib/python3.12/site-packages/ipumspy/readers.py:70: CitationWarning: Use of data from IPUMS is subject to conditions including that users should cite the data appropriately.\n",
      "See the `ipums_conditions` attribute of this codebook for terms of use.\n",
      "See the `ipums_citation` attribute of this codebook for the appropriate citation.\n",
      "  warnings.warn(\n"
     ]
    },
    {
     "name": "stdout",
     "output_type": "stream",
     "text": [
      "\n",
      "**********************************************************************\n",
      "Working file ../data/usa_00050.xml corresponding to sample 2023\n",
      "**********************************************************************\n",
      "\n"
     ]
    },
    {
     "name": "stderr",
     "output_type": "stream",
     "text": [
      "/home/r/remuszka/.conda/envs/ImmigrationTfp/lib/python3.12/site-packages/ipumspy/readers.py:70: CitationWarning: Use of data from IPUMS is subject to conditions including that users should cite the data appropriately.\n",
      "See the `ipums_conditions` attribute of this codebook for terms of use.\n",
      "See the `ipums_citation` attribute of this codebook for the appropriate citation.\n",
      "  warnings.warn(\n"
     ]
    },
    {
     "name": "stdout",
     "output_type": "stream",
     "text": [
      "\n",
      "**********************************************************************\n",
      "Working file ../data/usa_00031.xml corresponding to sample 1950\n",
      "**********************************************************************\n",
      "\n",
      "\n",
      "**********************************************************************\n",
      "Skipping 1950 for now\n",
      "**********************************************************************\n",
      "\n"
     ]
    },
    {
     "name": "stderr",
     "output_type": "stream",
     "text": [
      "/home/r/remuszka/.conda/envs/ImmigrationTfp/lib/python3.12/site-packages/ipumspy/readers.py:70: CitationWarning: Use of data from IPUMS is subject to conditions including that users should cite the data appropriately.\n",
      "See the `ipums_conditions` attribute of this codebook for terms of use.\n",
      "See the `ipums_citation` attribute of this codebook for the appropriate citation.\n",
      "  warnings.warn(\n"
     ]
    },
    {
     "name": "stdout",
     "output_type": "stream",
     "text": [
      "\n",
      "**********************************************************************\n",
      "Working file ../data/usa_00032.xml corresponding to sample 2005\n",
      "**********************************************************************\n",
      "\n"
     ]
    },
    {
     "name": "stderr",
     "output_type": "stream",
     "text": [
      "/home/r/remuszka/.conda/envs/ImmigrationTfp/lib/python3.12/site-packages/ipumspy/readers.py:70: CitationWarning: Use of data from IPUMS is subject to conditions including that users should cite the data appropriately.\n",
      "See the `ipums_conditions` attribute of this codebook for terms of use.\n",
      "See the `ipums_citation` attribute of this codebook for the appropriate citation.\n",
      "  warnings.warn(\n"
     ]
    },
    {
     "name": "stdout",
     "output_type": "stream",
     "text": [
      "\n",
      "**********************************************************************\n",
      "Working file ../data/usa_00033.xml corresponding to sample 2006\n",
      "**********************************************************************\n",
      "\n"
     ]
    },
    {
     "name": "stderr",
     "output_type": "stream",
     "text": [
      "/home/r/remuszka/.conda/envs/ImmigrationTfp/lib/python3.12/site-packages/ipumspy/readers.py:70: CitationWarning: Use of data from IPUMS is subject to conditions including that users should cite the data appropriately.\n",
      "See the `ipums_conditions` attribute of this codebook for terms of use.\n",
      "See the `ipums_citation` attribute of this codebook for the appropriate citation.\n",
      "  warnings.warn(\n"
     ]
    },
    {
     "name": "stdout",
     "output_type": "stream",
     "text": [
      "\n",
      "**********************************************************************\n",
      "Working file ../data/usa_00034.xml corresponding to sample 2007\n",
      "**********************************************************************\n",
      "\n"
     ]
    },
    {
     "name": "stderr",
     "output_type": "stream",
     "text": [
      "/home/r/remuszka/.conda/envs/ImmigrationTfp/lib/python3.12/site-packages/ipumspy/readers.py:70: CitationWarning: Use of data from IPUMS is subject to conditions including that users should cite the data appropriately.\n",
      "See the `ipums_conditions` attribute of this codebook for terms of use.\n",
      "See the `ipums_citation` attribute of this codebook for the appropriate citation.\n",
      "  warnings.warn(\n"
     ]
    },
    {
     "name": "stdout",
     "output_type": "stream",
     "text": [
      "\n",
      "**********************************************************************\n",
      "Working file ../data/usa_00035.xml corresponding to sample 2008\n",
      "**********************************************************************\n",
      "\n"
     ]
    },
    {
     "name": "stderr",
     "output_type": "stream",
     "text": [
      "/home/r/remuszka/.conda/envs/ImmigrationTfp/lib/python3.12/site-packages/ipumspy/readers.py:70: CitationWarning: Use of data from IPUMS is subject to conditions including that users should cite the data appropriately.\n",
      "See the `ipums_conditions` attribute of this codebook for terms of use.\n",
      "See the `ipums_citation` attribute of this codebook for the appropriate citation.\n",
      "  warnings.warn(\n"
     ]
    },
    {
     "name": "stdout",
     "output_type": "stream",
     "text": [
      "\n",
      "**********************************************************************\n",
      "Working file ../data/usa_00036.xml corresponding to sample 2009\n",
      "**********************************************************************\n",
      "\n"
     ]
    },
    {
     "name": "stderr",
     "output_type": "stream",
     "text": [
      "/home/r/remuszka/.conda/envs/ImmigrationTfp/lib/python3.12/site-packages/ipumspy/readers.py:70: CitationWarning: Use of data from IPUMS is subject to conditions including that users should cite the data appropriately.\n",
      "See the `ipums_conditions` attribute of this codebook for terms of use.\n",
      "See the `ipums_citation` attribute of this codebook for the appropriate citation.\n",
      "  warnings.warn(\n"
     ]
    },
    {
     "name": "stdout",
     "output_type": "stream",
     "text": [
      "\n",
      "**********************************************************************\n",
      "Working file ../data/usa_00037.xml corresponding to sample 2010\n",
      "**********************************************************************\n",
      "\n"
     ]
    },
    {
     "name": "stderr",
     "output_type": "stream",
     "text": [
      "/home/r/remuszka/.conda/envs/ImmigrationTfp/lib/python3.12/site-packages/ipumspy/readers.py:70: CitationWarning: Use of data from IPUMS is subject to conditions including that users should cite the data appropriately.\n",
      "See the `ipums_conditions` attribute of this codebook for terms of use.\n",
      "See the `ipums_citation` attribute of this codebook for the appropriate citation.\n",
      "  warnings.warn(\n"
     ]
    },
    {
     "name": "stdout",
     "output_type": "stream",
     "text": [
      "\n",
      "**********************************************************************\n",
      "Working file ../data/usa_00038.xml corresponding to sample 2011\n",
      "**********************************************************************\n",
      "\n"
     ]
    },
    {
     "name": "stderr",
     "output_type": "stream",
     "text": [
      "/home/r/remuszka/.conda/envs/ImmigrationTfp/lib/python3.12/site-packages/ipumspy/readers.py:70: CitationWarning: Use of data from IPUMS is subject to conditions including that users should cite the data appropriately.\n",
      "See the `ipums_conditions` attribute of this codebook for terms of use.\n",
      "See the `ipums_citation` attribute of this codebook for the appropriate citation.\n",
      "  warnings.warn(\n"
     ]
    },
    {
     "name": "stdout",
     "output_type": "stream",
     "text": [
      "\n",
      "**********************************************************************\n",
      "Working file ../data/usa_00039.xml corresponding to sample 2012\n",
      "**********************************************************************\n",
      "\n"
     ]
    },
    {
     "name": "stderr",
     "output_type": "stream",
     "text": [
      "/home/r/remuszka/.conda/envs/ImmigrationTfp/lib/python3.12/site-packages/ipumspy/readers.py:70: CitationWarning: Use of data from IPUMS is subject to conditions including that users should cite the data appropriately.\n",
      "See the `ipums_conditions` attribute of this codebook for terms of use.\n",
      "See the `ipums_citation` attribute of this codebook for the appropriate citation.\n",
      "  warnings.warn(\n"
     ]
    },
    {
     "name": "stdout",
     "output_type": "stream",
     "text": [
      "\n",
      "**********************************************************************\n",
      "Working file ../data/usa_00040.xml corresponding to sample 2013\n",
      "**********************************************************************\n",
      "\n"
     ]
    },
    {
     "name": "stderr",
     "output_type": "stream",
     "text": [
      "/home/r/remuszka/.conda/envs/ImmigrationTfp/lib/python3.12/site-packages/ipumspy/readers.py:70: CitationWarning: Use of data from IPUMS is subject to conditions including that users should cite the data appropriately.\n",
      "See the `ipums_conditions` attribute of this codebook for terms of use.\n",
      "See the `ipums_citation` attribute of this codebook for the appropriate citation.\n",
      "  warnings.warn(\n"
     ]
    },
    {
     "name": "stdout",
     "output_type": "stream",
     "text": [
      "\n",
      "**********************************************************************\n",
      "Working file ../data/usa_00041.xml corresponding to sample 2014\n",
      "**********************************************************************\n",
      "\n"
     ]
    },
    {
     "name": "stderr",
     "output_type": "stream",
     "text": [
      "/home/r/remuszka/.conda/envs/ImmigrationTfp/lib/python3.12/site-packages/ipumspy/readers.py:70: CitationWarning: Use of data from IPUMS is subject to conditions including that users should cite the data appropriately.\n",
      "See the `ipums_conditions` attribute of this codebook for terms of use.\n",
      "See the `ipums_citation` attribute of this codebook for the appropriate citation.\n",
      "  warnings.warn(\n"
     ]
    },
    {
     "name": "stdout",
     "output_type": "stream",
     "text": [
      "\n",
      "**********************************************************************\n",
      "Working file ../data/usa_00042.xml corresponding to sample 2015\n",
      "**********************************************************************\n",
      "\n"
     ]
    },
    {
     "name": "stderr",
     "output_type": "stream",
     "text": [
      "/home/r/remuszka/.conda/envs/ImmigrationTfp/lib/python3.12/site-packages/ipumspy/readers.py:70: CitationWarning: Use of data from IPUMS is subject to conditions including that users should cite the data appropriately.\n",
      "See the `ipums_conditions` attribute of this codebook for terms of use.\n",
      "See the `ipums_citation` attribute of this codebook for the appropriate citation.\n",
      "  warnings.warn(\n"
     ]
    },
    {
     "name": "stdout",
     "output_type": "stream",
     "text": [
      "\n",
      "**********************************************************************\n",
      "Working file ../data/usa_00043.xml corresponding to sample 2016\n",
      "**********************************************************************\n",
      "\n"
     ]
    },
    {
     "name": "stderr",
     "output_type": "stream",
     "text": [
      "/home/r/remuszka/.conda/envs/ImmigrationTfp/lib/python3.12/site-packages/ipumspy/readers.py:70: CitationWarning: Use of data from IPUMS is subject to conditions including that users should cite the data appropriately.\n",
      "See the `ipums_conditions` attribute of this codebook for terms of use.\n",
      "See the `ipums_citation` attribute of this codebook for the appropriate citation.\n",
      "  warnings.warn(\n"
     ]
    },
    {
     "name": "stdout",
     "output_type": "stream",
     "text": [
      "\n",
      "**********************************************************************\n",
      "Working file ../data/usa_00044.xml corresponding to sample 2017\n",
      "**********************************************************************\n",
      "\n"
     ]
    },
    {
     "name": "stderr",
     "output_type": "stream",
     "text": [
      "/home/r/remuszka/.conda/envs/ImmigrationTfp/lib/python3.12/site-packages/ipumspy/readers.py:70: CitationWarning: Use of data from IPUMS is subject to conditions including that users should cite the data appropriately.\n",
      "See the `ipums_conditions` attribute of this codebook for terms of use.\n",
      "See the `ipums_citation` attribute of this codebook for the appropriate citation.\n",
      "  warnings.warn(\n"
     ]
    },
    {
     "name": "stdout",
     "output_type": "stream",
     "text": [
      "\n",
      "**********************************************************************\n",
      "Working file ../data/usa_00045.xml corresponding to sample 2018\n",
      "**********************************************************************\n",
      "\n"
     ]
    },
    {
     "name": "stderr",
     "output_type": "stream",
     "text": [
      "/home/r/remuszka/.conda/envs/ImmigrationTfp/lib/python3.12/site-packages/ipumspy/readers.py:70: CitationWarning: Use of data from IPUMS is subject to conditions including that users should cite the data appropriately.\n",
      "See the `ipums_conditions` attribute of this codebook for terms of use.\n",
      "See the `ipums_citation` attribute of this codebook for the appropriate citation.\n",
      "  warnings.warn(\n"
     ]
    },
    {
     "name": "stdout",
     "output_type": "stream",
     "text": [
      "\n",
      "**********************************************************************\n",
      "Working file ../data/usa_00049.xml corresponding to sample 2022\n",
      "**********************************************************************\n",
      "\n"
     ]
    }
   ],
   "source": [
    "DataByCounty = pd.DataFrame()\n",
    "DataDir = Path(Paths['data'])\n",
    "Files = list(DataDir.glob(\"*.xml\"))\n",
    "AggGroups = [['foreign01','fulltime01','fipcode'],\n",
    "             ['foreign01','fulltime02','fipcode'],\n",
    "             ['foreign02','fulltime01','fipcode'],\n",
    "             ['foreign02','fulltime02','fipcode']]\n",
    "\n",
    "for f in Files:\n",
    "\n",
    "    # Get the Data dictionary\n",
    "    ddi = readers.read_ipums_ddi(f)\n",
    "    \n",
    "    # Read data into data frame\n",
    "    ipums_df = readers.read_microdata(ddi, DataDir / ddi.file_description.filename)\n",
    "    \n",
    "    print('\\n**********************************************************************\\n' +\n",
    "    f'Working file {f} corresponding to sample ' + str(ipums_df['YEAR'][0]) +\n",
    "    '\\n**********************************************************************\\n')\n",
    "\n",
    "    try :\n",
    "\n",
    "        # Clean the data - IpumsTidy() is defined in Functions.py\n",
    "        ipums_tidy = IpumsTidy(ipums_df)\n",
    "\n",
    "    except :\n",
    "        print(\n",
    "            '\\n**********************************************************************\\n' +\n",
    "            f'Skipping ' + str(ipums_df['YEAR'][0]) + ' for now'\n",
    "            '\\n**********************************************************************\\n'\n",
    "        )\n",
    "\n",
    "        continue\n",
    "\n",
    "    # We will use this in a moment\n",
    "    year = ipums_tidy['year'].iloc[0]\n",
    "\n",
    "    for g in AggGroups:\n",
    "        Aggregated = (\n",
    "            WeightedSum(ipums_tidy,g) # Defined in the Functions.py file\n",
    "            .query('fulltime == 1')   # Keep only full time workers\n",
    "            .assign(year = year)      # Record the sample year\n",
    "        )\n",
    "        DataByCounty = pd.concat([DataByCounty,Aggregated])\n",
    "    \n"
   ]
  },
  {
   "cell_type": "code",
   "execution_count": 15,
   "metadata": {},
   "outputs": [
    {
     "data": {
      "text/html": [
       "<div>\n",
       "<style scoped>\n",
       "    .dataframe tbody tr th:only-of-type {\n",
       "        vertical-align: middle;\n",
       "    }\n",
       "\n",
       "    .dataframe tbody tr th {\n",
       "        vertical-align: top;\n",
       "    }\n",
       "\n",
       "    .dataframe thead th {\n",
       "        text-align: right;\n",
       "    }\n",
       "</style>\n",
       "<table border=\"1\" class=\"dataframe\">\n",
       "  <thead>\n",
       "    <tr style=\"text-align: right;\">\n",
       "      <th></th>\n",
       "      <th>foreign</th>\n",
       "      <th>fulltime</th>\n",
       "      <th>fipcode</th>\n",
       "      <th>HoursSupplied</th>\n",
       "      <th>BodiesSupplied</th>\n",
       "      <th>met2013</th>\n",
       "      <th>ForeignVar</th>\n",
       "      <th>HoursVar</th>\n",
       "      <th>year</th>\n",
       "    </tr>\n",
       "  </thead>\n",
       "  <tbody>\n",
       "    <tr>\n",
       "      <th>479</th>\n",
       "      <td>0</td>\n",
       "      <td>1</td>\n",
       "      <td>01003</td>\n",
       "      <td>3271716.0</td>\n",
       "      <td>73567.0</td>\n",
       "      <td>19300</td>\n",
       "      <td>01</td>\n",
       "      <td>01</td>\n",
       "      <td>2019-01-01</td>\n",
       "    </tr>\n",
       "    <tr>\n",
       "      <th>480</th>\n",
       "      <td>0</td>\n",
       "      <td>1</td>\n",
       "      <td>01015</td>\n",
       "      <td>1691339.0</td>\n",
       "      <td>36853.0</td>\n",
       "      <td>11500</td>\n",
       "      <td>01</td>\n",
       "      <td>01</td>\n",
       "      <td>2019-01-01</td>\n",
       "    </tr>\n",
       "    <tr>\n",
       "      <th>481</th>\n",
       "      <td>0</td>\n",
       "      <td>1</td>\n",
       "      <td>01055</td>\n",
       "      <td>1461909.0</td>\n",
       "      <td>33207.0</td>\n",
       "      <td>23460</td>\n",
       "      <td>01</td>\n",
       "      <td>01</td>\n",
       "      <td>2019-01-01</td>\n",
       "    </tr>\n",
       "    <tr>\n",
       "      <th>482</th>\n",
       "      <td>0</td>\n",
       "      <td>1</td>\n",
       "      <td>01073</td>\n",
       "      <td>10216184.0</td>\n",
       "      <td>227003.0</td>\n",
       "      <td>13820</td>\n",
       "      <td>01</td>\n",
       "      <td>01</td>\n",
       "      <td>2019-01-01</td>\n",
       "    </tr>\n",
       "    <tr>\n",
       "      <th>483</th>\n",
       "      <td>0</td>\n",
       "      <td>1</td>\n",
       "      <td>01081</td>\n",
       "      <td>2557082.0</td>\n",
       "      <td>57355.0</td>\n",
       "      <td>12220</td>\n",
       "      <td>01</td>\n",
       "      <td>01</td>\n",
       "      <td>2019-01-01</td>\n",
       "    </tr>\n",
       "  </tbody>\n",
       "</table>\n",
       "</div>"
      ],
      "text/plain": [
       "     foreign  fulltime fipcode  HoursSupplied  BodiesSupplied met2013  \\\n",
       "479        0         1   01003      3271716.0         73567.0   19300   \n",
       "480        0         1   01015      1691339.0         36853.0   11500   \n",
       "481        0         1   01055      1461909.0         33207.0   23460   \n",
       "482        0         1   01073     10216184.0        227003.0   13820   \n",
       "483        0         1   01081      2557082.0         57355.0   12220   \n",
       "\n",
       "    ForeignVar HoursVar       year  \n",
       "479         01       01 2019-01-01  \n",
       "480         01       01 2019-01-01  \n",
       "481         01       01 2019-01-01  \n",
       "482         01       01 2019-01-01  \n",
       "483         01       01 2019-01-01  "
      ]
     },
     "execution_count": 15,
     "metadata": {},
     "output_type": "execute_result"
    }
   ],
   "source": [
    "# Drop missing counties\n",
    "DataByCounty = DataByCounty.pipe(lambda x: x.loc[x['fipcode'].str[-3:] != '000'])"
   ]
  },
  {
   "cell_type": "code",
   "execution_count": 10,
   "metadata": {},
   "outputs": [
    {
     "data": {
      "text/html": [
       "<div>\n",
       "<style scoped>\n",
       "    .dataframe tbody tr th:only-of-type {\n",
       "        vertical-align: middle;\n",
       "    }\n",
       "\n",
       "    .dataframe tbody tr th {\n",
       "        vertical-align: top;\n",
       "    }\n",
       "\n",
       "    .dataframe thead th {\n",
       "        text-align: right;\n",
       "    }\n",
       "</style>\n",
       "<table border=\"1\" class=\"dataframe\">\n",
       "  <thead>\n",
       "    <tr style=\"text-align: right;\">\n",
       "      <th></th>\n",
       "      <th>foreign</th>\n",
       "      <th>fulltime</th>\n",
       "      <th>fipcode</th>\n",
       "      <th>HoursSupplied</th>\n",
       "      <th>BodiesSupplied</th>\n",
       "      <th>met2013</th>\n",
       "      <th>ForeignVar</th>\n",
       "      <th>HoursVar</th>\n",
       "      <th>year</th>\n",
       "    </tr>\n",
       "  </thead>\n",
       "  <tbody>\n",
       "    <tr>\n",
       "      <th>478</th>\n",
       "      <td>0</td>\n",
       "      <td>1</td>\n",
       "      <td>01000</td>\n",
       "      <td>44057754.0</td>\n",
       "      <td>996624.0</td>\n",
       "      <td>33860</td>\n",
       "      <td>01</td>\n",
       "      <td>01</td>\n",
       "      <td>2019-01-01</td>\n",
       "    </tr>\n",
       "    <tr>\n",
       "      <th>479</th>\n",
       "      <td>0</td>\n",
       "      <td>1</td>\n",
       "      <td>01003</td>\n",
       "      <td>3271716.0</td>\n",
       "      <td>73567.0</td>\n",
       "      <td>19300</td>\n",
       "      <td>01</td>\n",
       "      <td>01</td>\n",
       "      <td>2019-01-01</td>\n",
       "    </tr>\n",
       "    <tr>\n",
       "      <th>480</th>\n",
       "      <td>0</td>\n",
       "      <td>1</td>\n",
       "      <td>01015</td>\n",
       "      <td>1691339.0</td>\n",
       "      <td>36853.0</td>\n",
       "      <td>11500</td>\n",
       "      <td>01</td>\n",
       "      <td>01</td>\n",
       "      <td>2019-01-01</td>\n",
       "    </tr>\n",
       "    <tr>\n",
       "      <th>481</th>\n",
       "      <td>0</td>\n",
       "      <td>1</td>\n",
       "      <td>01055</td>\n",
       "      <td>1461909.0</td>\n",
       "      <td>33207.0</td>\n",
       "      <td>23460</td>\n",
       "      <td>01</td>\n",
       "      <td>01</td>\n",
       "      <td>2019-01-01</td>\n",
       "    </tr>\n",
       "    <tr>\n",
       "      <th>482</th>\n",
       "      <td>0</td>\n",
       "      <td>1</td>\n",
       "      <td>01073</td>\n",
       "      <td>10216184.0</td>\n",
       "      <td>227003.0</td>\n",
       "      <td>13820</td>\n",
       "      <td>01</td>\n",
       "      <td>01</td>\n",
       "      <td>2019-01-01</td>\n",
       "    </tr>\n",
       "  </tbody>\n",
       "</table>\n",
       "</div>"
      ],
      "text/plain": [
       "     foreign  fulltime fipcode  HoursSupplied  BodiesSupplied met2013  \\\n",
       "478        0         1   01000     44057754.0        996624.0   33860   \n",
       "479        0         1   01003      3271716.0         73567.0   19300   \n",
       "480        0         1   01015      1691339.0         36853.0   11500   \n",
       "481        0         1   01055      1461909.0         33207.0   23460   \n",
       "482        0         1   01073     10216184.0        227003.0   13820   \n",
       "\n",
       "    ForeignVar HoursVar       year  \n",
       "478         01       01 2019-01-01  \n",
       "479         01       01 2019-01-01  \n",
       "480         01       01 2019-01-01  \n",
       "481         01       01 2019-01-01  \n",
       "482         01       01 2019-01-01  "
      ]
     },
     "execution_count": 10,
     "metadata": {},
     "output_type": "execute_result"
    }
   ],
   "source": [
    "DataByCounty.to_csv(Paths['data'] + '/LaborByCounty.csv', index = False)\n",
    "DataByCounty.head()"
   ]
  },
  {
   "cell_type": "markdown",
   "metadata": {},
   "source": [
    "# Cleaning BEA\n",
    "Now I clean the BEA county-level GDP data. While we have this series from 2001 onward, the sample period is 2005 onward because the smallest level of geography avaiable in the ACS Ipums extracts is larger than a county before 2005. You can read about the samples [here](https://usa.ipums.org/usa-action/samples)"
   ]
  },
  {
   "cell_type": "code",
   "execution_count": 35,
   "metadata": {},
   "outputs": [
    {
     "data": {
      "text/html": [
       "<div>\n",
       "<style scoped>\n",
       "    .dataframe tbody tr th:only-of-type {\n",
       "        vertical-align: middle;\n",
       "    }\n",
       "\n",
       "    .dataframe tbody tr th {\n",
       "        vertical-align: top;\n",
       "    }\n",
       "\n",
       "    .dataframe thead th {\n",
       "        text-align: right;\n",
       "    }\n",
       "</style>\n",
       "<table border=\"1\" class=\"dataframe\">\n",
       "  <thead>\n",
       "    <tr style=\"text-align: right;\">\n",
       "      <th></th>\n",
       "      <th>County Name</th>\n",
       "      <th>YNom</th>\n",
       "      <th>year</th>\n",
       "      <th>fipcode</th>\n",
       "    </tr>\n",
       "  </thead>\n",
       "  <tbody>\n",
       "    <tr>\n",
       "      <th>4</th>\n",
       "      <td>Autauga, AL</td>\n",
       "      <td>1015320</td>\n",
       "      <td>2005-01-01</td>\n",
       "      <td>01001</td>\n",
       "    </tr>\n",
       "    <tr>\n",
       "      <th>5</th>\n",
       "      <td>Autauga, AL</td>\n",
       "      <td>1124089</td>\n",
       "      <td>2006-01-01</td>\n",
       "      <td>01001</td>\n",
       "    </tr>\n",
       "    <tr>\n",
       "      <th>6</th>\n",
       "      <td>Autauga, AL</td>\n",
       "      <td>1182234</td>\n",
       "      <td>2007-01-01</td>\n",
       "      <td>01001</td>\n",
       "    </tr>\n",
       "    <tr>\n",
       "      <th>7</th>\n",
       "      <td>Autauga, AL</td>\n",
       "      <td>1097703</td>\n",
       "      <td>2008-01-01</td>\n",
       "      <td>01001</td>\n",
       "    </tr>\n",
       "    <tr>\n",
       "      <th>8</th>\n",
       "      <td>Autauga, AL</td>\n",
       "      <td>1175769</td>\n",
       "      <td>2009-01-01</td>\n",
       "      <td>01001</td>\n",
       "    </tr>\n",
       "  </tbody>\n",
       "</table>\n",
       "</div>"
      ],
      "text/plain": [
       "   County Name     YNom       year fipcode\n",
       "4  Autauga, AL  1015320 2005-01-01   01001\n",
       "5  Autauga, AL  1124089 2006-01-01   01001\n",
       "6  Autauga, AL  1182234 2007-01-01   01001\n",
       "7  Autauga, AL  1097703 2008-01-01   01001\n",
       "8  Autauga, AL  1175769 2009-01-01   01001"
      ]
     },
     "execution_count": 35,
     "metadata": {},
     "output_type": "execute_result"
    }
   ],
   "source": [
    "Bea_Tidy = (BeaTidy(pd.read_csv(Paths['data'] + '/GdpByCounty.csv', dtype={'fipcode':'object'}))\n",
    "            .assign(year = lambda x: pd.to_datetime(x['year']))\n",
    ")\n",
    "Bea_Tidy = Bea_Tidy[Bea_Tidy['year'] >= '2005-01-01']                # Keep 2005 on\n",
    "Bea_Tidy.head()"
   ]
  },
  {
   "cell_type": "markdown",
   "metadata": {},
   "source": [
    "# Merging County Files"
   ]
  },
  {
   "cell_type": "code",
   "execution_count": 68,
   "metadata": {},
   "outputs": [
    {
     "data": {
      "text/html": [
       "<div>\n",
       "<style scoped>\n",
       "    .dataframe tbody tr th:only-of-type {\n",
       "        vertical-align: middle;\n",
       "    }\n",
       "\n",
       "    .dataframe tbody tr th {\n",
       "        vertical-align: top;\n",
       "    }\n",
       "\n",
       "    .dataframe thead th {\n",
       "        text-align: right;\n",
       "    }\n",
       "</style>\n",
       "<table border=\"1\" class=\"dataframe\">\n",
       "  <thead>\n",
       "    <tr style=\"text-align: right;\">\n",
       "      <th></th>\n",
       "      <th>County Name</th>\n",
       "      <th>YNom</th>\n",
       "      <th>year</th>\n",
       "      <th>fipcode</th>\n",
       "      <th>foreign</th>\n",
       "      <th>fulltime</th>\n",
       "      <th>HoursSupplied</th>\n",
       "      <th>BodiesSupplied</th>\n",
       "      <th>met2013</th>\n",
       "      <th>ForeignVar</th>\n",
       "      <th>HoursVar</th>\n",
       "    </tr>\n",
       "  </thead>\n",
       "  <tbody>\n",
       "    <tr>\n",
       "      <th>19</th>\n",
       "      <td>Baldwin, AL</td>\n",
       "      <td>4717641</td>\n",
       "      <td>2005-01-01</td>\n",
       "      <td>01003</td>\n",
       "      <td>0.0</td>\n",
       "      <td>1.0</td>\n",
       "      <td>2775692.0</td>\n",
       "      <td>61994.0</td>\n",
       "      <td>19300</td>\n",
       "      <td>1.0</td>\n",
       "      <td>1.0</td>\n",
       "    </tr>\n",
       "    <tr>\n",
       "      <th>20</th>\n",
       "      <td>Baldwin, AL</td>\n",
       "      <td>4717641</td>\n",
       "      <td>2005-01-01</td>\n",
       "      <td>01003</td>\n",
       "      <td>1.0</td>\n",
       "      <td>1.0</td>\n",
       "      <td>97048.0</td>\n",
       "      <td>2245.0</td>\n",
       "      <td>19300</td>\n",
       "      <td>1.0</td>\n",
       "      <td>1.0</td>\n",
       "    </tr>\n",
       "    <tr>\n",
       "      <th>21</th>\n",
       "      <td>Baldwin, AL</td>\n",
       "      <td>4717641</td>\n",
       "      <td>2005-01-01</td>\n",
       "      <td>01003</td>\n",
       "      <td>0.0</td>\n",
       "      <td>1.0</td>\n",
       "      <td>2910383.0</td>\n",
       "      <td>65770.0</td>\n",
       "      <td>19300</td>\n",
       "      <td>1.0</td>\n",
       "      <td>2.0</td>\n",
       "    </tr>\n",
       "    <tr>\n",
       "      <th>22</th>\n",
       "      <td>Baldwin, AL</td>\n",
       "      <td>4717641</td>\n",
       "      <td>2005-01-01</td>\n",
       "      <td>01003</td>\n",
       "      <td>1.0</td>\n",
       "      <td>1.0</td>\n",
       "      <td>97048.0</td>\n",
       "      <td>2245.0</td>\n",
       "      <td>19300</td>\n",
       "      <td>1.0</td>\n",
       "      <td>2.0</td>\n",
       "    </tr>\n",
       "    <tr>\n",
       "      <th>23</th>\n",
       "      <td>Baldwin, AL</td>\n",
       "      <td>4717641</td>\n",
       "      <td>2005-01-01</td>\n",
       "      <td>01003</td>\n",
       "      <td>0.0</td>\n",
       "      <td>1.0</td>\n",
       "      <td>2778332.0</td>\n",
       "      <td>62060.0</td>\n",
       "      <td>19300</td>\n",
       "      <td>2.0</td>\n",
       "      <td>1.0</td>\n",
       "    </tr>\n",
       "  </tbody>\n",
       "</table>\n",
       "</div>"
      ],
      "text/plain": [
       "    County Name     YNom       year fipcode  foreign  fulltime  HoursSupplied  \\\n",
       "19  Baldwin, AL  4717641 2005-01-01   01003      0.0       1.0      2775692.0   \n",
       "20  Baldwin, AL  4717641 2005-01-01   01003      1.0       1.0        97048.0   \n",
       "21  Baldwin, AL  4717641 2005-01-01   01003      0.0       1.0      2910383.0   \n",
       "22  Baldwin, AL  4717641 2005-01-01   01003      1.0       1.0        97048.0   \n",
       "23  Baldwin, AL  4717641 2005-01-01   01003      0.0       1.0      2778332.0   \n",
       "\n",
       "    BodiesSupplied met2013  ForeignVar  HoursVar  \n",
       "19         61994.0   19300         1.0       1.0  \n",
       "20          2245.0   19300         1.0       1.0  \n",
       "21         65770.0   19300         1.0       2.0  \n",
       "22          2245.0   19300         1.0       2.0  \n",
       "23         62060.0   19300         2.0       1.0  "
      ]
     },
     "execution_count": 68,
     "metadata": {},
     "output_type": "execute_result"
    }
   ],
   "source": [
    "DataByCounty = (pd.read_csv(Paths['data'] + '/LaborByCounty.csv', dtype={'fipcode':'object','met2013':'object'})\n",
    "                .assign(year = lambda x: pd.to_datetime(x['year']))\n",
    ")\n",
    "Merged = (pd.merge(Bea_Tidy,DataByCounty, on = ['fipcode','year'], how = 'left', indicator = True)\n",
    "         .assign(met2013 = lambda x: x['met2013'].astype(str)) # Don't use NaN for missing values\n",
    "         .pipe(lambda x: x.loc[x['_merge'] != 'left_only'])           # Keep only the matches\n",
    "         .drop(columns = ['_merge'])\n",
    "         )         \n",
    "Merged.head()"
   ]
  },
  {
   "cell_type": "code",
   "execution_count": 69,
   "metadata": {},
   "outputs": [
    {
     "name": "stdout",
     "output_type": "stream",
     "text": [
      "COUNTIES ACCOUNTED FOR: 452\n",
      "MSAs ACCOUNTED FOR: 242\n"
     ]
    }
   ],
   "source": [
    "print(  # How many counties are represented?\n",
    "'COUNTIES ACCOUNTED FOR: ' + str(len(np.unique(Merged['fipcode']))) + '\\n'\n",
    "'MSAs ACCOUNTED FOR: ' + str(len(np.unique(Merged['met2013'])))\n",
    ")"
   ]
  },
  {
   "cell_type": "markdown",
   "metadata": {},
   "source": [
    "There are 242 MSAs in our estimation sample. Unfortunately, there really aren't that many counties..."
   ]
  },
  {
   "cell_type": "markdown",
   "metadata": {},
   "source": [
    "# Merge CBSA and MSA Titles From Census"
   ]
  },
  {
   "cell_type": "code",
   "execution_count": 70,
   "metadata": {},
   "outputs": [],
   "source": [
    "CbsaTitles = (pd.read_excel(Paths['data'] + '/CBSA_2013_Census_Bureau_Delineation_File.xls', header=2,\n",
    "                           usecols=['CBSA Code', 'CBSA Title', 'State Name','CSA Title'],\n",
    "                           dtype={'CBSA Code':'object', 'CBSA Title':'object', 'State Name':'object', 'CSA Title':'object'})\n",
    "             .rename(columns={'CBSA Code':'met2013'})\n",
    "             )"
   ]
  },
  {
   "cell_type": "code",
   "execution_count": 71,
   "metadata": {},
   "outputs": [
    {
     "data": {
      "text/html": [
       "<div>\n",
       "<style scoped>\n",
       "    .dataframe tbody tr th:only-of-type {\n",
       "        vertical-align: middle;\n",
       "    }\n",
       "\n",
       "    .dataframe tbody tr th {\n",
       "        vertical-align: top;\n",
       "    }\n",
       "\n",
       "    .dataframe thead th {\n",
       "        text-align: right;\n",
       "    }\n",
       "</style>\n",
       "<table border=\"1\" class=\"dataframe\">\n",
       "  <thead>\n",
       "    <tr style=\"text-align: right;\">\n",
       "      <th></th>\n",
       "      <th>met2013</th>\n",
       "      <th>CBSA Title</th>\n",
       "      <th>CSA Title</th>\n",
       "      <th>State Name</th>\n",
       "    </tr>\n",
       "  </thead>\n",
       "  <tbody>\n",
       "    <tr>\n",
       "      <th>0</th>\n",
       "      <td>10100</td>\n",
       "      <td>Aberdeen, SD</td>\n",
       "      <td>NaN</td>\n",
       "      <td>South Dakota</td>\n",
       "    </tr>\n",
       "    <tr>\n",
       "      <th>1</th>\n",
       "      <td>10100</td>\n",
       "      <td>Aberdeen, SD</td>\n",
       "      <td>NaN</td>\n",
       "      <td>South Dakota</td>\n",
       "    </tr>\n",
       "    <tr>\n",
       "      <th>2</th>\n",
       "      <td>10140</td>\n",
       "      <td>Aberdeen, WA</td>\n",
       "      <td>NaN</td>\n",
       "      <td>Washington</td>\n",
       "    </tr>\n",
       "    <tr>\n",
       "      <th>3</th>\n",
       "      <td>10180</td>\n",
       "      <td>Abilene, TX</td>\n",
       "      <td>NaN</td>\n",
       "      <td>Texas</td>\n",
       "    </tr>\n",
       "    <tr>\n",
       "      <th>4</th>\n",
       "      <td>10180</td>\n",
       "      <td>Abilene, TX</td>\n",
       "      <td>NaN</td>\n",
       "      <td>Texas</td>\n",
       "    </tr>\n",
       "  </tbody>\n",
       "</table>\n",
       "</div>"
      ],
      "text/plain": [
       "  met2013    CBSA Title CSA Title    State Name\n",
       "0   10100  Aberdeen, SD       NaN  South Dakota\n",
       "1   10100  Aberdeen, SD       NaN  South Dakota\n",
       "2   10140  Aberdeen, WA       NaN    Washington\n",
       "3   10180   Abilene, TX       NaN         Texas\n",
       "4   10180   Abilene, TX       NaN         Texas"
      ]
     },
     "execution_count": 71,
     "metadata": {},
     "output_type": "execute_result"
    }
   ],
   "source": [
    "CbsaTitles.head()"
   ]
  },
  {
   "cell_type": "code",
   "execution_count": 72,
   "metadata": {},
   "outputs": [
    {
     "name": "stdout",
     "output_type": "stream",
     "text": [
      "IN COUNTY DATA ONLY: 0\n"
     ]
    }
   ],
   "source": [
    "CountyData = pd.merge(Merged, CbsaTitles, on='met2013', how = 'left', indicator=True)\n",
    "print( # All our MSAs were matched!\n",
    "    'IN COUNTY DATA ONLY: ' + str((CountyData['_merge'] == 'left_only').sum())\n",
    ")\n",
    "CountyData = CountyData.drop(columns=['_merge'])"
   ]
  },
  {
   "cell_type": "markdown",
   "metadata": {},
   "source": [
    "# Merge Price Deflator\n",
    "If you haven't already, you should run the code form the cell title \"Merge County Files\""
   ]
  },
  {
   "cell_type": "code",
   "execution_count": 73,
   "metadata": {},
   "outputs": [
    {
     "data": {
      "text/html": [
       "<div>\n",
       "<style scoped>\n",
       "    .dataframe tbody tr th:only-of-type {\n",
       "        vertical-align: middle;\n",
       "    }\n",
       "\n",
       "    .dataframe tbody tr th {\n",
       "        vertical-align: top;\n",
       "    }\n",
       "\n",
       "    .dataframe thead th {\n",
       "        text-align: right;\n",
       "    }\n",
       "</style>\n",
       "<table border=\"1\" class=\"dataframe\">\n",
       "  <thead>\n",
       "    <tr style=\"text-align: right;\">\n",
       "      <th></th>\n",
       "      <th>CountyName</th>\n",
       "      <th>YNom</th>\n",
       "      <th>year</th>\n",
       "      <th>fipcode</th>\n",
       "      <th>foreign</th>\n",
       "      <th>fulltime</th>\n",
       "      <th>HoursSupplied</th>\n",
       "      <th>BodiesSupplied</th>\n",
       "      <th>met2013</th>\n",
       "      <th>ForeignVar</th>\n",
       "      <th>HoursVar</th>\n",
       "      <th>CbsaName</th>\n",
       "      <th>CsaTitle</th>\n",
       "      <th>StateName</th>\n",
       "      <th>P</th>\n",
       "    </tr>\n",
       "  </thead>\n",
       "  <tbody>\n",
       "    <tr>\n",
       "      <th>0</th>\n",
       "      <td>Baldwin, AL</td>\n",
       "      <td>4717641</td>\n",
       "      <td>2005-01-01</td>\n",
       "      <td>01003</td>\n",
       "      <td>0.0</td>\n",
       "      <td>1.0</td>\n",
       "      <td>2775692.0</td>\n",
       "      <td>61994.0</td>\n",
       "      <td>19300</td>\n",
       "      <td>1.0</td>\n",
       "      <td>1.0</td>\n",
       "      <td>Daphne-Fairhope-Foley, AL</td>\n",
       "      <td>Mobile-Daphne-Fairhope, AL</td>\n",
       "      <td>Alabama</td>\n",
       "      <td>81.556</td>\n",
       "    </tr>\n",
       "    <tr>\n",
       "      <th>1</th>\n",
       "      <td>Baldwin, AL</td>\n",
       "      <td>4717641</td>\n",
       "      <td>2005-01-01</td>\n",
       "      <td>01003</td>\n",
       "      <td>1.0</td>\n",
       "      <td>1.0</td>\n",
       "      <td>97048.0</td>\n",
       "      <td>2245.0</td>\n",
       "      <td>19300</td>\n",
       "      <td>1.0</td>\n",
       "      <td>1.0</td>\n",
       "      <td>Daphne-Fairhope-Foley, AL</td>\n",
       "      <td>Mobile-Daphne-Fairhope, AL</td>\n",
       "      <td>Alabama</td>\n",
       "      <td>81.556</td>\n",
       "    </tr>\n",
       "    <tr>\n",
       "      <th>2</th>\n",
       "      <td>Baldwin, AL</td>\n",
       "      <td>4717641</td>\n",
       "      <td>2005-01-01</td>\n",
       "      <td>01003</td>\n",
       "      <td>0.0</td>\n",
       "      <td>1.0</td>\n",
       "      <td>2910383.0</td>\n",
       "      <td>65770.0</td>\n",
       "      <td>19300</td>\n",
       "      <td>1.0</td>\n",
       "      <td>2.0</td>\n",
       "      <td>Daphne-Fairhope-Foley, AL</td>\n",
       "      <td>Mobile-Daphne-Fairhope, AL</td>\n",
       "      <td>Alabama</td>\n",
       "      <td>81.556</td>\n",
       "    </tr>\n",
       "    <tr>\n",
       "      <th>3</th>\n",
       "      <td>Baldwin, AL</td>\n",
       "      <td>4717641</td>\n",
       "      <td>2005-01-01</td>\n",
       "      <td>01003</td>\n",
       "      <td>1.0</td>\n",
       "      <td>1.0</td>\n",
       "      <td>97048.0</td>\n",
       "      <td>2245.0</td>\n",
       "      <td>19300</td>\n",
       "      <td>1.0</td>\n",
       "      <td>2.0</td>\n",
       "      <td>Daphne-Fairhope-Foley, AL</td>\n",
       "      <td>Mobile-Daphne-Fairhope, AL</td>\n",
       "      <td>Alabama</td>\n",
       "      <td>81.556</td>\n",
       "    </tr>\n",
       "    <tr>\n",
       "      <th>4</th>\n",
       "      <td>Baldwin, AL</td>\n",
       "      <td>4717641</td>\n",
       "      <td>2005-01-01</td>\n",
       "      <td>01003</td>\n",
       "      <td>0.0</td>\n",
       "      <td>1.0</td>\n",
       "      <td>2778332.0</td>\n",
       "      <td>62060.0</td>\n",
       "      <td>19300</td>\n",
       "      <td>2.0</td>\n",
       "      <td>1.0</td>\n",
       "      <td>Daphne-Fairhope-Foley, AL</td>\n",
       "      <td>Mobile-Daphne-Fairhope, AL</td>\n",
       "      <td>Alabama</td>\n",
       "      <td>81.556</td>\n",
       "    </tr>\n",
       "  </tbody>\n",
       "</table>\n",
       "</div>"
      ],
      "text/plain": [
       "    CountyName     YNom       year fipcode  foreign  fulltime  HoursSupplied  \\\n",
       "0  Baldwin, AL  4717641 2005-01-01   01003      0.0       1.0      2775692.0   \n",
       "1  Baldwin, AL  4717641 2005-01-01   01003      1.0       1.0        97048.0   \n",
       "2  Baldwin, AL  4717641 2005-01-01   01003      0.0       1.0      2910383.0   \n",
       "3  Baldwin, AL  4717641 2005-01-01   01003      1.0       1.0        97048.0   \n",
       "4  Baldwin, AL  4717641 2005-01-01   01003      0.0       1.0      2778332.0   \n",
       "\n",
       "   BodiesSupplied met2013  ForeignVar  HoursVar                   CbsaName  \\\n",
       "0         61994.0   19300         1.0       1.0  Daphne-Fairhope-Foley, AL   \n",
       "1          2245.0   19300         1.0       1.0  Daphne-Fairhope-Foley, AL   \n",
       "2         65770.0   19300         1.0       2.0  Daphne-Fairhope-Foley, AL   \n",
       "3          2245.0   19300         1.0       2.0  Daphne-Fairhope-Foley, AL   \n",
       "4         62060.0   19300         2.0       1.0  Daphne-Fairhope-Foley, AL   \n",
       "\n",
       "                     CsaTitle StateName       P  \n",
       "0  Mobile-Daphne-Fairhope, AL   Alabama  81.556  \n",
       "1  Mobile-Daphne-Fairhope, AL   Alabama  81.556  \n",
       "2  Mobile-Daphne-Fairhope, AL   Alabama  81.556  \n",
       "3  Mobile-Daphne-Fairhope, AL   Alabama  81.556  \n",
       "4  Mobile-Daphne-Fairhope, AL   Alabama  81.556  "
      ]
     },
     "execution_count": 73,
     "metadata": {},
     "output_type": "execute_result"
    }
   ],
   "source": [
    "PricesDf = (pd.read_csv(Paths['data'] + '/GdpPriceDeflator.csv')\n",
    "            .assign(year = lambda x: pd.to_datetime(x['Unnamed: 0']))\n",
    "            .drop(columns = ['Unnamed: 0'])\n",
    "            .rename(columns = {'0':'P'})\n",
    "            )\n",
    "CountyData = pd.merge(CountyData,PricesDf,on='year', how = 'left', indicator=False) # All observations in CountyData Matched\n",
    "\n",
    "# SAVING to CSV\n",
    "CountyData.to_csv(Paths['data'] + '/CountyData.csv', index = False)\n",
    "\n",
    "# Saving to .dta\n",
    "CountyData = CountyData.rename(columns={'County Name':'CountyName','CBSA Title':'CbsaName', 'State Name':'StateName','CSA Title':'CsaTitle'})\n",
    "CountyData.to_stata(Paths['data'] + '/CountyData.dta', write_index=False, convert_dates={'year':'ty'})\n",
    "\n",
    "# Displaying\n",
    "CountyData.head()"
   ]
  }
 ],
 "metadata": {
  "kernelspec": {
   "display_name": "ImmigrationTfp",
   "language": "python",
   "name": "python3"
  },
  "language_info": {
   "codemirror_mode": {
    "name": "ipython",
    "version": 3
   },
   "file_extension": ".py",
   "mimetype": "text/x-python",
   "name": "python",
   "nbconvert_exporter": "python",
   "pygments_lexer": "ipython3",
   "version": "3.12.8"
  }
 },
 "nbformat": 4,
 "nbformat_minor": 2
}
