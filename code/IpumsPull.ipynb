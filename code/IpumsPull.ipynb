{
 "cells": [
  {
   "cell_type": "markdown",
   "metadata": {},
   "source": [
    "# IPUMS Pull\n",
    "See the [documentation](https://ipumspy.readthedocs.io/en/stable/getting_started.html) for how to use ipumspy."
   ]
  },
  {
   "cell_type": "code",
   "execution_count": null,
   "metadata": {},
   "outputs": [
    {
     "name": "stderr",
     "output_type": "stream",
     "text": [
      "/home/r/remuszka/.conda/envs/ImmigrationTfp/lib/python3.12/site-packages/ipumspy/readers.py:70: CitationWarning: Use of data from IPUMS is subject to conditions including that users should cite the data appropriately.\n",
      "See the `ipums_conditions` attribute of this codebook for terms of use.\n",
      "See the `ipums_citation` attribute of this codebook for the appropriate citation.\n",
      "  warnings.warn(\n"
     ]
    }
   ],
   "source": [
    "import pandas as pd\n",
    "import numpy as np\n",
    "from ipumspy import IpumsApiClient, MicrodataExtract, readers, ddi\n",
    "from Credentials import MyCredentials\n",
    "from Functions import Paths as P\n",
    "from pathlib import Path\n",
    "\n",
    "DataDir = Path(P['data'])\n",
    "\n",
    "# Connect to API\n",
    "ipums = IpumsApiClient(MyCredentials['IpumsApiKey'])\n",
    "\n",
    "# Create sample list\n",
    "Years1 = list(range(1950,1960,10))\n",
    "Years2 = list(range(2005,2024))\n",
    "\n",
    "# Create variable list\n",
    "Vars = ['STATEFIP','COUNTYFIP', 'CITIZEN', 'EDUC', 'OCC', 'OCC1950','OCC1990', 'OCC2010', 'OCCSOC',\n",
    "        'INDNAICS','UHRSWORK', 'PERWT']\n",
    "SampleList = ['us' + str(year) + 'a' for year in Years1 + Years2] # Census 1% and ACS samples (from 2001 onward)\n",
    "\n",
    "# Create extract\n",
    "extract = MicrodataExtract('usa', SampleList, Vars)\n",
    "\n",
    "# Submit the extract\n",
    "ipums.submit_extract(extract)\n",
    "ipums.wait_for_extract(extract)\n",
    "ipums.download_extract(extract, download_dir=DataDir)\n",
    "\n",
    "# Get the DDI\n",
    "ddi_file = list(DataDir.glob(\"*.xml\"))[0]\n",
    "ddi = readers.read_ipums_ddi(ddi_file)\n",
    "\n",
    "# Get the data\n",
    "#ipums_df = readers.read_microdata(ddi, DataDir / ddi.file_description.filename)"
   ]
  },
  {
   "cell_type": "code",
   "execution_count": null,
   "metadata": {},
   "outputs": [],
   "source": []
  }
 ],
 "metadata": {
  "language_info": {
   "name": "python"
  }
 },
 "nbformat": 4,
 "nbformat_minor": 2
}
